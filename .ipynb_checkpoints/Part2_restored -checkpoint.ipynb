{
 "cells": [
  {
   "cell_type": "code",
   "execution_count": 1,
   "metadata": {},
   "outputs": [],
   "source": [
    "import pandas as pd\n"
   ]
  },
  {
   "cell_type": "code",
   "execution_count": 2,
   "metadata": {},
   "outputs": [],
   "source": [
    "train_data = pd.read_csv('credit.data/creditdefault_train.csv')\n",
    "test_data = pd.read_csv('credit.data/creditdefault_test.csv')\n"
   ]
  },
  {
   "cell_type": "code",
   "execution_count": 3,
   "metadata": {},
   "outputs": [
    {
     "data": {
      "text/html": [
       "<div>\n",
       "<style scoped>\n",
       "    .dataframe tbody tr th:only-of-type {\n",
       "        vertical-align: middle;\n",
       "    }\n",
       "\n",
       "    .dataframe tbody tr th {\n",
       "        vertical-align: top;\n",
       "    }\n",
       "\n",
       "    .dataframe thead th {\n",
       "        text-align: right;\n",
       "    }\n",
       "</style>\n",
       "<table border=\"1\" class=\"dataframe\">\n",
       "  <thead>\n",
       "    <tr style=\"text-align: right;\">\n",
       "      <th></th>\n",
       "      <th>Y</th>\n",
       "      <th>X1</th>\n",
       "      <th>X2</th>\n",
       "      <th>X3</th>\n",
       "      <th>X4</th>\n",
       "      <th>X5</th>\n",
       "      <th>X6</th>\n",
       "      <th>X7</th>\n",
       "      <th>X8</th>\n",
       "      <th>X9</th>\n",
       "      <th>...</th>\n",
       "      <th>X14</th>\n",
       "      <th>X15</th>\n",
       "      <th>X16</th>\n",
       "      <th>X17</th>\n",
       "      <th>X18</th>\n",
       "      <th>X19</th>\n",
       "      <th>X20</th>\n",
       "      <th>X21</th>\n",
       "      <th>X22</th>\n",
       "      <th>X23</th>\n",
       "    </tr>\n",
       "  </thead>\n",
       "  <tbody>\n",
       "    <tr>\n",
       "      <th>0</th>\n",
       "      <td>1</td>\n",
       "      <td>20000</td>\n",
       "      <td>2</td>\n",
       "      <td>2</td>\n",
       "      <td>1</td>\n",
       "      <td>24</td>\n",
       "      <td>2</td>\n",
       "      <td>2</td>\n",
       "      <td>-1</td>\n",
       "      <td>-1</td>\n",
       "      <td>...</td>\n",
       "      <td>689</td>\n",
       "      <td>0</td>\n",
       "      <td>0</td>\n",
       "      <td>0</td>\n",
       "      <td>0</td>\n",
       "      <td>689</td>\n",
       "      <td>0</td>\n",
       "      <td>0</td>\n",
       "      <td>0</td>\n",
       "      <td>0</td>\n",
       "    </tr>\n",
       "    <tr>\n",
       "      <th>1</th>\n",
       "      <td>0</td>\n",
       "      <td>50000</td>\n",
       "      <td>2</td>\n",
       "      <td>2</td>\n",
       "      <td>1</td>\n",
       "      <td>37</td>\n",
       "      <td>0</td>\n",
       "      <td>0</td>\n",
       "      <td>0</td>\n",
       "      <td>0</td>\n",
       "      <td>...</td>\n",
       "      <td>49291</td>\n",
       "      <td>28314</td>\n",
       "      <td>28959</td>\n",
       "      <td>29547</td>\n",
       "      <td>2000</td>\n",
       "      <td>2019</td>\n",
       "      <td>1200</td>\n",
       "      <td>1100</td>\n",
       "      <td>1069</td>\n",
       "      <td>1000</td>\n",
       "    </tr>\n",
       "    <tr>\n",
       "      <th>2</th>\n",
       "      <td>0</td>\n",
       "      <td>50000</td>\n",
       "      <td>1</td>\n",
       "      <td>2</td>\n",
       "      <td>1</td>\n",
       "      <td>57</td>\n",
       "      <td>-1</td>\n",
       "      <td>0</td>\n",
       "      <td>-1</td>\n",
       "      <td>0</td>\n",
       "      <td>...</td>\n",
       "      <td>35835</td>\n",
       "      <td>20940</td>\n",
       "      <td>19146</td>\n",
       "      <td>19131</td>\n",
       "      <td>2000</td>\n",
       "      <td>36681</td>\n",
       "      <td>10000</td>\n",
       "      <td>9000</td>\n",
       "      <td>689</td>\n",
       "      <td>679</td>\n",
       "    </tr>\n",
       "    <tr>\n",
       "      <th>3</th>\n",
       "      <td>0</td>\n",
       "      <td>50000</td>\n",
       "      <td>1</td>\n",
       "      <td>1</td>\n",
       "      <td>2</td>\n",
       "      <td>37</td>\n",
       "      <td>0</td>\n",
       "      <td>0</td>\n",
       "      <td>0</td>\n",
       "      <td>0</td>\n",
       "      <td>...</td>\n",
       "      <td>57608</td>\n",
       "      <td>19394</td>\n",
       "      <td>19619</td>\n",
       "      <td>20024</td>\n",
       "      <td>2500</td>\n",
       "      <td>1815</td>\n",
       "      <td>657</td>\n",
       "      <td>1000</td>\n",
       "      <td>1000</td>\n",
       "      <td>800</td>\n",
       "    </tr>\n",
       "    <tr>\n",
       "      <th>4</th>\n",
       "      <td>0</td>\n",
       "      <td>500000</td>\n",
       "      <td>1</td>\n",
       "      <td>1</td>\n",
       "      <td>2</td>\n",
       "      <td>29</td>\n",
       "      <td>0</td>\n",
       "      <td>0</td>\n",
       "      <td>0</td>\n",
       "      <td>0</td>\n",
       "      <td>...</td>\n",
       "      <td>445007</td>\n",
       "      <td>542653</td>\n",
       "      <td>483003</td>\n",
       "      <td>473944</td>\n",
       "      <td>55000</td>\n",
       "      <td>40000</td>\n",
       "      <td>38000</td>\n",
       "      <td>20239</td>\n",
       "      <td>13750</td>\n",
       "      <td>13770</td>\n",
       "    </tr>\n",
       "    <tr>\n",
       "      <th>...</th>\n",
       "      <td>...</td>\n",
       "      <td>...</td>\n",
       "      <td>...</td>\n",
       "      <td>...</td>\n",
       "      <td>...</td>\n",
       "      <td>...</td>\n",
       "      <td>...</td>\n",
       "      <td>...</td>\n",
       "      <td>...</td>\n",
       "      <td>...</td>\n",
       "      <td>...</td>\n",
       "      <td>...</td>\n",
       "      <td>...</td>\n",
       "      <td>...</td>\n",
       "      <td>...</td>\n",
       "      <td>...</td>\n",
       "      <td>...</td>\n",
       "      <td>...</td>\n",
       "      <td>...</td>\n",
       "      <td>...</td>\n",
       "      <td>...</td>\n",
       "    </tr>\n",
       "    <tr>\n",
       "      <th>14995</th>\n",
       "      <td>0</td>\n",
       "      <td>100000</td>\n",
       "      <td>1</td>\n",
       "      <td>1</td>\n",
       "      <td>2</td>\n",
       "      <td>38</td>\n",
       "      <td>0</td>\n",
       "      <td>-1</td>\n",
       "      <td>-1</td>\n",
       "      <td>0</td>\n",
       "      <td>...</td>\n",
       "      <td>102996</td>\n",
       "      <td>70626</td>\n",
       "      <td>69473</td>\n",
       "      <td>55004</td>\n",
       "      <td>2000</td>\n",
       "      <td>111784</td>\n",
       "      <td>4000</td>\n",
       "      <td>3000</td>\n",
       "      <td>2000</td>\n",
       "      <td>2000</td>\n",
       "    </tr>\n",
       "    <tr>\n",
       "      <th>14996</th>\n",
       "      <td>0</td>\n",
       "      <td>220000</td>\n",
       "      <td>1</td>\n",
       "      <td>3</td>\n",
       "      <td>1</td>\n",
       "      <td>39</td>\n",
       "      <td>0</td>\n",
       "      <td>0</td>\n",
       "      <td>0</td>\n",
       "      <td>0</td>\n",
       "      <td>...</td>\n",
       "      <td>208365</td>\n",
       "      <td>88004</td>\n",
       "      <td>31237</td>\n",
       "      <td>15980</td>\n",
       "      <td>8500</td>\n",
       "      <td>20000</td>\n",
       "      <td>5003</td>\n",
       "      <td>3047</td>\n",
       "      <td>5000</td>\n",
       "      <td>1000</td>\n",
       "    </tr>\n",
       "    <tr>\n",
       "      <th>14997</th>\n",
       "      <td>0</td>\n",
       "      <td>150000</td>\n",
       "      <td>1</td>\n",
       "      <td>3</td>\n",
       "      <td>2</td>\n",
       "      <td>43</td>\n",
       "      <td>-1</td>\n",
       "      <td>-1</td>\n",
       "      <td>-1</td>\n",
       "      <td>-1</td>\n",
       "      <td>...</td>\n",
       "      <td>3502</td>\n",
       "      <td>8979</td>\n",
       "      <td>5190</td>\n",
       "      <td>0</td>\n",
       "      <td>1837</td>\n",
       "      <td>3526</td>\n",
       "      <td>8998</td>\n",
       "      <td>129</td>\n",
       "      <td>0</td>\n",
       "      <td>0</td>\n",
       "    </tr>\n",
       "    <tr>\n",
       "      <th>14998</th>\n",
       "      <td>1</td>\n",
       "      <td>30000</td>\n",
       "      <td>1</td>\n",
       "      <td>2</td>\n",
       "      <td>2</td>\n",
       "      <td>37</td>\n",
       "      <td>4</td>\n",
       "      <td>3</td>\n",
       "      <td>2</td>\n",
       "      <td>-1</td>\n",
       "      <td>...</td>\n",
       "      <td>2758</td>\n",
       "      <td>20878</td>\n",
       "      <td>20582</td>\n",
       "      <td>19357</td>\n",
       "      <td>0</td>\n",
       "      <td>0</td>\n",
       "      <td>22000</td>\n",
       "      <td>4200</td>\n",
       "      <td>2000</td>\n",
       "      <td>3100</td>\n",
       "    </tr>\n",
       "    <tr>\n",
       "      <th>14999</th>\n",
       "      <td>1</td>\n",
       "      <td>80000</td>\n",
       "      <td>1</td>\n",
       "      <td>3</td>\n",
       "      <td>1</td>\n",
       "      <td>41</td>\n",
       "      <td>1</td>\n",
       "      <td>-1</td>\n",
       "      <td>0</td>\n",
       "      <td>0</td>\n",
       "      <td>...</td>\n",
       "      <td>76304</td>\n",
       "      <td>52774</td>\n",
       "      <td>11855</td>\n",
       "      <td>48944</td>\n",
       "      <td>85900</td>\n",
       "      <td>3409</td>\n",
       "      <td>1178</td>\n",
       "      <td>1926</td>\n",
       "      <td>52964</td>\n",
       "      <td>1804</td>\n",
       "    </tr>\n",
       "  </tbody>\n",
       "</table>\n",
       "<p>15000 rows × 24 columns</p>\n",
       "</div>"
      ],
      "text/plain": [
       "       Y      X1  X2  X3  X4  X5  X6  X7  X8  X9  ...     X14     X15     X16  \\\n",
       "0      1   20000   2   2   1  24   2   2  -1  -1  ...     689       0       0   \n",
       "1      0   50000   2   2   1  37   0   0   0   0  ...   49291   28314   28959   \n",
       "2      0   50000   1   2   1  57  -1   0  -1   0  ...   35835   20940   19146   \n",
       "3      0   50000   1   1   2  37   0   0   0   0  ...   57608   19394   19619   \n",
       "4      0  500000   1   1   2  29   0   0   0   0  ...  445007  542653  483003   \n",
       "...   ..     ...  ..  ..  ..  ..  ..  ..  ..  ..  ...     ...     ...     ...   \n",
       "14995  0  100000   1   1   2  38   0  -1  -1   0  ...  102996   70626   69473   \n",
       "14996  0  220000   1   3   1  39   0   0   0   0  ...  208365   88004   31237   \n",
       "14997  0  150000   1   3   2  43  -1  -1  -1  -1  ...    3502    8979    5190   \n",
       "14998  1   30000   1   2   2  37   4   3   2  -1  ...    2758   20878   20582   \n",
       "14999  1   80000   1   3   1  41   1  -1   0   0  ...   76304   52774   11855   \n",
       "\n",
       "          X17    X18     X19    X20    X21    X22    X23  \n",
       "0           0      0     689      0      0      0      0  \n",
       "1       29547   2000    2019   1200   1100   1069   1000  \n",
       "2       19131   2000   36681  10000   9000    689    679  \n",
       "3       20024   2500    1815    657   1000   1000    800  \n",
       "4      473944  55000   40000  38000  20239  13750  13770  \n",
       "...       ...    ...     ...    ...    ...    ...    ...  \n",
       "14995   55004   2000  111784   4000   3000   2000   2000  \n",
       "14996   15980   8500   20000   5003   3047   5000   1000  \n",
       "14997       0   1837    3526   8998    129      0      0  \n",
       "14998   19357      0       0  22000   4200   2000   3100  \n",
       "14999   48944  85900    3409   1178   1926  52964   1804  \n",
       "\n",
       "[15000 rows x 24 columns]"
      ]
     },
     "execution_count": 3,
     "metadata": {},
     "output_type": "execute_result"
    }
   ],
   "source": [
    "train_data\n"
   ]
  },
  {
   "cell_type": "code",
   "execution_count": 4,
   "metadata": {},
   "outputs": [
    {
     "data": {
      "text/html": [
       "<div>\n",
       "<style scoped>\n",
       "    .dataframe tbody tr th:only-of-type {\n",
       "        vertical-align: middle;\n",
       "    }\n",
       "\n",
       "    .dataframe tbody tr th {\n",
       "        vertical-align: top;\n",
       "    }\n",
       "\n",
       "    .dataframe thead th {\n",
       "        text-align: right;\n",
       "    }\n",
       "</style>\n",
       "<table border=\"1\" class=\"dataframe\">\n",
       "  <thead>\n",
       "    <tr style=\"text-align: right;\">\n",
       "      <th></th>\n",
       "      <th>Y</th>\n",
       "      <th>X1</th>\n",
       "      <th>X2</th>\n",
       "      <th>X3</th>\n",
       "      <th>X4</th>\n",
       "      <th>X5</th>\n",
       "      <th>X6</th>\n",
       "      <th>X7</th>\n",
       "      <th>X8</th>\n",
       "      <th>X9</th>\n",
       "      <th>...</th>\n",
       "      <th>X14</th>\n",
       "      <th>X15</th>\n",
       "      <th>X16</th>\n",
       "      <th>X17</th>\n",
       "      <th>X18</th>\n",
       "      <th>X19</th>\n",
       "      <th>X20</th>\n",
       "      <th>X21</th>\n",
       "      <th>X22</th>\n",
       "      <th>X23</th>\n",
       "    </tr>\n",
       "  </thead>\n",
       "  <tbody>\n",
       "    <tr>\n",
       "      <th>0</th>\n",
       "      <td>1</td>\n",
       "      <td>120000</td>\n",
       "      <td>2</td>\n",
       "      <td>2</td>\n",
       "      <td>2</td>\n",
       "      <td>26</td>\n",
       "      <td>-1</td>\n",
       "      <td>2</td>\n",
       "      <td>0</td>\n",
       "      <td>0</td>\n",
       "      <td>...</td>\n",
       "      <td>2682</td>\n",
       "      <td>3272</td>\n",
       "      <td>3455</td>\n",
       "      <td>3261</td>\n",
       "      <td>0</td>\n",
       "      <td>1000</td>\n",
       "      <td>1000</td>\n",
       "      <td>1000</td>\n",
       "      <td>0</td>\n",
       "      <td>2000</td>\n",
       "    </tr>\n",
       "    <tr>\n",
       "      <th>1</th>\n",
       "      <td>0</td>\n",
       "      <td>90000</td>\n",
       "      <td>2</td>\n",
       "      <td>2</td>\n",
       "      <td>2</td>\n",
       "      <td>34</td>\n",
       "      <td>0</td>\n",
       "      <td>0</td>\n",
       "      <td>0</td>\n",
       "      <td>0</td>\n",
       "      <td>...</td>\n",
       "      <td>13559</td>\n",
       "      <td>14331</td>\n",
       "      <td>14948</td>\n",
       "      <td>15549</td>\n",
       "      <td>1518</td>\n",
       "      <td>1500</td>\n",
       "      <td>1000</td>\n",
       "      <td>1000</td>\n",
       "      <td>1000</td>\n",
       "      <td>5000</td>\n",
       "    </tr>\n",
       "    <tr>\n",
       "      <th>2</th>\n",
       "      <td>0</td>\n",
       "      <td>140000</td>\n",
       "      <td>2</td>\n",
       "      <td>3</td>\n",
       "      <td>1</td>\n",
       "      <td>28</td>\n",
       "      <td>0</td>\n",
       "      <td>0</td>\n",
       "      <td>2</td>\n",
       "      <td>0</td>\n",
       "      <td>...</td>\n",
       "      <td>12108</td>\n",
       "      <td>12211</td>\n",
       "      <td>11793</td>\n",
       "      <td>3719</td>\n",
       "      <td>3329</td>\n",
       "      <td>0</td>\n",
       "      <td>432</td>\n",
       "      <td>1000</td>\n",
       "      <td>1000</td>\n",
       "      <td>1000</td>\n",
       "    </tr>\n",
       "    <tr>\n",
       "      <th>3</th>\n",
       "      <td>0</td>\n",
       "      <td>20000</td>\n",
       "      <td>1</td>\n",
       "      <td>3</td>\n",
       "      <td>2</td>\n",
       "      <td>35</td>\n",
       "      <td>-2</td>\n",
       "      <td>-2</td>\n",
       "      <td>-2</td>\n",
       "      <td>-2</td>\n",
       "      <td>...</td>\n",
       "      <td>0</td>\n",
       "      <td>0</td>\n",
       "      <td>13007</td>\n",
       "      <td>13912</td>\n",
       "      <td>0</td>\n",
       "      <td>0</td>\n",
       "      <td>0</td>\n",
       "      <td>13007</td>\n",
       "      <td>1122</td>\n",
       "      <td>0</td>\n",
       "    </tr>\n",
       "    <tr>\n",
       "      <th>4</th>\n",
       "      <td>0</td>\n",
       "      <td>200000</td>\n",
       "      <td>2</td>\n",
       "      <td>3</td>\n",
       "      <td>2</td>\n",
       "      <td>34</td>\n",
       "      <td>0</td>\n",
       "      <td>0</td>\n",
       "      <td>2</td>\n",
       "      <td>0</td>\n",
       "      <td>...</td>\n",
       "      <td>5535</td>\n",
       "      <td>2513</td>\n",
       "      <td>1828</td>\n",
       "      <td>3731</td>\n",
       "      <td>2306</td>\n",
       "      <td>12</td>\n",
       "      <td>50</td>\n",
       "      <td>300</td>\n",
       "      <td>3738</td>\n",
       "      <td>66</td>\n",
       "    </tr>\n",
       "    <tr>\n",
       "      <th>...</th>\n",
       "      <td>...</td>\n",
       "      <td>...</td>\n",
       "      <td>...</td>\n",
       "      <td>...</td>\n",
       "      <td>...</td>\n",
       "      <td>...</td>\n",
       "      <td>...</td>\n",
       "      <td>...</td>\n",
       "      <td>...</td>\n",
       "      <td>...</td>\n",
       "      <td>...</td>\n",
       "      <td>...</td>\n",
       "      <td>...</td>\n",
       "      <td>...</td>\n",
       "      <td>...</td>\n",
       "      <td>...</td>\n",
       "      <td>...</td>\n",
       "      <td>...</td>\n",
       "      <td>...</td>\n",
       "      <td>...</td>\n",
       "      <td>...</td>\n",
       "    </tr>\n",
       "    <tr>\n",
       "      <th>14995</th>\n",
       "      <td>0</td>\n",
       "      <td>150000</td>\n",
       "      <td>1</td>\n",
       "      <td>1</td>\n",
       "      <td>2</td>\n",
       "      <td>35</td>\n",
       "      <td>-1</td>\n",
       "      <td>-1</td>\n",
       "      <td>-1</td>\n",
       "      <td>-1</td>\n",
       "      <td>...</td>\n",
       "      <td>-3</td>\n",
       "      <td>780</td>\n",
       "      <td>0</td>\n",
       "      <td>0</td>\n",
       "      <td>9054</td>\n",
       "      <td>0</td>\n",
       "      <td>783</td>\n",
       "      <td>0</td>\n",
       "      <td>0</td>\n",
       "      <td>0</td>\n",
       "    </tr>\n",
       "    <tr>\n",
       "      <th>14996</th>\n",
       "      <td>0</td>\n",
       "      <td>140000</td>\n",
       "      <td>1</td>\n",
       "      <td>2</td>\n",
       "      <td>1</td>\n",
       "      <td>41</td>\n",
       "      <td>0</td>\n",
       "      <td>0</td>\n",
       "      <td>0</td>\n",
       "      <td>0</td>\n",
       "      <td>...</td>\n",
       "      <td>139110</td>\n",
       "      <td>138262</td>\n",
       "      <td>49675</td>\n",
       "      <td>46121</td>\n",
       "      <td>6000</td>\n",
       "      <td>7000</td>\n",
       "      <td>4228</td>\n",
       "      <td>1505</td>\n",
       "      <td>2000</td>\n",
       "      <td>2000</td>\n",
       "    </tr>\n",
       "    <tr>\n",
       "      <th>14997</th>\n",
       "      <td>0</td>\n",
       "      <td>10000</td>\n",
       "      <td>1</td>\n",
       "      <td>3</td>\n",
       "      <td>1</td>\n",
       "      <td>43</td>\n",
       "      <td>0</td>\n",
       "      <td>0</td>\n",
       "      <td>0</td>\n",
       "      <td>-2</td>\n",
       "      <td>...</td>\n",
       "      <td>0</td>\n",
       "      <td>0</td>\n",
       "      <td>0</td>\n",
       "      <td>0</td>\n",
       "      <td>2000</td>\n",
       "      <td>0</td>\n",
       "      <td>0</td>\n",
       "      <td>0</td>\n",
       "      <td>0</td>\n",
       "      <td>0</td>\n",
       "    </tr>\n",
       "    <tr>\n",
       "      <th>14998</th>\n",
       "      <td>1</td>\n",
       "      <td>80000</td>\n",
       "      <td>1</td>\n",
       "      <td>2</td>\n",
       "      <td>2</td>\n",
       "      <td>34</td>\n",
       "      <td>2</td>\n",
       "      <td>2</td>\n",
       "      <td>2</td>\n",
       "      <td>2</td>\n",
       "      <td>...</td>\n",
       "      <td>79384</td>\n",
       "      <td>77519</td>\n",
       "      <td>82607</td>\n",
       "      <td>81158</td>\n",
       "      <td>7000</td>\n",
       "      <td>3500</td>\n",
       "      <td>0</td>\n",
       "      <td>7000</td>\n",
       "      <td>0</td>\n",
       "      <td>4000</td>\n",
       "    </tr>\n",
       "    <tr>\n",
       "      <th>14999</th>\n",
       "      <td>1</td>\n",
       "      <td>50000</td>\n",
       "      <td>1</td>\n",
       "      <td>2</td>\n",
       "      <td>1</td>\n",
       "      <td>46</td>\n",
       "      <td>0</td>\n",
       "      <td>0</td>\n",
       "      <td>0</td>\n",
       "      <td>0</td>\n",
       "      <td>...</td>\n",
       "      <td>49764</td>\n",
       "      <td>36535</td>\n",
       "      <td>32428</td>\n",
       "      <td>15313</td>\n",
       "      <td>2078</td>\n",
       "      <td>1800</td>\n",
       "      <td>1430</td>\n",
       "      <td>1000</td>\n",
       "      <td>1000</td>\n",
       "      <td>1000</td>\n",
       "    </tr>\n",
       "  </tbody>\n",
       "</table>\n",
       "<p>15000 rows × 24 columns</p>\n",
       "</div>"
      ],
      "text/plain": [
       "       Y      X1  X2  X3  X4  X5  X6  X7  X8  X9  ...     X14     X15    X16  \\\n",
       "0      1  120000   2   2   2  26  -1   2   0   0  ...    2682    3272   3455   \n",
       "1      0   90000   2   2   2  34   0   0   0   0  ...   13559   14331  14948   \n",
       "2      0  140000   2   3   1  28   0   0   2   0  ...   12108   12211  11793   \n",
       "3      0   20000   1   3   2  35  -2  -2  -2  -2  ...       0       0  13007   \n",
       "4      0  200000   2   3   2  34   0   0   2   0  ...    5535    2513   1828   \n",
       "...   ..     ...  ..  ..  ..  ..  ..  ..  ..  ..  ...     ...     ...    ...   \n",
       "14995  0  150000   1   1   2  35  -1  -1  -1  -1  ...      -3     780      0   \n",
       "14996  0  140000   1   2   1  41   0   0   0   0  ...  139110  138262  49675   \n",
       "14997  0   10000   1   3   1  43   0   0   0  -2  ...       0       0      0   \n",
       "14998  1   80000   1   2   2  34   2   2   2   2  ...   79384   77519  82607   \n",
       "14999  1   50000   1   2   1  46   0   0   0   0  ...   49764   36535  32428   \n",
       "\n",
       "         X17   X18   X19   X20    X21   X22   X23  \n",
       "0       3261     0  1000  1000   1000     0  2000  \n",
       "1      15549  1518  1500  1000   1000  1000  5000  \n",
       "2       3719  3329     0   432   1000  1000  1000  \n",
       "3      13912     0     0     0  13007  1122     0  \n",
       "4       3731  2306    12    50    300  3738    66  \n",
       "...      ...   ...   ...   ...    ...   ...   ...  \n",
       "14995      0  9054     0   783      0     0     0  \n",
       "14996  46121  6000  7000  4228   1505  2000  2000  \n",
       "14997      0  2000     0     0      0     0     0  \n",
       "14998  81158  7000  3500     0   7000     0  4000  \n",
       "14999  15313  2078  1800  1430   1000  1000  1000  \n",
       "\n",
       "[15000 rows x 24 columns]"
      ]
     },
     "execution_count": 4,
     "metadata": {},
     "output_type": "execute_result"
    }
   ],
   "source": [
    "test_data\n"
   ]
  },
  {
   "cell_type": "code",
   "execution_count": 5,
   "metadata": {},
   "outputs": [],
   "source": [
    "y_train = train_data['Y'].values\n",
    "X_train = train_data.drop(['Y'],axis=1).values\n",
    "\n",
    "y_test = test_data['Y'].values\n",
    "X_test = test_data.drop(['Y'],axis=1).values"
   ]
  },
  {
   "cell_type": "code",
   "execution_count": 6,
   "metadata": {},
   "outputs": [
    {
     "data": {
      "text/plain": [
       "array([20000,     2,     2,     1,    24,     2,     2,    -1,    -1,\n",
       "          -2,    -2,  3913,  3102,   689,     0,     0,     0,     0,\n",
       "         689,     0,     0,     0,     0], dtype=int64)"
      ]
     },
     "execution_count": 6,
     "metadata": {},
     "output_type": "execute_result"
    }
   ],
   "source": [
    "X_train[0]"
   ]
  },
  {
   "cell_type": "markdown",
   "metadata": {},
   "source": [
    "## Scaling the data"
   ]
  },
  {
   "cell_type": "code",
   "execution_count": 7,
   "metadata": {},
   "outputs": [],
   "source": [
    "from sklearn import preprocessing\n",
    "\n",
    "X_train = preprocessing.scale(X_train)\n",
    "X_test = preprocessing.scale(X_test)"
   ]
  },
  {
   "cell_type": "code",
   "execution_count": 8,
   "metadata": {},
   "outputs": [
    {
     "data": {
      "text/plain": [
       "array([-1.13331216,  0.8082431 ,  0.19067968, -1.06403915, -1.24187957,\n",
       "        1.79595421,  1.77813178, -0.69601185, -0.66540266, -1.51753654,\n",
       "       -1.48040468, -0.64832639, -0.64983325, -0.6711257 , -0.67292975,\n",
       "       -0.66565359, -0.65374752, -0.36112736, -0.23812634, -0.36269067,\n",
       "       -0.30289045, -0.31031133, -0.28876454])"
      ]
     },
     "execution_count": 8,
     "metadata": {},
     "output_type": "execute_result"
    }
   ],
   "source": [
    "X_train[0]"
   ]
  },
  {
   "cell_type": "markdown",
   "metadata": {},
   "source": [
    "## Decision Tree (Gosia)"
   ]
  },
  {
   "cell_type": "code",
   "execution_count": 9,
   "metadata": {},
   "outputs": [
    {
     "name": "stdout",
     "output_type": "stream",
     "text": [
      "best accuracy :  0.8163333333333332 , best parameters :  {'criterion': 'entropy', 'max_depth': 6, 'max_features': 'log2'}\n"
     ]
    }
   ],
   "source": [
    "import numpy as np\n",
    "import pandas as pd\n",
    "from sklearn import tree\n",
    "from sklearn.model_selection import GridSearchCV\n",
    "\n",
    "clf = tree.DecisionTreeClassifier()\n",
    "\n",
    "parameters = {\n",
    "    'max_depth':range(2,20), \n",
    "    'criterion':['gini', 'entropy'],\n",
    "    'max_features': ['sqrt', 'log2']\n",
    "}\n",
    "\n",
    "grid = GridSearchCV(estimator = clf, param_grid = parameters, scoring = 'accuracy' , cv=5, n_jobs=-1)\n",
    "\n",
    "grid.fit(X_train, y_train)\n",
    "\n",
    "best_tree_model = grid.best_estimator_\n",
    "\n",
    "scores = grid.cv_results_\n",
    "print ('best accuracy : ', grid.best_score_, ', best parameters : ',  grid.best_params_) "
   ]
  },
  {
   "cell_type": "code",
   "execution_count": 10,
   "metadata": {},
   "outputs": [],
   "source": [
    "gini = {\n",
    "    'sqrt':{\n",
    "        'max_depth' : [],\n",
    "        'max_features' : [],\n",
    "        'mean_test_score': []   \n",
    "    },\n",
    "    \n",
    "    'log2':{\n",
    "        'max_depth' : [],\n",
    "        'max_features' : [],\n",
    "        'mean_test_score': []      \n",
    "    }\n",
    "    \n",
    "}\n",
    "\n",
    "entropy = {\n",
    "    'sqrt':{\n",
    "        'max_depth' : [],\n",
    "        'max_features' : [],\n",
    "        'mean_test_score': []   \n",
    "    },\n",
    "    \n",
    "    'log2':{\n",
    "        'max_depth' : [],\n",
    "        'max_features' : [],\n",
    "        'mean_test_score': []      \n",
    "    }\n",
    "    \n",
    "}"
   ]
  },
  {
   "cell_type": "code",
<<<<<<< HEAD
   "execution_count": 64,
=======
   "execution_count": 11,
>>>>>>> a2ae9f3f0fdcd21511c96b98fe7a980c28264de3
   "metadata": {},
   "outputs": [
    {
     "data": {
      "text/plain": [
       "[{'max_features': 5, 'random_state': 0},\n",
       " {'max_features': 6, 'random_state': 0},\n",
       " {'max_features': 7, 'random_state': 0},\n",
       " {'max_features': 8, 'random_state': 0},\n",
       " {'max_features': 9, 'random_state': 0},\n",
       " {'max_features': 10, 'random_state': 0},\n",
       " {'max_features': 11, 'random_state': 0},\n",
       " {'max_features': 12, 'random_state': 0},\n",
       " {'max_features': 13, 'random_state': 0},\n",
       " {'max_features': 14, 'random_state': 0},\n",
       " {'max_features': 15, 'random_state': 0}]"
      ]
     },
     "execution_count": 64,
     "metadata": {},
     "output_type": "execute_result"
    }
   ],
   "source": [
    "for i in scores['params'][:]:\n",
    "    \n",
    "    index = scores['params'].index(i)\n",
    "    \n",
    "    if(i['criterion'] == 'gini'):\n",
    "        \n",
    "        if(i['max_features'] == 'sqrt'):\n",
    "            \n",
    "            gini['sqrt']['max_depth'].append(i['max_depth'])\n",
    "            gini['sqrt']['mean_test_score'].append(scores['mean_test_score'][index])\n",
    "        else:\n",
    "            gini['log2']['max_depth'].append(i['max_depth'])\n",
    "            gini['log2']['mean_test_score'].append(scores['mean_test_score'][index])    \n",
    "        \n",
    "    else:\n",
    "        if(i['max_features'] == 'sqrt'):\n",
    "            \n",
    "            entropy['sqrt']['max_depth'].append(i['max_depth'])\n",
    "            entropy['sqrt']['mean_test_score'].append(scores['mean_test_score'][index])\n",
    "        else:\n",
    "            entropy['log2']['max_depth'].append(i['max_depth'])\n",
    "            entropy['log2']['mean_test_score'].append(scores['mean_test_score'][index]) "
   ]
  },
  {
   "cell_type": "code",
   "execution_count": 12,
   "metadata": {},
   "outputs": [
    {
     "data": {
      "image/png": "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\n",
      "text/plain": [
       "<Figure size 432x288 with 1 Axes>"
      ]
     },
     "metadata": {
      "needs_background": "light"
     },
     "output_type": "display_data"
    },
    {
     "data": {
      "image/png": "iVBORw0KGgoAAAANSUhEUgAAAe4AAAEWCAYAAACg1nQiAAAABHNCSVQICAgIfAhkiAAAAAlwSFlzAAALEgAACxIB0t1+/AAAADl0RVh0U29mdHdhcmUAbWF0cGxvdGxpYiB2ZXJzaW9uIDMuMC4zLCBodHRwOi8vbWF0cGxvdGxpYi5vcmcvnQurowAAIABJREFUeJzsnXd8VUX2wL8nvUBCCUkgQAJIb0Gqbe29oOvqqqjYf/a+uzYUXNG1ruvaXV1RUXRVXHRVrLC6FooiSO8QaqgBQkLK+f0xN+GR+pK85L0k5/v53M97d+7cmXPruTNz5hxRVQzDMAzDaByEBVsAwzAMwzD8xxS3YRiGYTQiTHEbhmEYRiPCFLdhGIZhNCJMcRuGYRhGI8IUt2EYhmE0Ikxx+yAiKiIHBVuOmiAiu0Wka7DlqA4RuUREvq2nso8Skaz6KNuPugN2XCLyvIiMCURZXnmdvfsjPFBl1gci8qqIPBBsOSpDRA4TkaXeuTwz2PLUNyIyTUSuaKC6HhKRm+tYRqyIfCgiO0XkX4GSraERkTNEZJI/ef1W3N7F3C4i0bUXzQg0qtpCVVcEW46GpDF+YPmDql6tqn+GwHyMqOoa7/4oCoyEzZb7gae9c/lBXQoSkVUiclyA5AppRGS0iMwWkRwRyRKRR0Qkwmd7O+Bi4IU6VvU7IAVoq6rn1KUgERkrIm/UUZ5aoapTgH4iMqC6vH4pbhHJAI4AFDijLsLVFN8LbRhNlUC3iu25CSjpwPxgCwGN7rrGATcDScBw4Fjgdp/tlwAfq+reOtaTDixR1cI6llNnAnB93gKuqjaXqla7APcC/wOeAD4qsy0WeBxYDewEvgVivW2HA98BO4C1wCVe+jTgCp8yLgG+9VlX4DpgKbDSS/ubV0YOMBs4wid/OHAXsBzY5W3vBDwDPF5G3g+Bmys5TgVuBFYAW4BHcR830cA2oL9P3mRgL9CugnIu8c7XX71jXwEc6qWvBTYDo33ynwr87B3bWmCsz7bfe/sneOsnAxtL6vVkPsj7/yrwLPAJsNuTIRV4EtgOLAIGlTneg3zWXwUe8P4fBWQBf/Tk3QCcCZwCLPHOx11V3DNtgSneMc0A/lzmGvcCPvfKWQycW0aO573tu4DpQLq37b+e3Hu8Y/y9j6y3+ch6aRWyXQos9MpeAfyfz7Yqy6ruuCqoq7Jn4FXgOeBj71iOKzn/QDzu3ir2jnE30AF3L96Bu8+3Au8AbbzyMrzzcjmwxjtPJWkRXp4OnuzbgGXAlT5yjvXKe807L/OBIVUcV1XPY5VlAYOAn7xtbwOT8O67YD5LldS/3LsOe73rEA0kAi9798Y675qFe/m7AV9512cLMBFo5W17vUxZf8S738rUuQo4zudcvgu84R3TFdXcBzFe3q3e+ZoJpPjznvepfxre+9mr6x7c+32zd00TffJe7G3bCozxlb2Ccm8FPvRZ/wq40N9nr5IyxwH7gALvnF7upV+Ge8a3A1Px3h9V3bvASWXK+qXs9fC5Jm9U9tx56SPY/9z/AhxV5p5egbv/VwKjfLYdhqfzqjxuPy/kMuBaYLB3UCk+257xLnQaToEeiru5O3uCnQ9E4l54mWVvDJ8DKau4PwfasP8j4EKvjAjvwm4EYrxtfwDmAT0BAQZ6eYcB64EwL18SkEslN7JX79devZ1xCqrkBn4WeNgn70343IQVvGwKcQoiHPdgr/HOVTRwgnduWvjcsP1xD8kAYBNwpk95E3Ev9bbe8ZxWRmZfxb3Fu04xuAdjJe7hKpHj64r29dnfV3EX4j7aIoErgWzgTaAl0BfIA7pWcg4m4V4o8UA/3AvuW29bPO7BudS7ngd7cvf1kWMX8BvvfP2tgvvDV+4SWe/3ZD3Fu86tK5HtVNwLVoAjvbwH+1NWVcdVQT1VPQOv4j50D/Oue0wF57/sC/1m4Aego3deXgDeKvMCec2TLZbyins67j6OATK963msz8sozzvecOAh4Icq3glVPY+VlgVE4V70t3jn5He4d0pVirtBnqUqjnUVB764P/DOfTzuA34G3scfcBBwvCdbO9wH1JNVlFXRdS7N453LAtxHc5h3Xau6D/4P1ziJ887XYPZ/qDyLUyQVLXN96p/G/vfeZbj3f1egBfA+8Lq3rQ9OwR3uXdfHPFkrU9wfAH/xWc8Ghtb2OfbZbyyeIvXWz/Rk7o27P+8BvqvBvftGZdejbB4qfu7ScB8yp3jX7HhvvZ2XJwfo6e3fHu+956238cpLqPKY/bhpD/cuRpK3vgi4xfsfhvt6HFjBfncCkysps/TG8Hk4y76Yj6lGru0l9eJabCMrybcQON77fz2ua6ayMhU4yWf9WuBL7/9wnLIp+QiYhU8rsYKXzVKf9f5e2b4fPFvxXuIV7P8k8Fef9Va4l9U84IUKZPZV3C/5bLsBWFhGjh0V7euzv6/i2Mv+lkRLL/9wn/yz8Xkp+qSHe/dML5+0B9mvuH8PfFNmnxeA+3zkmOSzrQVQBHSqRO4SWSN80jYDI6q7v728HwA3VVdWdcdVw2fgVeC1CtKqUtwL8RStt97ekyeC/S+Qrj7bS9IicD1QRUBLn+0PAa96/8cCX/hs6wPs9ef8VfA8VloW7mNsPSA+27+jasXdIM9SFce2iv2KNAXIx2tQeGnn4/NBXGbfM4GfKyqriuvsW99YvFacn/fBZd75HODvtatA5mnsV9xfAtf6bOvpU9e9eB8M3rY4XIu1nOLGfXhl4ekRL63ss3QUtXiOKa+4P8FreXvrYbgPgHQ/793aKG7f5+5PeB83PmlTgdE4xb0DONv3HvLJF+mV17mqY/ZnjHs08JmqbvHW3/TSwLVgY3BdNmXpVEm6v6z1XRGR20RkoWc5uAPXXZXkR10TcF9YeL+v16De1bjuRVT1R1yX5pEi0gv3ZT2linI2+fzf65VRNq0FgIgMF5GvRSRbRHYCV7P/2FDVHcC/cC28x6uRv2wdFdbpJ1t1v2FTyTiUP+W1wz3YZc9lCenAcBHZUbIAo3Dd+iWU7ququ3Hdux2qkdV3jCu3EtkQkZNF5AcR2ebVfQo+57uKsqo7rrJU9wysrWJbRaQDk33O2UKcMk7xo8wOwDZV3eWTthrXOihho8//XCCmsjG7ap7HqsrqAKxT7y3lI0dVBOtZqoh03Mt1g891eAHX8kZEkkVkkoisE5EcXLd1UuXF+UXZa1rVffA6TklMEpH1nkFYZB3q7sCB12c17hlI8bb5Pqe5uI+oA/As8f8CnOyjR8ApzJZlsvv9HFdBOvA3n/OzDde7lubJU929Wxt8r1E6cE6Z99vhQHtV3YNruFyNu4f+4+mTEkrOx46qKqtScYtILHAuTlltFJGNuC6ugSIyENe9mYfrdqzoQCpKB6cA43zWUyvIU/pgi8gRuK+Yc3HdJq1w3YziR11vACM9eXvjWldV0cnnf2dc66CEko+Ai4B3VTWvmrL85U3cR0AnVU3Eje+WHBsikon7kn4LeCpAdYJ7KKq7DrUhG9flVfZclrAWmK6qrXyWFqp6jU+e0n1FpAWuC8n3WtQKb1bEe7huvRTvXvoYn/NdBdUdV1mqui/B5x73c9ta3MvP97zFqOo6P8pcD7QREd8XZWdcV3+N8ON5rIoNQJqI+Oat6hzWlPp+ltbiWtxJPtcgQVX7etsfwl2DAaqagHtf+B5r2etzwLvQM1JsVyZP2X0qvQ9UtUBVx6lqH9yw5Wm4obKS6Ya7K1kqM75bj1NEJXTGPQObcNeyo4/ssbguaHzSTgJeAk5X1Xllyp4L9Kik3rqwFjd04Xt+YlX1Oz/u3YqenxrpK6/+18vUH6+qfwFQ1amqejyup2QR7vyU0BtYpao5VR1gdS3uM3Ffcn1wY2KZXsHfABerajHwCvCEiHQQkXAROcR7OU4EjhORc0UkQkTaeg8NwBzgtyIS503rubwaOVribpZsIEJE7gUSfLb/A/iziHQXxwARaQugqlk4A43Xgfe0egvGP4hIaxHphBvHfttn2+vAWbiH8bVqyqkJLXGtoTwRGQZcULJBREqMTe7CdTelici1Aap3DnCBd91Owo331hmvlf4+MNa7xn3Y30sD8BHQQ0QuEpFIbxkqIr198pwiIoeLSBTOAOxHVS35qt2EG3OrDVG4ccFsoFBETsaNkwbiuMpS1TNQHZuAtiKS6JP2PDBeRNLBTacRkZF+yr4W14X6kIjEiJtycrknY02p7nmsiu+9fW/0zslvcbYogaJenyVV3QB8BjwuIgkiEiYi3USk5NlpiRv33SEiaTj7G1/K3rtLcL0Rp3ot43tw92dVVHofiMjRItLf+wDIwXVHF3myX+19IFe09K2krreAW0Ski/cB/SDwttcqfhc4XUQO9Z7TcRz4kXQM7v46W1VnVFD2xwTonVOG54E7RaSvJ0eiiJRME6vu3t0EZIiIr26cA5znvaeG4OwyquIN3Hk50Xu3xoib3tlRRFLEzdeOx30A7sa7Ph5H4rr6q6Q6xT0a+Ke6+aAbSxbgaWCUuK6v23HjRTNxXRIP48aB1+C6IG/z0ufgjMbAWYjuw52kCVT/8pjqHcwSXFdNHgd2TTyBMxj6DHezvowzEihhAm5srLpucoB/48Zu5wD/8coCSj8CfsJ9XX3jR1n+ci1wv4jswo0bveOz7SHcGNhzqpqP+2h4QES6B6Dem4DTcd0yo6i+N6ImXI/r4tqIG7v9Z8kGr7v2BOA83Bf9Rtx94/vCehO4D3fvDPbkK2EsMMHrhjq3JkJ5dd+IO8fbcS/2qoY8ylLpcVVQV1XPQHVyLsK9NFd4x9kBZ6Q3BfjMu1d+wNle+Mv5uDG59cBknE3B5zXYv4TqnsdKUdV9wG9xY9fbcd2G79dChspoiGfpYtwH4ALcMbyLaz2BU14H41px/6H8sT0E3ONd09tVdacn8z9wvR97cGPBVVHVfZDqyZOD60KfjlMkteUV3HvzvzhD1zyc7QyqOt/7PwnX+t6FG5PO9/Ydg+uG/tinZe+rlF7DfaD7vqvrjKpOxr1PJokbrvgVN4MAqr93Sxy4bBWRn3yOoxvuWo/DvZuqqn8tMBL3gZjtlf8HnL4Nw70P1uPeCUfirn8J5+PHvHY5cKipaSIiv8HdvBleL0FdynoFWK+q9wREOKMcIvIq7gVr59gwGglei3wH0F1VV/q5z4PAZlV9sl6FawSIyOnARapabWOkMU3mrxVe99NNwD8CoLQzcK2FQXWXzDAMo3HjKZsvcV3kj+F6X1f5u7+q3lU/kjU+VPVD3FS+amnSvsq9MdMduG6sOn3RicifcV0uj/r7NWkYRugjIkdUYKy1W0R2B1u2RsBIXLfveqA7cJ7WQzeuiMyv5BqNqn7vpkez6Co3DMMwjKZCk25xG4ZhGEZTo8mPcdc3SUlJmpGREWwxDMMwGhWzZ8/eoqpl56wbfmCKu45kZGQwa9asYIthGIbRqBCR6jzmGZVgXeWGYRiG0YgwxW0YhmEYjQhT3IZhGIbRiLAxbsMwjFpQUFBAVlYWeXmBijXUNImJiaFjx45ERtYlSJnhiyluwzCMWpCVlUXLli3JyMhAxJ/AaM0PVWXr1q1kZWXRpUuXYIvTZLCuciPkmDgRMjIgLMz9TqxN/CrDqGfy8vJo27atKe0qEBHatm1rvRIBxlrcRkgxcSJcdRXk5rr11avdOsCoZunc0AhlTGlXj52jwGOKu5kzc9BM9szZUy49PjOeoT8PbXB57r57v9IuITfXpZviNgzDsK7yZk/CIQlI1IFfxBIlJB6aGBR51qypWbphNGc2bdrEBRdcQNeuXRk8eDCHHHIIkydPZtasWdx4443V7n/ooYc2gJRGoLEWdzMnY0wGm/65CWV/sBkJF9LHpAdFnsRE2LGjfHpkJLz7Lpx1FoSHN7xchlEX6qNnS1U588wzGT16NG+++SYAq1evZsqUKZx11lkMGTKk2jK+++67WtVtBBdrcTdzottHk3JRyv6ECEi9NJXo1OgGl+XFF53SLquYo6KgdWs45xzo0wdefhn27Wtw8Qyj1tRHz9ZXX31FVFQUV199dWlaeno6N9xwA9OmTeO0004DYOzYsVx22WUcddRRdO3alaeeeqo0f4sWLWpdvxE8THEbZIzLICzGuxUKIe3GtAaX4b334Jpr4NRT4ZVXID0dRNzvK6/AunXwzjsQHw9XXAFdu8ITT8Bui5hshAg/H/VzuWXds+sA6HxbZ7TwwBDKWqjE9ogFYN+WfeX2rY758+dz8MEH+yXbokWLmDp1KjNmzGDcuHEUFBTU8OiMUMIUdzOnuKCYwu2FpFyaAl6DYM2DDTug/NVXcMEFcMghTjlffDGsWgXFxe531CjXCj/nHJg9G6ZOhR494LbboHNnuO8+2LKlQUU2jBoR1T6KqJSo0mcMgajUKCISAzdaed111zFw4ECGDi3f9X7qqacSHR1NUlISycnJbNq0KWD1Gg2PjXE3c7ZN3cavp/9Kn3f6kDs/l5ZDWlK0uwgtUiS8/qdxzJoFI0dCz57w4YcQF1d1fhE44QS3/PADPPww3H8/PPYYXHkl3HqrU+aG0dAMmjao0m3hceEMnj2YH7v+SHFeMWExYQyePbh0SCoqKarK/Suib9++vPfee6XrzzzzDFu2bKlwbDs6ev/QV3h4OIWFhTWqywgtrMXdzNk0YRORSZEkjUxi0PRBdHusGz1f6NkgSnvxYjj5ZEhKgk8/dePYNWHECJg8GRYscK3xZ56Bbt3g0kth4UJz5GKEFtHto13PVlhg7EiOOeYY8vLyeO6550rTcsvOpTSaJKa4mzEF2wrYMmULyaOSCYtyt0KJs4Rds3ex/E/LUdWqiqg1WVmu1RwWBp9/Dh061L6s3r3h1Vdh+XK49lp4+21nxDZ6tHPgorrfkYspbyOYZIzJIPHwxIDM2hARPvjgA6ZPn06XLl0YNmwYo0eP5uGHHw6ApEYoI/X1Ym4uDBkyRGfNmhVsMWrFuufWsfTapQz+aTAtB7U8YNvqv6xm5Z0r6f1mb1LOT6mkhNqxdSv85jdOeU+bBoNq1kNYLVu2wEEHwc6d5belp7txc8OoKwsXLqR3797BFqNRUNG5EpHZqlr9nDWjHNbibsZsnrSZ+P7xtMgsPyWk0+2dSBiRwNLrlpK/IT9gde7e7SzHly+HKVMCr7TBdb3n5FS8bfVq1zqvbLthGEaoY4q7GdP/w/70frN3hb6EwyLC6DWhF8V5xSy+cnFAusz37YOzz4aZM2HSJDjyyDoXWSmVGahFRLgx8JQUOO88+OgjsJkxhmE0JkxxN2LqanwVkRBBi36VO2CI6xFH1790Zdt/tpH9XnadZC0udmPOn30GL70EZ55Zp+KqZfz48hbqcXGutf3993D55fDFF3D66W58/frrnZW6jRwZhhHqmOJupJRE0aqN8ZUWKXNPncuWj6qf/Jx2fRo9X+lJ0sikWsuqCjfe6FrZDz8Ml11W66L8ZtQo54nN15HLiy+69BEj4OmnYcMGNwXt2GOdN7ZDDoHu3WHsWFi6dH9ZZp1uGEYoYcZpdSRYxmkZGU5Zl8Uf46ttn21j7olz6fOvPiT/LtnvOgt2FBCREIGE1Wyq2LhxThnefjs8+miNdm0wcnLg/ffhjTecQxhVGDbMzS9/913Yu3d/3ri4/R8BRvPFjNP8x4zTAou1uBsplUXLWr0a9pSPZXAAGydsJKJ1BEmn+9+KzluTx8w+M1n/3PoaSAnPPuuU9iWXwCOP1GjXBiUhwcn4xRewdq37wNi3D15//UClDfvDjBqGYQQDU9yNlFatKt/WoQPccAPMn19+W+HOQrZM3kLyecmERft/+aM7RRM/IJ7lf1xO7lL/nDxMmuTGjs84w41rV2ADF5KkpbnegZ9/rlxmCzNqhALh4eFkZmaWLn/5y1+qzD9t2jSLCNYEMMXdCJk4EbZvLx9FKy4O7r3XKcoXX4R+/dx86TffhHxvRtfmf22meG8xqaNTa1SniNDr5V6ERYWx6JJFaFHVQyyffeZ8jh9xhFPgEY3UuW5l1unmVtWoKfVhKxEbG8ucOXNKlzvuuKPK/FUpbnOD2ohQVVvqsAwePFgbko8/Vo2IUD36aNV//lM1PV1VxP2+8cb+fNnZqo88otqtmyqoJiWp/vGPqrNe3qYLLlqgxcXFtap/w+sb9Gu+1tWPri637Y039ssjotqpk+qOHbWqps7MyJyhX/N1uWVG5owalfPGG6pxce4cliwxMQeea6N5smDBAr/zVnQfxcXV/T6Kj4+vMD09PV3vvfdeHTRokPbr108XLlyoK1eu1JSUFO3QoYMOHDhQ//vf/+ro0aP1lltu0aOOOkpvvfVW3bp1q44cOVL79++vw4cP119++UVVVe+77z698MIL9eijj9aDDjpIX3zxRVVVvfDCC/WDDz4orfeCCy7Qf//73+XkqehcAbM0BN7hjXEJugABPyA4CVgMLAPuqGB7Z+Br4GdgLnCKl97WS98NPO1vfQ2puP/3P9XYWNWDD1bdudO/fYqKVKdOVT3rLNXwcKdQTzpJ9YMPVAsKXB5fhVv2A6AsxcXFOu+seTrvt/MOUP4VvZhiY4On4BZds0inRU07QGlPi5qmi69dXOOyfM9PWJj7IMnLC7zMRuPCVxnddJPqkUdWvkRHH/hslCzR0ZXvc9NN1csQFhamAwcOLF0mTZqkqk5xP/XUU6qq+swzz+jll1+uqk4BP/roo6X7jx49Wk899VQtLCxUVdXrr79ex44dq6qqX375pQ4cOLB0vwEDBmhubq5mZ2drx44ddd26dTpt2jQdOXKkqqru2LFDMzIytKDkxVLJuSrBFHftl0bagVkxIhIOPAMcD2QBM0Vkiqou8Ml2D/COqj4nIn2Aj4EMIA8YA/TzlpDi11+dx7GOHeGTT5wxlT+Ehe2PprVgSg5vfRPPK2+Gc+aZrqxhw1x5JQZYJdPKYL/VdF4ebN5csggbTuhD9g7hn7dLafrXX5d3ZLJ3rzPiCob1dcaYDDb+c+MBaRIutfIRPWrU/mP46CM39/vuu11EMsPwh/xKnA9Wlu4vJV3lFfHb3/4WgMGDB/P+++9XWsY555xDuDfu9u2335ZGHDvmmGPYunUrOz3fwSNHjiQ2NpbY2FiOPvpoZsyYwZlnnsl1113H5s2bef/99zn77LOJaKzjYo2IpnaGhwHLVHUFgIhMAkYCvopbgRK1lwisB1DVPcC3InJQw4nrH6tWwYknujHszz6DZP9ncJWixcrOG+dzTu947ls9gA8/hOefd1OgypKb6xyUjB0LmzbBrl1lczjTiPg4pW18Ee27RlTqfSxYRlxRqVFEtY8if6X3ZowITESm006Da66Bxx93kc2OPbb6fWYOmsmeOeVN/eMz4xn6c/nYyUbj48knq95e1fTNadPqQ6L9oTyrC+MZHx9f+t81hA+kxLNiWQ+LJesXXXQREydOZNKkSbzyyit1ltuonqZmnJYGrPVZz/LSfBkLXCgiWbjW9g01rURErhKRWSIyKzu7bh7FqmPzZjj+eNd6nTrVvQBqw47pO8hfnU/KRSlERMBZZ7nyKrOazs+HoUOds5QHH4R//MP5Fv/hB1ixwvkcn3XeYl7b/j8+f3YX6ZU0ZINlxJW7OJf8dfn7P00LIenM2juR8eWxx6BXL+cJbuvW6vMnHJKARJV56UUJiYcmBkQeI/SpzJPf+PENK0fLli3ZVf5LvJTf/OY3TPSs5qZNm0ZSUhIJXvfev//9b/Ly8ti6dSvTpk1j6FD30XnJJZfwpPfl0rdv33o+AgOanuKuSA2V/YQ8H3hVVTsCpwCvi0iNzoOqvqiqQ1R1SLt27WopavXk5MBJJ8G6da6Ltl8dOvA3TthIeEJ4OeVVmWJNT3fW6E8+CXfe6Vrgp58Ow4dDly4QHw/dHu1GZLtIFo1exAPjikPixVRCfK94hv06jPaXt4cwaHVMK9oc3yYgZcfFOYvgzZvh//6vejepGWMyyjmtqW23vdE4qcqTX13Yu3fvAdPBqrMqP/3005k8eTKZmZl888035baPHTuWWbNmMWDAAO644w4mTJhQum3YsGGceuqpjBgxgjFjxtDBi8WbkpJC7969ufTSS+t2MIb/BHuQPZALcAgw1Wf9TuDOMnnmA5181lcAyT7rlxACxml796oedZSzIP/447qVVbCrQKfHT9dFVywqt62u1q5b/rNFv+ZrXX7H8hoZudUXxUXFuu3LbaXreevz9Kff/KR5G5w12a45u3TJDUu0qKCoznU9/LA7X6+8Un3eRdcs0q/DPEO58K9rZSRnhBY1sSpv7JQ1avNlz5492rVrV91RxRQSM04L7NLUWtwzge4i0kVEooDzgCll8qwBjgUQkd5ADFC//d01pLAQLrjAjX29+qobS60LO7/ZSfGeYlJGl4+rXdeWQNtT2pJ6eSprHlnDad12smqVCyiyalVwjNLWP7eeX479hW2fbwMgun00g6YPKh3b3v7Fdtb9fR3zz5pPUW5Rneq6/XY4+mjn7GbZsorz5G/IZ9fsXWSMySAsynvciiB5VC0MFQwjxPjiiy/o1asXN9xwA4mJNvTTUDQ5X+UicgrwJBAOvKKq40XkftzX3RTPkvwloAWuG/2PqvqZt+8qnOFaFLADOEEPtEgvR6B9lavClVe6oBd/+5sLzhEI9q7aS0x6TIUhPOtKYU4hP3b/kYLN5S3UGtIAK3dpLrMGzqLVka3o/3H/So913XPrWHrdUhJGJND/w/5Eto2sdZ1r18KAAc6n+TffQKRPUVs/2cqi0YuIaBXBsIXDWHLDEjY8vwHCoe1Jben/Yf9a12sEH/NV7j/mqzywNLUWN6r6sar2UNVuqjreS7tXVad4/xeo6mGqOlBVM0uUtrctQ1XbqGoLVe1YndKuD+66yyntMWMCp7QBYjNi60VpgwsPmnR2UlANsLRIWTR6EWHRYfT8R88qjzXtmjT6/qsvu2bv4ucjfiZ/Y+3n5HTqBC+8AD/+CH/+s0sr3lfMstuWMe+UeUSlRtHvg35IuJAxJoPEIxLpfGdntn22zW/XsUbo0tQaPvWBnaPA0+QUd2PmiSfgL3+Bq692EbUCwZqH1zDvzHkUFxQHpsBKyBgL1RLfAAAgAElEQVSTUc40sCENsNY8uoac73Po/mx3otOqn/LV7ux2DPxsIPH94olsU/sWN8C55zoL8/HjYfrHhfx06E9kPZFFh2s7cPCPBxPfx023Kem2z7gng2ELhhHXPa6ako1QJiYmhq1bt5piqgJVZevWrcTExARblCZFk+sqb2gC1VX+2mvu5X/uuc6au6wf8tqgqszoMYPojtFkfp1Z9wKrYfGVi9nwjw1uJRI6XNmBHs/0qPd6wflg3/7ldno816NWPQv7tuxj77K9JI6oXQ9BTg5kZrpz/vbQxXQ5vy3tzqp+xkHemjxiOttLrTFSUFBAVlYWeXl5wRYlpImJiaFjx45ERh74gWxd5bWnqTlgaZR8+KGbL33ccU6BB0JpA+R8l8PeZXtJv6dhWr0Z92ew8fWNaL5CAbQ5MTDTr/wh+Zxkks+pvcHXspuWseX9LfR5uw9JZ9Rsvnfh7kI23rmCVx5P57hzonn6iF68dlb1+61+cDVrHlrDsCXDiG5fN8cwRsMTGRlJly5dgi2G0QyxrvIg4BslKDUVfvtbOPhgmDwZogP4/t746kbC4sNIOjswjkeqI7p9NKmXpYJAeGI4C0ctJGdmTr3WuWrcKtb+dW2duysPevIg4gfE8+tZv7L+H/7HHN/10y5mHzyb9c+vp1fOdu65x8XwnjSp+n3bnduO4n3FrLhzRR0kNwyjuWGKu4GZONH5Al+92lmQb9oERUWuxd2iReDqKdpbxOZ3NtPu7HZEtGi4jpUSA6zM6Zm0OaUNsV1j662und/tZNX9q9gzf0+dDe+i2kUx8MuBtD6+NUuuXMKqB1ZV+TGgqqx9ci0/jfiJotwiMr/KJHV0KvfcAyNGODuF6ty9xh0UR6dbO7FpwiZ2/rCzTvIbhtF8sDHuOlLTMe6qfBavWhUwsSjMKSTrqSxaH9e61uO2gaI4v5jcJbm06B+4L5OiPUXMypxFcUExQ+cOJSIhMB8nxQXFLL58MTnf5zB49uBKy137xFqW37actme0pdcrvQ6YUrZiBQwcCIMHw5dfVj30Ubi7kBk9ZxDdIZqDfzy4nIc1w2iq2Bh37bEWdwNTWSss0ME4IhIiyLgnI+hKG2DZrcv4+bCf2fld4FqVy/+0nL3L9tLr1V4BU9oAYZFh9Hq1F4O+G0REQgQzM2cyTaaVWza+upGeL/ek3wf9ys0D79oVnn4apk+HRx+tur6IFhF0e6Qbeavy2Ltsb7Xy+Q6zZGS4dcMwmhemuBuYynyDBzIYR/7GfDa/u5ni/PqdAuYv6XelE5UaxdyT5rLz+7or79xluax/bj0db+5I66NaB0DCA5EwIapdFADFecXlp7lFCYlHJNL+svaVdtFffDGcc46bjz97dtX1JV+QzPBlw4nrUfX0sLLDLCUhWE15G0bzwhR3A9MQUYI2TdjEgnMWkLcmNKapRKe56WhRqVHMPbHuyjvuoDgGfTOILg/Wv0Vv2vVp5cLU+DM/XcSFTU1Nda5f95SP6umTV4hIjECLtNJeCVX44x9dyFVfcnNdbHDDMJoPprgbmB6PzeSW3AWkkIegpJDHLbkL6PHYzICUr6psnLCRhMMSQsrBR6nyToliwfkLKN5Xu96A3MVOcyUemkh4bIDmzVVBx+s70ua0/dPaJEr8juvdpo2b3rdkCdx2W/V1rX5gNXOOnMOehXtQhfnz4dln3dz+9u1hfSXG7sGKeW4YRnAwxd3AJBySwPFR2UziB75iOpP4geOjsgPmGnTXzF3kLswldXRqQMoLJNFp0WROy6TfB/32B9yoAdmTs5nRewbbpm6rB+kqp+eLPQmLcfLW1Bvc0Ue7YCQvvADJyZWPTRcXw7aj0pgc0ZEzjyogOVnp1w+uuw6+/97FZG9TybT4lPKxYwzDaMKYA5YGJmNMBpv+uQn16X8NpGvQjRM2EhYTRvK5oRl9KjotutQl6ZpH15B4RKJfBnT7Nu9jyf8tocWgFrQ6plV9i3kA0e2jSbk0hQ0vbPC7te1L376u6zzbi0FXMja9erWLaz5tGvz3v7BtWyTQjZS8PI49Op8TL4rhyCNd/HOR/WPcvt3lIrB1K0ydCieeGLBDNgwjhLEWdwNTogR8A3KEJ4RTsKV8ZK2aoqrsmr2LpLOSiEgM7W+ywl2FrH9hPXNPnEvOj1U7aVFVFl+1mMKcQnq/1puwyIa/bTPGZJB4eGKtPrDuu8+NUftSMjZ9880wdy6MHOlCuC5fUsyUvnO5efUcLj6/iK5dnXKGikOwPv20+zA47TR46626H6dhGKGPzeOuI7XxVZ6/IZ8fu/5IcV4xEimEtQijeFcxnf7YiYz7MmrVjVyCqlK0u4iIlqGtuAHysvKYc9QcCrILGPjZQBKGJ1SYb+OEjSy6ZBHdHutGp9s6NbCUdScsrLziLmHNGhdhzJftX25n6Q1L6TelH3EHVW+nsHOnU/z//a8LBXvDDQEQ2jDqGZvHXXusxR0ESlrdhEH7K9szfMlwki9IZvvn25Hw2jvgKC4sdhbKjUBpA8R0jCHz60wikyL55YRfyJlRccu7KLeI1se3puPNHRtYwsBQ2VS/9PTyShug9bGtGTpvqF9KGyAxET791CnvG2+Ee++t/EPBMIzGjynuIOHb9RqVFEXvCb3JnJaJhAv7tuxjyfVL2Ldln9/l7du0j+87fE/25Ox6lDrwxHSKIXNaJlHJUaUW42VJuyaNAVMH1OmjJpjUZgqghAuFOYVsmrjJrzpiYuBf/4LLL3dxwa+91rnSNQyj6dE4mmZNkJLYzL6Ex7npTTun72TDCxvIfjubbk90I+XClGp9cW96cxMF2QXE9QydKWD+EtMphiHzhhAeE87MQTPZM6f8pOf4zHiG/jw0CNLVnVGj3O/dd7uu8c6dndIuSa+Mdc+sY+VdK4nuFE2r31RvkBcRAS+95KzXH3oItmyBN94IbOAawzCCj7W4Q5B2Z7dj8E+DiT0olkUXL2LuCXPZu7xqd5gbX91Iy6Etie8T30BSBpbwGPfREtOpfGxqiZKATZcLFqNGOV/0xcXutzqlDdDxpo5Ed4pm6Y1L0SL/+r5F4MEH4Ykn4N134dRTYdeuOoluGEaIYYo7RGnRvwWDvh1E92e6k/NjDivurjz04645u9gzd09Izt2uKelj0su7GA3gdLnGRHhcON0e78aeX/aw/iX/Q40C3HILTJjgppodffT+qWiGYTR+THGHMBIupF2bxrCFwzjorwcBkLs0t9z0qU0TNiFRQvJ5oTl3uyYkDE0geVRyqfKuiaeypki737Wj1VGtWHn3Sgq21WzK4MUXw7//DQsWwOGHVxyVzjCMxodNB6sjtZkOVhcWnL+AzW9vJqJtBIVbCsttb8xjwSX4TpcLiw1j+IrhzVZxA+yet5sVf1pBj+d7ENO5/FBCdfzvf26ed1wcfPaZm/dtGMHGpoPVHmtxNzJ6vNCDtOvTKlTaTWEsGA6cLtecW9sltOjfggEfD6iV0gY47DA3x1sVjjjCuVA1DKPxYoq7kRGREEH3p7rT/6P+TXosuC6eypoqe1ftZeXYldSml6x/f/juO2jbFo491kUas7jehtE4McXdSGl7alvaX9UevABZTW0suGS6XFM5nkCwfep2Vo9bTfa7tbM0y8hw3ebJyfDooxbX2zAaK01OcYvISSKyWESWicgdFWzvLCJfi8jPIjJXRE7x2Xant99iEQn5kA0Z92WU+u1uSq1to2LWPbcOgAXnLmCaTCtdZg7yPyRscrKbklYWi+ttGI2HJqW4RSQceAY4GegDnC8ifcpkuwd4R1UHAecBz3r79vHW+wInAc965YUsNhbcvEg4NAEiD0yrjV1DVlbF6WvWQEHdY90YhlHPNCnFDQwDlqnqClXdB0wCRpbJo0BJNItEoGSC7Ehgkqrmq+pKYJlXXkhjY8HNh4wxGYSFH/jISrjQ+rjWLLlmCWseXsPmtzeT82MO+RvzKx0LT4nIrzBdFTp0gOuvhx9+MH/nhhGqNDWXp2nAWp/1LGB4mTxjgc9E5AYgHjjOZ98fyuybVj9iBo6KXKcaTZOSHpaNL29E92mpXUPhzkI2/2szhVsPnGkwfPlwYrvGkv1eNts+20ZMegwxGTHcNDCfsbPSyGd/h1I0RVwwcCe5vdrw8svwzDPQrRtceKHz8ta9e0MfrWEYldHUFHdFDr3LthvOB15V1cdF5BDgdRHp5+e+rhKRq4CrADpXFvrJMOqBjDEZbPrnJhQttWuITo2m/SXtKdxVSN7qPPJW5ZG/Op/ojm7oZO+KvWyZvIWCbNcPPgK4nd38g65sJppk8rkyciX3fNqV6FTIyYH333d+zu+/H8aNg2HDnBL//e/dOLlhGMGjqXWVZwG+gRI7sr8rvITLgXcAVPV7IAZI8nNfvP1eVNUhqjqkXbt2ARLdMKqnKruGiJYRtOjXgqTTkki7Lq00rnvnP3TmsM2HccTuIxi6YCj9P+7P2Ufn83bUj3zFdCZF/MBFV4aXlpWQAJdcAl98AWvXOgv0fftcyNAOHZz/87fecgZtEyfatDLDaGialOc0EYkAlgDHAuuAmcAFqjrfJ88nwNuq+qqI9Aa+xHWJ9wHexI1rd/DSu6tqlcERG9pzmmHkb8hnwXkL6PN2n1obJPp6pwPoN6UfSacnVbnPr786xTxxolPo0dFQWHhg+NC4OHjxRf+CqBjNG/OcVnuaVItbVQuB64GpwEKc9fh8EblfRM7wst0GXCkivwBvAZeoYz6uJb4A+BS4rjqlbRjBIBBz3H1b7uEtwll+23KKcqu+3fv1c+FCV61ywUsiI8vH/LZpZYZR/zSpFncwsBa30Vgpabmn3ZjGgt+53+5/898KLSysYstzkYrnihuGL9birj1NqsVtGIb/lLTck89OJu36NNY9tY4d03f4vX9ldpkREfDTTwES0jCMcpjiNgyDrn/pSsrFKUR39r/7ffx4N6btS3Q0xMfD8OHOGt0cuhhG4DHFbRgG4fHh9J7Qm9gusX7vM2qUM0RLT3fd4+np8PLLsGKFmzY2diyMGAHz51dblGEYNSBkFbeIzBKR60SkdbBlMYzmQsHWAuadMY9tX2zzK/+oUc5YrbjY/Y4aBa1buzng777r3KgOHgyPPVbekM0wjNoRsoob5ze8AzBTRCaJyIkiUpGTFMMwAkRYXBi5i3NZfPliCnPKx3yvCWef7VrbJ58Mf/gDHHkkLFsWIEENoxkTsopbVZep6t1AD9z86leANSIyTkTaBFc6w2iahMeG02tCL/Kz8ll++/I6l5ec7Lywvfaamwc+cCA895z5QTeMuhCyihtARAYAjwOPAu8BvwNygK+CKZdhNGUSRyTS6fZObHhpA9um+tdlXhUicNFFTnEffjhcey2ceKJz4mIYRs0JWcUtIrOBv+K8nw1Q1RtV9UdVfRxYEVzpDKNpkzEug7g+cawcs7LSKGM1pWNH+PRT1+L+7jvn0GXCBGt9G0ZNCVnFDZyjqseq6puqekAcQlX9bbCEMozmQHhMOP3e78eATwcQSNMSEbj6avjlFxgwwPlEP+ssePZZ83luGP4Syor7ChFpVbIiIq1F5IFgCmQYzYm4nnFEtomkuKCYPYv2BLTsbt2c29THH4ePPoLrroPVq13re/VquOoqU96GURmhrLhPVtVSN06quh04JYjyGEazZPEVi/nl6F8o2BpYbyrh4XDrrRWHCTWf54ZROaGsuMNFpNSNk4jEArWPqmAYRq3oeHNHCrYUsPTGpfVS/saNFaevWVMv1RlGoyeUFfcbwJcicrmIXAZ8DkwIskyG0exoOagl6feks/nNzWS/nx3w8ivzeV5ZumE0d0JWcavqI8B4oDfQF/izl2YYRgPT+a7OtBjUgiVXL2Ff9r6All2Zz/Px4wNajWE0GSKCLUBVqOonwCfBlsMwmjthkWH0mtCLRaMXUbClgKh2UQEre9Qo93v33a57PDzcuU0999yAVWEYTYqQbXGLyAgRmSkiu0Vkn4gUiUhOsOUyjOZKi/4tGDx7MPG94wNetq/P88mT3bj3Cy8EvBrDaBKErOIGngbOB5YCscAVwN+DKpFhNHNEhMJdhSy7dRn7NgW2y7yEU0+Fo4920cV2+B8e3DCaDaGsuFHVZUC4qhap6j+Bo4Mtk2E0d/LX5bPu2XUsuXpJwLyq+SLi5ndv2wYPPRTw4g2j0RPKijtXRKKAOSLyiIjcAgS+j84wjBoR3yueLg90YcsHW9j85uZ6qWPQILj4YnjySdeFbhjGfqQ+vpgDgYikA5uAKOAWIBF41muFhwxDhgzRWbNmBVsMw2hQtEj5JuEbinOLy22Lz4xn6M9D61xHVhb06AFnnglvvlnn4owQQ0Rmq+qQYMvRGAnJFreIhAPjVTVPVXNUdZyq3hpqStswmisSLiSNTCqfHiUkHpoYkDo6doTbboO33oIZMwJSpGE0CUJScatqEdDO6yo3DCME6fZ4NyTqwAAkEi6kj0kPWB1//COkpDjXqCHaOWgYDU5IKm6PVcD/RGSMiNxasgRbKMMwHNHto0m9PLVUeUuUkHppKtGpgfNM3LIl3H8//O9/bpqYYRihrbjXAx/hZGzpsxiGESJkjMlAwpzi1kIl/Z7AtbZLuOwy6NsX/vQn2Fc/M9AMo1ERsp7TVHVcsGUwDKNqottHk3JpChue3wDFsOXfW0i7Oi2gdUREwGOPwcknu7jdN98c0OINo9ERsi1uEflaRL4qu/ix30kislhElonIHRVs/6uIzPGWJSKyw2fbwyLyq7f8PtDHZBhNkYwxGSQekUjibxJZfvty9i7fG/A6TjwRjj/edZtv3x7w4g2jURGyLW7gdp//McDZQGFVO3jW6M8AxwNZwEwRmaKqC0ryqOotPvlvAAZ5/08FDgYyceFDp4vIJ6pqblYNowqi20czaPog8tbmMbPfTBZduojMrzORcKl+Zz8Rca3uzEx44AHnoMUwmish2+JW1dk+y/9U9VZgeDW7DQOWqeoKVd0HTAJGVpH/fOAt738fYLqqFqrqHuAX4KQ6HoZhNBtiOsXQ/anu7F26l7xVeQEvf8AAuPRS+PvfYcWKgBdvGI2GkFXcItLGZ0kSkROB1Gp2SwPW+qxneWkVlZ8OdAFKut9/AU4WkTgRScK5V+1Uyb5XicgsEZmVnR34+MSG0VhJuTiFYYuHEdsttl7K//OfITIS7ig3CGYYzYeQVdzAbGCW9/s9cBtweTX7VNQ3V9nsz/OAd70546jqZ8DHwHe4Vvj3VNI1r6ovquoQVR3Srl276o7DMJoNIkJEQgTFBcWsf3E9xYXlPavVhQ4d3Nzuf/0LvvsuoEUbRqMhZBW3qnZR1a7eb3dVPUFVv61mtywObCV3xE0rq4jz2N9NXlLneFXNVNXjcR8BS2srv2E0Z7Z/uZ0l/7eEtQ+vrT5zDbn9dmjf3nlVM6csRnMkZBW3iFwnIq181luLyLXV7DYT6C4iXTyva+cBUyoouyfQGteqLkkLF5G23v8BwADgs7ofiWE0P9qe1Jbk85JZNW4Vu+bsCmjZ8fHOQO2HH1zL2zCaGyGruIErVbV0qpaqbgeurGoHVS0ErgemAguBd1R1vojcLyJn+GQ9H5ikB0ZYiQS+EZEFwIvAhV55hmHUgu5PdyeybSSLRi+ieF9gu8xHj3bGanfcAfn5AS3aMEKeUFbcYSJSOmbtTfWq1ne5qn6sqj1UtZuqjvfS7lXVKT55xqrqHWX2y1PVPt4yQlXnBPBYDKPZEdk2kh4v9WDP3D2sun9VQMsOD3fTw1auhKefDmjRhhHyhLLingq8IyLHisgxuPHoT4Msk2EYNSDptCQyxmVUGEmsrhx/vPOm9sADsHVrwIs3jJAllBX3n4AvgWuA67z/fwyqRIZh1JiMezNIGJoAgAbYmuzRRyEnx00TM4zmQigr7ljgJVX9naqeDfwD59HMMIxGhqqy5JolLL9teUDL7dsXrrgCnnkGltocEKOZEMqK+0uc8i4hFvgiSLIYhlEHRATCIevJLHb8d0f1O9SAceMgJsZFDzOM5kAoK+4YVd1dsuL9jwuiPIZh1IFuD3cjpmsMiy5ZROHuwE3YSE11SnvyZPjmm4AVaxghSygr7j0icnDJiogMBgIfdsgwjAYhPD6c3hN6k7cqjxV/CKyz8VtvhbQ055SlOLAzzwwj5AhlxX0z8C8R+UZEvgHeBm4IskyGYdSBxMMS6XRbJza9sYn8DYGbgB0XBw8+CDNnQkoKhIVBRgZMnBiwKgwjZAjZsJ6qOlNEegE9ce5HFwVZJMMwAkDGnzPocG0HotsH1tY0LMyF/9yyxa2vXg1XXeX+jxoV0KoMI6iEcosbVS0A5gPtgOdwvsgNw2jEhMeEE9slFlVlx/TAGardc0953+W5uXDXXQGrwjBCgpBV3CIyXET+BqzG+Rv/BugVXKkMwwgUmyZuYs5Rc8j+IDChcdesqTx96FC4+mp46SWYPdvcpBqNm5BT3CIyXkSWAg8C84BBQLaqTvD8lRuG0QRIPjeZFpktWPJ/S9iXva/O5XXuXHF6QoJb3n7bdZ0PGQItW8LgwXDllfD8825sPC9v/z4TJ7oxchsrN0IRCbQno7oiItnAYuBJ4CNVzRORFaraNciiVciQIUN01qxZwRbDMBolu+ftZvbg2SSNTKLPO33wCU9QYyZOdIo5N3d/WlwcvPiiG+NWdb7NZ892y08/ud9t21zeiAjn0KVVKxfru6Cg4nKMwCAis1V1SLDlaIyEouIOB07ARfA6BvgaOA7oFIrRukxxG0bd+K7Dd+zbUL7FHZ8Zz9Cfh9aorIkT4e67Xfd4584wfnzVylbVGbGVKPHZs+HzzyueUpaeDqtW1UgcowpMcdeekFPcvohIDHAaTokfDnypqhcEV6oDMcVtGHVj8dWL2fDSBvBRlhIltL+iPT2e6dHg8oSFlTdyA2exbnPEA4cp7toTcmPcvnihNt/1fJV3x0UMMwyjCZFxXwZhUQe+iiRcSB+THhR5KhsrryzdMBqakFbcvqhqjqpOCLYchmEEluj20aRcmoJE7R/fjmgVwd7FwXGUOH68G9P2JSbGpRtGKNBoFLdhGE2XjDEZSJhT3BIpaJEy56g5zDl2Dju+DWxQkuoYNcoZoqWnu+5xEWeBboZpRqhgitswjKBT0uomDNpf2Z4Rq0bQ7a/d2PPrHpZeuzTgcbyrY9QoZ4hWXOz8oH//PSxe3KAiGEalhLpx2qFABj6uWVX1taAJVAFmnGYYgSF/Qz4LzltAn7f7EJ3q3KEW7SkiPyufuJ5xFO4sZPGVi+n0h04kDE1oMLk2b4YuXeCss+CNNxqs2iaPGafVnpBtcYvI68BjOGvyod5iF9kwmijR7aMZNH1QqdIGF1EsrqcbcN7z6x62f7mdn4b9xLwz5rHr510NIldyMlx3Hbz1Fixc2CBVGkaVhGyLW0QWAn00VAX0sBa3YTQchTmFrPv7OtY+tpbCHYUknZVEn7f6EBZdv22Q7GzX6j79dKfAjbpjLe7aE7LRwYBfgVRgQ7AFMQwjNIhIiCD97nTSrk8j68ks9izcU6q0Z/SbQe783HL71MaRS1natYMbboCHH3bBTPr2rVNxhlEnQrarHEgCFojIVBGZUrIEWyjDMIJPRGIEGfdl0HeS06B7V+4ld2FuuTeaRAmJhyYGpM7bb4f4eLj//oAUZxi1JpRb3GODLYBhGI2DiMQI0q5NY93T6w5ID6Qjl7Zt4cYb4aGHXKu7f/+AFGsYNSZkW9yqOr2ipbr9ROQkEVksIstE5I4Ktv9VROZ4yxIR2eGz7RERmS8iC0XkKalLxAPDMBqMyDaRdP97d1IuSYHw/entzmt3gLFbXbntNmjRAsaNC1iRhlFjQlZxi8gIEZkpIrtFZJ+IFIlITjX7hAPPACcDfYDzRaSPbx5VvUVVM1U1E/g78L6376HAYcAAoB/Oiv3IgB+YYRj1RtcHuxIW6V5rEiV0fdAFFVx530p2frezzuW3aQM33wzvvQe//FLn4gyjVoSs4gaexgUXWQrEAld4aVUxDFimqitUdR8wCRhZRf7zgRIbUQVigCggGogENtVaesMwGpwDHLlc0Z7o1Gj2Ze9j/bPr+fmwn5lz9By2f7m9Tg5dbrkFEhOt1W0Ej1BW3KjqMiBcVYtU9Z/AUdXskgas9VnP8tLKISLpQBfgK6+u73EhRDd4y1RVrXDWpohcJSKzRGRWdnZ2DY7IMIz6JmNMBomHJ5aObUe1i3Ke2J7oRu7iXH457hd+OuQncheXt0D3h9atXat78mT4+edASm4Y/hHKijtXRKKAOd7Y8y1AfDX7VDQmXdmn9XnAu6paBCAiBwG9gY44ZX+MiPymoh1V9UVVHaKqQ9q1a+fPsRiG0UBU5sil0y2dGL5iON2f647mK1GpUQDkZeWhRTVrgd98M7RqBWPHBlJyw/CPUFbcF+Hkux7YA3QCzq5mnywvXwkdgfWV5D2P/d3kAGcBP6jqblXdDXwCjKiF3IZhhCjhMeGkXZ3G4J8GE5EYgRYr806ex4y+M9j42kaKC/wLuN2qlfNhPmUKzJ5dz0IbRhlC1nMagIjEAp1V1S/3/iISASwBjgXWATOBC1R1fpl8PXGxvbuUeGYTkd8DVwIn4VrunwJPquqHVdVpntMMo/GixUr2u9msHr+aPXP3ENMlBi1Q8rPyy+Ut68glJwcyMuCww+DDKt8SRkWY57TaE7ItbhE5HZiDU6CISGZ1DlhUtRDXQp8KLATeUdX5InK/iJzhk/V8YFIZd6rvAsuBecAvwC/VKW3DMBo3EiYkn5vMkDlD6DelH5HtIp3SLuPhoiJHLgkJbnrYRx/BzJkNKLTR7AnZFreIzAaOAaap6iAvba6qDgiuZAdiLW7DaDqouhb4oosXUZy3v9s8LDaM4SuGl5sTvmuXa3UPHw4ff9zAwjZyrMVde0K2xZx063MAABcOSURBVA0UqmrdJ14ahmH4iYiQfE4yKZemIJGerWs4pF6aWqEjl5Yt4Q9/gE8+gR9+aGBhjWZLKCvuX0XkAiBcRLqLyN+B74ItlGEYTZ+MMRlIuKe4i6BFZotK815/PSQlmYW50XCEsuK+AegL5OOsv3OAm4MqkWEYzQJfRy6RKZEsu2UZexbsqTBvixau1T11KnxnTQujAQjZMe7Ggo1xG0bTJH9DPgvOW8BBfzuIuSfNJSIhgsGzBhORUD420549Ll73wIHw+edBELYRYmPctSfkooP5YTl+RlXbDcMwAkGJIxeAvu/2Zdt/thEeH15h3vh4+NOfXOjPb7+Fww9vSEmN5kbItbhFJBvntvQt4EfKeEPzJ0JYQ2ItbsNoXhTtLSI8trwCz82Frl2hb1/48ssgCNbIsBZ37QnFMe5U4C5chK6/AccDW/wN62kYhlFf7Fm4hx+7/8jW/2wtty0uzrW6v/oKptubyqhHQk5xewFFPlXV0TiXo8uAaSJyQ5BFMwyjmROTHkNUuygWjFpA7tLyQUquvhpSU+G++4IgnNFsCDnFDSAi0SLyW+AN4DrgKby42YZhGMEiPC6cvpP7IuHCr2f9SuHuwgO2x8bCnXe6FvfXXwdJSKPJE3KKW0Qm4OZrHwyMU9WhqvpnVV0XZNEMwzCIzYilz6Q+5C7MZfHli8vF9r7qKujQwbW6Q8yEyGgihJzixkUF6wHcBHwnIjnesktEcoIsm2EYBm2Ob0PXB7tStLvoANeoADExrtX9zTduvNswAk3IWZU3Nsyq3DCaJ6oK6gKVlCUvD7p3h86d3fQwKZ+l2WNW5bUnFFvchmEYIY+IIGFCXlYec0+bS97qvNJtMTFw113Ok1pqKoSFuWAkEycGT16j6WCK2zAMow4U5xaz85ud/Hr2rxTtLSpNj4tzLe3Nm91Y9+rVbvzblLdRV0xxG4Zh1IG4HnH0fr03u2fvZum1S0uN1SoyTsvNhbvvDoKQRpPCFLdhGEYdSTojifR709n46kbWP78egDVrKs67Zo1Zmxt1wxS3YRhGAMi4L4M2p7Rh/XPrKS4opnPnivOpQu/e8NhjkJ3dsDIaTQNT3IZhGAFAwoTeE3sz6NtBhEWGMX68G+f2JTbWjXMnJblQoGlp8PvfwxdfQHFxxeUaRllMcRuGYQSIyFaRRCREULS3iMNXr+aFZ4tJT3dGaunp8NJL8MILborYr7/Cdde5MKDHH++mjz30EGzYEOyjMEIdm8ddR2wet2EYZdn68VbmnTqvwm3xmfEM/Xlo6XpeHrz/vlPq06ZBeDiccQZceSWccIJbnzjRGbWtWePmho8fD6NGNdDB1BM2j7v2WIvbMAwjwLQ9pS3xA+PLpUuUkHho4gFpMTFwwQXOt/nixXDrra5FfsopLkzo2Wc7Jb56tU0rMxymuA3DMOqBfh/2K/eGlXAhfUx6pfv06AGPPAJZWfDOO9Czp2uN7917YD6bVta8McVtGIZRD8R2iiXl4pTSdYkSUi9NJTo1utp9o6LgnHPgs88qd5da2XQzo+ljitswDKOe6PpgVyTKad7qWtuVUdm0ssrSjaZPk1PcInKSiCwWkWUickcF2/8qInO8ZYmI7PDSj/ZJnyMieSJyZsMfgWEYTYXo9tGkXp4KYfjd2i5LRdPKwFmkG82TJqW4RSQceAY4GegDnC8ifXzzqOotqpqpqpnA34H3vfSvfdKPAXKBzxr0AAzDaHJkjMmg5ZCW5C7OZddPu2q8/6hR8OKLlE4ra98eEhKcA5cFC+pBYCPkaVKKGxgGLFP9//buPEqq8szj+PfphYamZRXopukFAZkQDYoNOjFxSHAUHKNmxsnAkOOSqNHoxJhoYo7LmKgTg5PFGJO4kVEPBzSZmKgnHvXEJRNlFRFwaxZBWhoaAcGmpYHuZ/64t0NRVPVaVbeq+X3OqVNV9773vk9fin76fe9b7+vr3X0fsAA4t53ys4D5CbafDzzt7k1piFFEjiBFZUVMfHYija82svG2jd06x+zZsGFDMEnL5s2wZEnwNbGpU4Pvg8uRpbcl7nJgU8z7unDbYcysChgNJFrqfiaJE3rbsZeZ2TIzW7ZNcxaKSAcKBhZQ/o1yPnj8AxpXN/b4fOPHB9/5LiyEz30OViX+yrj0Ur0tcScaf5lshpmZwO/cvSV2o5mVAccDzySrxN3vc/cad68ZNmxYt4MVkSPHqKtHkV+Sz3u3p2Y4+LHHBsm7qChI3q+/npLTSg7obYm7DqiIeT8K2JykbLJW9ZeAx919f4pjE5EjWOGQQkZeOZKGRxtoeic1d+HGjQuSd79+8PnPw4oVKTmtZLnelriXAuPMbLSZ9SFIzk/EFzKz8cBgYGGCcyS77y0i0iMV36qg+pZqCkcUpuycY8fCSy9BSUmQvJcvT9mpJUv1qsTt7geAqwi6ud8CHnP3N8zsB2Z2TkzRWcACj5uo3cyqCVrsL2UmYhE5kvQZ3ofqm6spHJS6xA3B1KgvvhiMNp82DV59NaWnlyyjRUZ6SIuMiEhXffDHD2h6p4nK76R2FpUNG4L73Tt3BquOTZ7c4SGR0SIj3derWtwiIrlgxzM7ePemd9lbtzel562uDrrNhwyB00+HxYtTenrJEkrcIiIZVvndSmiFTXM2dVy4q+euDJL3sGHBsqALE43kkZymxC0ikmF9q/oy4oIR1N9fT/OW5pSfv6IiuOc9fDiceSa88krKq5AIKXGLiESg8nuVtO5rpe7HdWk5/6hRQfIuKwuS91//mpZqJAJK3CIiESgeW0zldyrp/6n+aaujvBxeeCF4nj4dbr45uA+elxc8z5uXtqoljTSqvIc0qlxEsl19PZx0UvAcq7g4WMBk9uzMx6RR5d2nFreISIRaPm6h7hd17P8wfZM1lpUFi5LEa2qCG25IW7WSJkrcIiIR+rj2Y9b+x1re//n7aa3n/SSnfy81U6dLBilxi4hEqGRiCUPPGUrdz+o48NGBtNVTmWSul2TbJXspcYuIRKzqxioO7DzA5l8mWxOp526/PbinHatv32C75BYlbhGRiA2YPIDBZw5m04830bKnpeMDumH27GAgWlUVmAUjy8vLYebMtFQnaaTELSKSBapvqqbf2H7s27ovbXXMnh3MZ97aCg8/DOvWwd13p606SRN9HayH9HUwEUkVd8fMMlQXfOELwfe8V60KVhjLJH0drPvU4hYRyRJmxr6GfexauCsDdcGvfw0FBXDppUEil9ygxC0ikkXenPUmb858k9Z9rWmva9QouPNOeP55ePDBtFcnKaLELSKSRSq+XUHze81sfWRrRuq75BKYOhW+/e3k3/WW7KLELSKSRYbMGELJSSVs/OFGWg+kv9WdlwcPPAD798MVV6jLPBcocYuIZBEzo+rGKvau20vDgoaM1DlmDNx2Gzz5JCxYkJEqpQeUuEVEsszR5xxN/4n92bNyT8bqvPpqOPlk+MY3YNu2jFUr3aDELSKSZSzPmLRoEmPmjMlYnfn5wQC1XbuCJC7ZS4lbRCQL5fcNlvNqWtNEpubb+OQn4cYbYf78oNtcspMSt4hIltr54k6WjF/C9ie3Z6zO66+H44+Hyy+HDz/MWLXSBUrcIiJZauBnBtK3ui8bb9uYsVZ3nz4wdy5s2QLXXZeRKqWLCqIOQEREEssryMMPOB8t/YiX8l46ZF//E/oz+bXJaam3pgauvRbmzAkWIZk2LS3VSDf1uha3mU03s3fMbK2ZXZ9g/0/NbEX4qDWzD2P2VZrZs2b2lpm9aWbVmYxdRCTekBlDDttmfYyBnx6Y1npvuQXGjQumQ92TucHt0gm9KnGbWT5wDzADmADMMrMJsWXc/Rp3P8HdTwDuBn4fs/th4E53/wQwBcjMlyhFRJKovqUaKzx04RHLN6puqkprvf36BROzvPtuMGBNskevStwEyXatu693933AAuDcdsrPAuYDhAm+wN2fA3D3RndvSnfAIiLtKSorovSi0r/d2LQ+hrtTe3ktmx/YTHN9c9rqPu00+PrX4a67YOHCtFUjXdTbEnc5sCnmfV247TBmVgWMBp4PNx0LfGhmvzez18zszrAFLyISqervV5NXEPy6tjxj+MzhNL7WSO2ltSwcuZBlNcvY+eLOtNR9xx1QUQFf/So0p+9vBOmC3jY4LdFCtsmGYs4EfufuLeH7AuCzwInAe8CjwEXAYWvmmNllwGUAlZWVPYtYRKQDRWVFjLh4BPX31lP6lVKOvedY3J09q/ew/antbH9qO/klQTtj5/M7aZjfwNCzhzJo2iAKSoJf80tPXMqeFYffrO5okNtRR8G998KMGcG0qLfemp6fUTqvtyXuOqAi5v0oYHOSsjOBK+OOfc3d1wOY2R+AU0iQuN39PuA+gJqaGk3JLyJpV31TNU1vNP3t3raZUXJ8CSXHl1D1vYP3uz9e/zENjzVQ/0A91scY9LlBDD17KAOmDKDpzSZ838FfWZ0d5DZ9OlxwQdD6Pv98mDgx9T+fdJ5l6ruBmWBmBUAtMA14H1gK/Lu7vxFXbjzwDDDawwsQdosvB053921m9htgmbvf016dNTU1vmzZstT/MCIi3dS6v5Vd/7craI0/uZ2WPS1MWjqJJWOX0Lr34Ipjef3yOHn9yRSVFnV4zh07YMIEKC+HxYuhoIfNPjN71d1renaWI1Ovusft7geAqwiS8lvAY+7+hpn9wMzOiSk6C1jgMX+1hF3m1wJ/NrNVBN3u92cuehGR1MgrzGPw5wcz9idjOXnNydSsrKFveV9GXDTikHIlk0qwvER3GA83ZAjccw8sXw7DhgXLgVZXw7x5afgBpF29qsUdBbW4RSRXNNc3s+iYRfheD5omDlZgHDPnGCquqejw+Hnz4MILoaXl4LbiYrjvPpg9u2uxqMXdfb2qxS0iIskVlRVRenEp5MHIK0YyefVkRl0zigFTBgDQuLqR2itr2b10d8IpVm+44dCkDdDUFGyXzOltg9NERKQdsYPcikqLDlk6tPG1RrbM3cLmX26m+BPFlF5Yyogvj6CoPLgH/t57ic+ZbLukh7rKe0hd5SLSm+z/cD/bfruNLQ9tYffLu8kfkM+pDaeSV5RHWZ9mtuw/fCBbaWEz9fs6HuAWS13l3acWt4iI/E3hoEJGXjqSkZeOpGlNE3tW7iGvKLir+rXijdyxawzNHJybqogWrv2HHUBZRBEfeXSPW0REEioeV8ywfxkGQMveFs4/Yx/X8g4j2IvhjGAv1xXWctUjhy+EIumjFreIiHQov28+xz12HF++5G1Of2gRHAgmcCm7pKxT3wOX1FGLW0REOm30raMPzpuegVXK5HBK3CIi0mlt86aTB6UXl6q1HQF1lYuISJfEz5sumaXELSIiXVJUVsSJL50YdRhHLHWVi4iI5BAlbhERkRyixC0iIpJDlLhFRERyiBK3iIhIDtEiIz1kZtuAjWms4mjggzSePx0Uc/rlWrygmDMlV2KucvdhUQeRi5S4s5yZLcu1FXQUc/rlWrygmDMlF2OWrlFXuYiISA5R4hYREckhStzZ776oA+gGxZx+uRYvKOZMycWYpQt0j1tERCSHqMUtIiKSQ5S4RUREcogSdxYwswoze8HM3jKzN8zs6gRlpprZLjNbET5ujiLWuJg2mNmqMJ5lCfabmf3czNaa2UozmxRFnGEs42Ou3Qoz221m34wrE/k1NrO5ZtZgZqtjtg0xs+fMbE34PDjJsReGZdaY2YURx3ynmb0d/rs/bmaDkhzb7mcowzHfYmbvx/z7n5Xk2Olm9k74ub4+4pgfjYl3g5mtSHJsJNdZ0sTd9Yj4AZQBk8LXRwG1wIS4MlOBp6KONS6mDcDR7ew/C3gaMOAUYHHUMYdx5QNbCCaAyKprDJwGTAJWx2ybA1wfvr4e+FGC44YA68PnweHrwRHGfAZQEL7+UaKYO/MZynDMtwDXduKzsw44BugDvB7/fzWTMcft/zFwczZdZz3S81CLOwu4e727Lw9ffwS8BZRHG1VKnAs87IFFwCAzK4s6KGAasM7d0znjXbe4+1+AHXGbzwUeCl8/BJyX4NAzgefcfYe77wSeA6anLdAYiWJ292fd/UD4dhEwKhOxdFaS69wZU4C17r7e3fcBCwj+fdKuvZjNzIAvAfMzEYtES4k7y5hZNXAisDjB7r83s9fN7Gkz+2RGA0vMgWfN7FUzuyzB/nJgU8z7OrLjD5KZJP8Fl23XGGCEu9dD8EceMDxBmWy91gBfIeh5SaSjz1CmXRV2789NcksiW6/zZ4Gt7r4myf5su87SA0rcWcTMSoD/Bb7p7rvjdi8n6NqdCNwN/CHT8SVwqrtPAmYAV5rZaXH7LcExkX7/0Mz6AOcAv02wOxuvcWdl3bUGMLMbgAPAvCRFOvoMZdKvgDHACUA9QddzvKy8zsAs2m9tZ9N1lh5S4s4SZlZIkLTnufvv4/e7+253bwxf/wkoNLOjMxxmfEybw+cG4HGCbsRYdUBFzPtRwObMRJfUDGC5u2+N35GN1zi0te0WQ/jckKBM1l3rcIDc2cBsd0+Y3DrxGcoYd9/q7i3u3grcnySWbLzOBcA/A48mK5NN11l6Tok7C4T3px4E3nL3nyQpUxqWw8ymEPzbbc9clIfF09/Mjmp7TTAYaXVcsSeAC8LR5acAu9q6fCOUtGWSbdc4xhNA2yjxC4E/JijzDHCGmQ0Ou3jPCLdFwsymA98FznH3piRlOvMZypi48RdfTBLLUmCcmY0Oe29mEvz7ROl04G13r0u0M9uus6RA1KPj9HCAzxB0t60EVoSPs4DLgcvDMlcBbxCMYl0EfDrimI8JY3k9jOuGcHtszAbcQzAKdxVQE3HMxQSJeGDMtqy6xgR/VNQD+wlad18FhgJ/BtaEz0PCsjXAAzHHfgVYGz4ujjjmtQT3gts+z78Oy44E/tTeZyjCmB8JP6crCZJxWXzM4fuzCL75sS7qmMPt/9P2GY4pmxXXWY/0PDTlqYiISA5RV7mIiEgOUeIWERHJIUrcIiIiOUSJW0REJIcocYuIiOQQJW6RCJiZm9kjMe8LzGybmT2VhrpeNLOabh57nplNSMW5RCQ1lLhForEHOM7M+oXv/xF4P8J4kjkPmNBhKRHJGCVukeg8DfxT+PqQGd3MbIqZvWJmr4XP48Pt3zKzueHr481stZkVx57UzPqZ2YJwsYxHgX4x+84ws4VmttzMfhvOj9+2XvOPzGxJ+BhrZp8mmNf9znAd5zHhaf41LFNrZp9N07URkSSUuEWiswCYaWZ9gU9x6IpwbwOnufuJwM3Af4XbfwaMNbMvAr8BvuaHTyl6BdDk7p8CbgdOAgjnXb8RON2DBSeWAd+KOW63u08BfgH8zN1fIZhB7Dp3P8Hd14XlCsJy3wT+s8dXQUS6pCDqAESOVO6+MlzGdRbwp7jdA4GHzGwcwXS4heExrWZ2EcG0nPe6+8sJTn0a8POYOlaG208h6PZ+OZySvQ+wMOa4+THPP20n9LZFcF4Fqtv7GUUk9ZS4RaL1BPDfwFSCOcnb3Aq84O5fDJP7izH7xgGNBPNRJ5NoLmMDnnP3WZ04pr25kJvD5xb0O0Qk49RVLhKtucAP3H1V3PaBHBysdlHbRjMbCNxF0KoeambnJzjnX4DZYfnjCLrhIVg45VQzGxvuKzazY2OO+7eY57aW+EfAUV3/sUQkXZS4RSLk7nXufleCXXOAH5rZy0B+zPafAr9091qCFa3uMLPhccf+CigJu8i/AywJ69pG8EfA/HDfIuDvYo4rMrPFwNXANeG2BcB14SC5MYhI5LQ6mIhgZhsIll39IOpYRKR9anGLiIjkELW4RUREcoha3CIiIjlEiVtERCSHKHGLiIjkECVuERGRHKLELSIikkP+H6DuFDYmW4XYAAAAAElFTkSuQmCC\n",
      "text/plain": [
       "<Figure size 432x288 with 1 Axes>"
      ]
     },
     "metadata": {
      "needs_background": "light"
     },
     "output_type": "display_data"
    }
   ],
   "source": [
    "import matplotlib.pyplot as plt\n",
    "\n",
    "\n",
    "plt.plot(gini['sqrt']['max_depth'], gini['sqrt']['mean_test_score'], 'mv--')\n",
    "plt.plot(entropy['sqrt']['max_depth'], entropy['sqrt']['mean_test_score'],'bo-')\n",
    "plt.title('Accuracy by maximum depth and criterion and max_features=sqrt(n_features)')\n",
    "plt.legend(['Gini', 'Entropy'])\n",
    "plt.xlabel('Max depth')\n",
    "plt.ylabel('Mean Accuracy')\n",
    "plt.show()\n",
    "\n",
    "plt.plot(gini['log2']['max_depth'], gini['log2']['mean_test_score'], 'mv--')\n",
    "plt.plot(entropy['log2']['max_depth'], entropy['log2']['mean_test_score'],'bo-')\n",
    "plt.title('Accuracy by maximum depth and criterion and max_features=log2(n_features)')\n",
    "plt.legend(['Gini', 'Entropy'])\n",
    "plt.xlabel('Max depth')\n",
    "plt.ylabel('Mean Accuracy')\n",
    "plt.show()"
   ]
  },
  {
   "cell_type": "code",
   "execution_count": 13,
   "metadata": {},
   "outputs": [
    {
     "data": {
      "text/html": [
       "<div>\n",
       "<style scoped>\n",
       "    .dataframe tbody tr th:only-of-type {\n",
       "        vertical-align: middle;\n",
       "    }\n",
       "\n",
       "    .dataframe tbody tr th {\n",
       "        vertical-align: top;\n",
       "    }\n",
       "\n",
       "    .dataframe thead th {\n",
       "        text-align: right;\n",
       "    }\n",
       "</style>\n",
       "<table border=\"1\" class=\"dataframe\">\n",
       "  <thead>\n",
       "    <tr style=\"text-align: right;\">\n",
       "      <th></th>\n",
       "      <th>True</th>\n",
       "      <th>PredictedClass</th>\n",
       "    </tr>\n",
       "  </thead>\n",
       "  <tbody>\n",
       "    <tr>\n",
       "      <th>0</th>\n",
       "      <td>1</td>\n",
       "      <td>1</td>\n",
       "    </tr>\n",
       "    <tr>\n",
       "      <th>1</th>\n",
       "      <td>0</td>\n",
       "      <td>0</td>\n",
       "    </tr>\n",
       "    <tr>\n",
       "      <th>2</th>\n",
       "      <td>0</td>\n",
       "      <td>0</td>\n",
       "    </tr>\n",
       "    <tr>\n",
       "      <th>3</th>\n",
       "      <td>0</td>\n",
       "      <td>0</td>\n",
       "    </tr>\n",
       "    <tr>\n",
       "      <th>4</th>\n",
       "      <td>0</td>\n",
       "      <td>0</td>\n",
       "    </tr>\n",
       "    <tr>\n",
       "      <th>...</th>\n",
       "      <td>...</td>\n",
       "      <td>...</td>\n",
       "    </tr>\n",
       "    <tr>\n",
       "      <th>14995</th>\n",
       "      <td>0</td>\n",
       "      <td>0</td>\n",
       "    </tr>\n",
       "    <tr>\n",
       "      <th>14996</th>\n",
       "      <td>0</td>\n",
       "      <td>0</td>\n",
       "    </tr>\n",
       "    <tr>\n",
       "      <th>14997</th>\n",
       "      <td>0</td>\n",
       "      <td>0</td>\n",
       "    </tr>\n",
       "    <tr>\n",
       "      <th>14998</th>\n",
       "      <td>1</td>\n",
       "      <td>1</td>\n",
       "    </tr>\n",
       "    <tr>\n",
       "      <th>14999</th>\n",
       "      <td>1</td>\n",
       "      <td>0</td>\n",
       "    </tr>\n",
       "  </tbody>\n",
       "</table>\n",
       "<p>15000 rows × 2 columns</p>\n",
       "</div>"
      ],
      "text/plain": [
       "       True  PredictedClass\n",
       "0         1               1\n",
       "1         0               0\n",
       "2         0               0\n",
       "3         0               0\n",
       "4         0               0\n",
       "...     ...             ...\n",
       "14995     0               0\n",
       "14996     0               0\n",
       "14997     0               0\n",
       "14998     1               1\n",
       "14999     1               0\n",
       "\n",
       "[15000 rows x 2 columns]"
      ]
     },
     "execution_count": 13,
     "metadata": {},
     "output_type": "execute_result"
    }
   ],
   "source": [
    "predY = best_tree_model.predict(X_test)\n",
    "predictions = pd.concat([pd.Series(y_test,name='True'), pd.Series(predY,name='PredictedClass')], axis=1)\n",
    "predictions"
   ]
  },
  {
   "cell_type": "code",
   "execution_count": 14,
   "metadata": {},
   "outputs": [
    {
     "name": "stdout",
     "output_type": "stream",
     "text": [
      "Accuracy on test data is 0.817\n"
     ]
    }
   ],
   "source": [
    "from sklearn.metrics import accuracy_score\n",
    "\n",
    "print('Accuracy on test data is %.3f' % (accuracy_score(y_test, predY)))"
   ]
  },
  {
   "cell_type": "code",
   "execution_count": 15,
   "metadata": {},
   "outputs": [
    {
     "data": {
      "text/plain": [
       "array([[11146,   536],\n",
       "       [ 2214,  1104]], dtype=int64)"
      ]
     },
     "execution_count": 15,
     "metadata": {},
     "output_type": "execute_result"
    }
   ],
   "source": [
    "from sklearn.metrics import confusion_matrix\n",
    "CM = confusion_matrix(y_test, predY, labels=[0, 1])\n",
    "CM"
   ]
  },
  {
   "cell_type": "code",
   "execution_count": 16,
   "metadata": {},
   "outputs": [
    {
     "data": {
      "text/plain": [
       "0.33273056057866185"
      ]
     },
     "execution_count": 16,
     "metadata": {},
     "output_type": "execute_result"
    }
   ],
   "source": [
    "tn, fp, fn, tp = CM.ravel()\n",
    "(tn, fp, fn, tp)\n",
    "\n",
    "recall=tp/(tp+fn)\n",
    "recall"
   ]
  },
  {
   "cell_type": "code",
   "execution_count": 17,
   "metadata": {},
   "outputs": [
    {
     "data": {
      "text/plain": [
       "0.6731707317073171"
      ]
     },
     "execution_count": 17,
     "metadata": {},
     "output_type": "execute_result"
    }
   ],
   "source": [
    "# precision\n",
    "prec=tp/(tp+fp)\n",
    "prec"
   ]
  },
  {
   "cell_type": "code",
   "execution_count": 18,
   "metadata": {},
   "outputs": [
    {
     "data": {
      "text/plain": [
       "0.44534086325131106"
      ]
     },
     "execution_count": 18,
     "metadata": {},
     "output_type": "execute_result"
    }
   ],
   "source": [
    "# f1 \n",
    "f1= 2*prec*recall / (prec+recall)\n",
    "f1"
   ]
  },
  {
   "cell_type": "code",
   "execution_count": 19,
   "metadata": {},
   "outputs": [],
   "source": [
    "# Accuracy is alright, but recall, precision, and f1 ..."
   ]
  },
  {
   "cell_type": "markdown",
   "metadata": {},
   "source": [
    "## Random Forest (Katie) "
   ]
  },
  {
   "cell_type": "code",
   "execution_count": 50,
   "metadata": {},
   "outputs": [
    {
     "name": "stdout",
     "output_type": "stream",
     "text": [
      "{'bootstrap': True, 'criterion': 'gini', 'n_estimators': 700}\n"
     ]
    }
   ],
   "source": [
    "from sklearn.model_selection import GridSearchCV\n",
    "from sklearn.ensemble import RandomForestClassifier\n",
    "\n",
    "rfc = RandomForestClassifier(random_state=0)\n",
    "\n",
    "parameters = {\n",
    "    'n_estimators': [100,300,500,700,900],\n",
    "    'criterion': ['gini', 'entropy'],\n",
    "    'bootstrap': [True, False]\n",
    "}\n",
    "\n",
    "grid = GridSearchCV(estimator=rfc, param_grid=parameters, \n",
    "                    scoring='accuracy', cv=5, n_jobs=-1)\n",
    "\n",
    "grid.fit(X_train, y_train)\n",
    "\n",
    "best_params = grid.best_params_\n",
    "print(best_params)"
   ]
  },
  {
   "cell_type": "code",
   "execution_count": 74,
   "metadata": {},
   "outputs": [],
   "source": [
    "# mean_accuracies = grid.cv_results_['mean_test_score']\n",
    "# params_combos = grid.cv_results_['params']\n",
    "# for m, p, in zip(mean_accuracies, params_combos):\n",
    "#     print(\"Params: \" + str(p))\n",
    "#     print(\"Mean accuracy: \" + str(m))"
   ]
  },
  {
   "cell_type": "code",
   "execution_count": 71,
   "metadata": {},
   "outputs": [],
   "source": [
    "# Plotting the accuracy of hyper parameters \n",
    "import numpy as np\n",
    "\n",
    "mean_accuracies = grid.cv_results_['mean_test_score']\n",
    "stds = grid.cv_results_['std_test_score']\n",
    "params_combos = grid.cv_results_['params']\n",
    "\n",
    "gt = {'means': [],\n",
    "     'std': []}\n",
    "gf = {'means': [],\n",
    "     'std': []}\n",
    "et = {'means': [],\n",
    "     'std': []}\n",
    "ef = {'means': [],\n",
    "     'std': []}\n",
    "\n",
    "for m, s, p, in zip(mean_accuracies, stds, params_combos):\n",
    "    if p['criterion'] == 'gini' and p['bootstrap'] == True:\n",
    "        gt['means'].append(m)\n",
    "        gt['std'].append(s)\n",
    "    if p['criterion'] == 'gini' and p['bootstrap'] == False:\n",
    "        gf['means'].append(m)\n",
    "        gf['std'].append(s)\n",
    "    if p['criterion'] == 'entropy' and p['bootstrap'] == True:\n",
    "        et['means'].append(m)\n",
    "        et['std'].append(s)\n",
    "    if p['criterion'] == 'entropy' and p['bootstrap'] == False:\n",
    "        ef['means'].append(m)\n",
    "        ef['std'].append(s)\n",
    "\n",
    "# x = np.arange(len(parameters['n_estimators']))\n",
    "# width = 0.35 \n",
    "\n",
    "# fig, ax = plt.subplots()\n",
    "# rects_gini = ax.bar(x - width/2, gt['means'], width, label='Gini')\n",
    "# rects_entropy = ax.bar(x + width/2, et['means'], width, label='Entropy')\n",
    "\n",
    "# ax.set_ylabel('Mean Accuracy')\n",
    "# ax.set_title('Accuracy by estimator and cirterion with bootstrapping')\n",
    "# ax.set_xticks(x)\n",
    "# ax.set_xticklabels(parameters['n_estimators'])\n",
    "# ax.legend()\n",
    "\n",
    "# fig, ax = plt.subplots()\n",
    "# rects_gini = ax.bar(x - width/2, gf['means'], width, label='Gini')\n",
    "# rects_entropy = ax.bar(x + width/2, ef['means'], width, label='Entropy')\n",
    "\n",
    "# ax.set_ylabel('Mean Accuracy')\n",
    "# ax.set_title('Accuracy by estimator and cirterion without bootstrapping')\n",
    "# ax.set_xticks(x)\n",
    "# ax.set_xticklabels(parameters['n_estimators'])\n",
    "# ax.legend()"
   ]
  },
  {
   "cell_type": "code",
   "execution_count": 72,
   "metadata": {},
   "outputs": [
    {
     "data": {
      "image/png": "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\n",
      "text/plain": [
       "<Figure size 432x288 with 1 Axes>"
      ]
     },
     "metadata": {
      "needs_background": "light"
     },
     "output_type": "display_data"
    }
   ],
   "source": [
    "plt.plot([x for x in parameters['n_estimators']], [x for x in gt['means']], 'bo-')\n",
    "plt.plot([x for x in parameters['n_estimators']], [x for x in et['means']], 'rv--')\n",
    "plt.legend(['Gini', 'Entropy'])\n",
    "plt.xlabel('n-estimators')\n",
    "plt.ylabel('Mean Accuracy')\n",
    "plt.title(\"Accuracy by estimator and cirterion with bootstrapping\")\n",
    "plt.show()"
   ]
  },
  {
   "cell_type": "code",
   "execution_count": 73,
   "metadata": {},
   "outputs": [
    {
     "data": {
      "image/png": "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\n",
      "text/plain": [
       "<Figure size 432x288 with 1 Axes>"
      ]
     },
     "metadata": {
      "needs_background": "light"
     },
     "output_type": "display_data"
    }
   ],
   "source": [
    "plt.plot([x for x in parameters['n_estimators']], [x for x in gf['means']], 'bo-')\n",
    "plt.plot([x for x in parameters['n_estimators']], [x for x in ef['means']], 'rv--')\n",
    "plt.legend(['Gini', 'Entropy'])\n",
    "plt.xlabel('n-estimators')\n",
    "plt.ylabel('Mean Accuracy')\n",
    "plt.title(\"Accuracy by estimator and cirterion without bootstrapping\")\n",
    "plt.show()"
   ]
  },
  {
   "cell_type": "code",
   "execution_count": 79,
   "metadata": {},
   "outputs": [],
   "source": [
    "from sklearn.model_selection import cross_val_score \n",
    "\n",
    "best_rfc = grid.best_estimator_\n",
    "# accuracies = cross_val_score(estimator=best_rfc, X=X_train, y=y_train, cv=5)\n",
    "# print(accuracies)"
   ]
  },
  {
   "cell_type": "code",
   "execution_count": 78,
   "metadata": {},
   "outputs": [
    {
     "data": {
      "text/html": [
       "<div>\n",
       "<style scoped>\n",
       "    .dataframe tbody tr th:only-of-type {\n",
       "        vertical-align: middle;\n",
       "    }\n",
       "\n",
       "    .dataframe tbody tr th {\n",
       "        vertical-align: top;\n",
       "    }\n",
       "\n",
       "    .dataframe thead th {\n",
       "        text-align: right;\n",
       "    }\n",
       "</style>\n",
       "<table border=\"1\" class=\"dataframe\">\n",
       "  <thead>\n",
       "    <tr style=\"text-align: right;\">\n",
       "      <th></th>\n",
       "      <th>True</th>\n",
       "      <th>PredictedClass</th>\n",
       "    </tr>\n",
       "  </thead>\n",
       "  <tbody>\n",
       "    <tr>\n",
       "      <td>0</td>\n",
       "      <td>1</td>\n",
       "      <td>0</td>\n",
       "    </tr>\n",
       "    <tr>\n",
       "      <td>1</td>\n",
       "      <td>0</td>\n",
       "      <td>0</td>\n",
       "    </tr>\n",
       "    <tr>\n",
       "      <td>2</td>\n",
       "      <td>0</td>\n",
       "      <td>0</td>\n",
       "    </tr>\n",
       "    <tr>\n",
       "      <td>3</td>\n",
       "      <td>0</td>\n",
       "      <td>0</td>\n",
       "    </tr>\n",
       "    <tr>\n",
       "      <td>4</td>\n",
       "      <td>0</td>\n",
       "      <td>0</td>\n",
       "    </tr>\n",
       "    <tr>\n",
       "      <td>...</td>\n",
       "      <td>...</td>\n",
       "      <td>...</td>\n",
       "    </tr>\n",
       "    <tr>\n",
       "      <td>14995</td>\n",
       "      <td>0</td>\n",
       "      <td>0</td>\n",
       "    </tr>\n",
       "    <tr>\n",
       "      <td>14996</td>\n",
       "      <td>0</td>\n",
       "      <td>0</td>\n",
       "    </tr>\n",
       "    <tr>\n",
       "      <td>14997</td>\n",
       "      <td>0</td>\n",
       "      <td>0</td>\n",
       "    </tr>\n",
       "    <tr>\n",
       "      <td>14998</td>\n",
       "      <td>1</td>\n",
       "      <td>1</td>\n",
       "    </tr>\n",
       "    <tr>\n",
       "      <td>14999</td>\n",
       "      <td>1</td>\n",
       "      <td>0</td>\n",
       "    </tr>\n",
       "  </tbody>\n",
       "</table>\n",
       "<p>15000 rows × 2 columns</p>\n",
       "</div>"
      ],
      "text/plain": [
       "       True  PredictedClass\n",
       "0         1               0\n",
       "1         0               0\n",
       "2         0               0\n",
       "3         0               0\n",
       "4         0               0\n",
       "...     ...             ...\n",
       "14995     0               0\n",
       "14996     0               0\n",
       "14997     0               0\n",
       "14998     1               1\n",
       "14999     1               0\n",
       "\n",
       "[15000 rows x 2 columns]"
      ]
     },
     "execution_count": 78,
     "metadata": {},
     "output_type": "execute_result"
    }
   ],
   "source": [
    "# Predict test values using RFC model with best hyper parameters\n",
    "predY = best_rfc.predict(X_test)\n",
    "predictions = pd.concat([pd.Series(y_test,name='True'), pd.Series(predY,name='PredictedClass')], axis=1)\n",
    "predictions"
   ]
  },
  {
   "cell_type": "code",
   "execution_count": 80,
   "metadata": {},
   "outputs": [
    {
     "data": {
      "text/plain": [
       "array([[11124,   558],\n",
       "       [ 2179,  1139]], dtype=int64)"
      ]
     },
     "execution_count": 80,
     "metadata": {},
     "output_type": "execute_result"
    }
   ],
   "source": [
    "# Confusion Matrix\n",
    "CM = confusion_matrix(y_test, predY, labels=[0, 1])\n",
    "CM"
   ]
  },
  {
   "cell_type": "code",
   "execution_count": 85,
   "metadata": {},
   "outputs": [
    {
     "data": {
      "text/plain": [
       "0.3432790837854129"
      ]
     },
     "execution_count": 85,
     "metadata": {},
     "output_type": "execute_result"
    }
   ],
   "source": [
    "# Recall \n",
    "tn, fp, fn, tp = CM.ravel()\n",
    "(tn, fp, fn, tp)\n",
    "\n",
    "recall=tp/(tp+fn)\n",
    "recall\n",
    "\n",
    "# Recall should be \n",
    "\n",
    "#         tp        fp\n",
    "#  fn    11124     558\n",
    "#  fp    2179      1139\n",
    "\n",
    "# 11124 / 11124 + 2179 = 0.8362"
   ]
  },
  {
   "cell_type": "code",
   "execution_count": 82,
   "metadata": {},
   "outputs": [
    {
     "data": {
      "text/plain": [
       "0.671184443134944"
      ]
     },
     "execution_count": 82,
     "metadata": {},
     "output_type": "execute_result"
    }
   ],
   "source": [
    "# Precision \n",
    "prec=tp/(tp+fp)\n",
    "prec"
   ]
  },
  {
   "cell_type": "code",
   "execution_count": 83,
   "metadata": {},
   "outputs": [
    {
     "data": {
      "text/plain": [
       "0.4542372881355933"
      ]
     },
     "execution_count": 83,
     "metadata": {},
     "output_type": "execute_result"
    }
   ],
   "source": [
    "# F1 \n",
    "f1= 2*prec*recall / (prec+recall)\n",
    "f1"
   ]
  },
  {
   "cell_type": "markdown",
   "metadata": {},
   "source": [
    "## Random Forest (Gosia)"
   ]
  },
  {
   "cell_type": "code",
   "execution_count": 36,
   "metadata": {},
   "outputs": [
    {
     "name": "stderr",
     "output_type": "stream",
     "text": [
      "C:\\Users\\kknox\\Anaconda3\\lib\\site-packages\\sklearn\\ensemble\\forest.py:245: FutureWarning: The default value of n_estimators will change from 10 in version 0.20 to 100 in 0.22.\n",
      "  \"10 in version 0.20 to 100 in 0.22.\", FutureWarning)\n"
     ]
    },
    {
     "name": "stdout",
     "output_type": "stream",
     "text": [
      "best accuracy and parameters are 0.8078666666666666 {'max_features': 5, 'random_state': 0}\n"
     ]
    }
   ],
   "source": [
    "import numpy as np\n",
    "import pandas as pd\n",
    "from sklearn import tree\n",
    "from sklearn.model_selection import GridSearchCV\n",
    "from sklearn.ensemble import RandomForestClassifier\n",
    "\n",
    "\n",
    "parameters = {'max_features':range(5,16), 'random_state':[0]}\n",
    "rf = GridSearchCV(RandomForestClassifier(), parameters, cv=10, n_jobs=4)\n",
    "rf.fit(X=X_train, y=y_train)\n",
    "scores = rf.cv_results_\n",
    "Rfmodel = rf.best_estimator_\n",
    "print ('best accuracy and parameters are', rf.best_score_, rf.best_params_)"
   ]
  },
  {
   "cell_type": "code",
   "execution_count": 37,
   "metadata": {},
   "outputs": [
    {
     "data": {
      "image/png": "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\n",
      "text/plain": [
       "<Figure size 432x288 with 1 Axes>"
      ]
     },
     "metadata": {
      "needs_background": "light"
     },
     "output_type": "display_data"
    }
   ],
   "source": [
    "import matplotlib.pyplot as plt\n",
    "\n",
    "\n",
    "plt.plot([x['max_features'] for x in scores['params']], scores['mean_test_score'], 'bo-')\n",
    "plt.xlabel('Max features')\n",
    "plt.ylabel('Cross-validated Accuracy')\n",
    "plt.show()"
   ]
  },
  {
   "cell_type": "code",
   "execution_count": 38,
   "metadata": {},
   "outputs": [],
   "source": [
    "predY = Rfmodel.predict(X_test)"
   ]
  },
  {
   "cell_type": "code",
   "execution_count": 39,
   "metadata": {},
   "outputs": [
    {
     "data": {
      "text/html": [
       "<div>\n",
       "<style scoped>\n",
       "    .dataframe tbody tr th:only-of-type {\n",
       "        vertical-align: middle;\n",
       "    }\n",
       "\n",
       "    .dataframe tbody tr th {\n",
       "        vertical-align: top;\n",
       "    }\n",
       "\n",
       "    .dataframe thead th {\n",
       "        text-align: right;\n",
       "    }\n",
       "</style>\n",
       "<table border=\"1\" class=\"dataframe\">\n",
       "  <thead>\n",
       "    <tr style=\"text-align: right;\">\n",
       "      <th></th>\n",
       "      <th>True</th>\n",
       "      <th>PredictedClass</th>\n",
       "    </tr>\n",
       "  </thead>\n",
       "  <tbody>\n",
       "    <tr>\n",
       "      <td>0</td>\n",
       "      <td>1</td>\n",
       "      <td>1</td>\n",
       "    </tr>\n",
       "    <tr>\n",
       "      <td>1</td>\n",
       "      <td>0</td>\n",
       "      <td>0</td>\n",
       "    </tr>\n",
       "    <tr>\n",
       "      <td>2</td>\n",
       "      <td>0</td>\n",
       "      <td>0</td>\n",
       "    </tr>\n",
       "    <tr>\n",
       "      <td>3</td>\n",
       "      <td>0</td>\n",
       "      <td>0</td>\n",
       "    </tr>\n",
       "    <tr>\n",
       "      <td>4</td>\n",
       "      <td>0</td>\n",
       "      <td>0</td>\n",
       "    </tr>\n",
       "    <tr>\n",
       "      <td>...</td>\n",
       "      <td>...</td>\n",
       "      <td>...</td>\n",
       "    </tr>\n",
       "    <tr>\n",
       "      <td>14995</td>\n",
       "      <td>0</td>\n",
       "      <td>0</td>\n",
       "    </tr>\n",
       "    <tr>\n",
       "      <td>14996</td>\n",
       "      <td>0</td>\n",
       "      <td>0</td>\n",
       "    </tr>\n",
       "    <tr>\n",
       "      <td>14997</td>\n",
       "      <td>0</td>\n",
       "      <td>0</td>\n",
       "    </tr>\n",
       "    <tr>\n",
       "      <td>14998</td>\n",
       "      <td>1</td>\n",
       "      <td>1</td>\n",
       "    </tr>\n",
       "    <tr>\n",
       "      <td>14999</td>\n",
       "      <td>1</td>\n",
       "      <td>0</td>\n",
       "    </tr>\n",
       "  </tbody>\n",
       "</table>\n",
       "<p>15000 rows × 2 columns</p>\n",
       "</div>"
      ],
      "text/plain": [
       "       True  PredictedClass\n",
       "0         1               1\n",
       "1         0               0\n",
       "2         0               0\n",
       "3         0               0\n",
       "4         0               0\n",
       "...     ...             ...\n",
       "14995     0               0\n",
       "14996     0               0\n",
       "14997     0               0\n",
       "14998     1               1\n",
       "14999     1               0\n",
       "\n",
       "[15000 rows x 2 columns]"
      ]
     },
     "execution_count": 39,
     "metadata": {},
     "output_type": "execute_result"
    }
   ],
   "source": [
    "predictions = pd.concat([pd.Series(y_test,name='True'), pd.Series(predY,name='PredictedClass')], axis=1)\n",
    "predictions"
   ]
  },
  {
   "cell_type": "code",
   "execution_count": 40,
   "metadata": {},
   "outputs": [
    {
     "data": {
      "text/plain": [
       "array([[11090,   592],\n",
       "       [ 2329,   989]], dtype=int64)"
      ]
     },
     "execution_count": 40,
     "metadata": {},
     "output_type": "execute_result"
    }
   ],
   "source": [
    "CM = confusion_matrix(y_test, predY, labels=[0, 1])\n",
    "CM"
   ]
  },
  {
   "cell_type": "code",
   "execution_count": 41,
   "metadata": {},
   "outputs": [
    {
     "data": {
      "text/plain": [
       "0.29807112718505124"
      ]
     },
     "execution_count": 41,
     "metadata": {},
     "output_type": "execute_result"
    }
   ],
   "source": [
    "tn, fp, fn, tp = CM.ravel()\n",
    "(tn, fp, fn, tp)\n",
    "\n",
    "recall=tp/(tp+fn)\n",
    "recall"
   ]
  },
  {
   "cell_type": "code",
   "execution_count": 42,
   "metadata": {},
   "outputs": [
    {
     "data": {
      "text/plain": [
       "0.6255534471853258"
      ]
     },
     "execution_count": 42,
     "metadata": {},
     "output_type": "execute_result"
    }
   ],
   "source": [
    "# precision\n",
    "prec=tp/(tp+fp)\n",
    "prec"
   ]
  },
  {
   "cell_type": "code",
   "execution_count": 43,
   "metadata": {},
   "outputs": [
    {
     "data": {
      "text/plain": [
       "0.403755868544601"
      ]
     },
     "execution_count": 43,
     "metadata": {},
     "output_type": "execute_result"
    }
   ],
   "source": [
    "# f1 \n",
    "f1= 2*prec*recall / (prec+recall)\n",
    "f1"
   ]
  },
  {
   "cell_type": "markdown",
   "metadata": {},
   "source": [
    "## Bagging"
   ]
  },
  {
   "cell_type": "code",
   "execution_count": 44,
   "metadata": {},
   "outputs": [
    {
     "name": "stdout",
     "output_type": "stream",
     "text": [
      "{'bootstrap': True, 'n_estimators': 300}\n"
     ]
    }
   ],
   "source": [
    "from sklearn.ensemble import BaggingClassifier\n",
    "\n",
    "bag = RandomForestClassifier()\n",
    "\n",
    "parameters = {\n",
    "    'n_estimators': [100,300,500,700,900],\n",
    "    'bootstrap': [True, False]\n",
    "}\n",
    "\n",
    "grid = GridSearchCV(estimator=bag, param_grid=parameters, \n",
    "                    scoring='accuracy', cv=5, n_jobs=-1)\n",
    "\n",
    "grid.fit(X_train, y_train)\n",
    "\n",
    "best_params = grid.best_params_\n",
    "print(best_params)"
   ]
  },
  {
   "cell_type": "code",
   "execution_count": 46,
   "metadata": {
    "scrolled": true
   },
   "outputs": [
    {
     "ename": "NameError",
     "evalue": "name 'acccuracies' is not defined",
     "output_type": "error",
     "traceback": [
      "\u001b[1;31m---------------------------------------------------------------------------\u001b[0m",
      "\u001b[1;31mNameError\u001b[0m                                 Traceback (most recent call last)",
      "\u001b[1;32m<ipython-input-46-04c2ddc2f351>\u001b[0m in \u001b[0;36m<module>\u001b[1;34m\u001b[0m\n\u001b[0;32m      2\u001b[0m                                  bootstrap=best_params['bootstrap'])\n\u001b[0;32m      3\u001b[0m \u001b[0maccuracies\u001b[0m \u001b[1;33m=\u001b[0m \u001b[0mcross_val_score\u001b[0m\u001b[1;33m(\u001b[0m\u001b[0mestimator\u001b[0m\u001b[1;33m=\u001b[0m\u001b[0mbest_rfc\u001b[0m\u001b[1;33m,\u001b[0m \u001b[0mX\u001b[0m\u001b[1;33m=\u001b[0m\u001b[0mX_train\u001b[0m\u001b[1;33m,\u001b[0m \u001b[0my\u001b[0m\u001b[1;33m=\u001b[0m\u001b[0my_train\u001b[0m\u001b[1;33m,\u001b[0m \u001b[0mcv\u001b[0m\u001b[1;33m=\u001b[0m\u001b[1;36m5\u001b[0m\u001b[1;33m)\u001b[0m\u001b[1;33m\u001b[0m\u001b[1;33m\u001b[0m\u001b[0m\n\u001b[1;32m----> 4\u001b[1;33m \u001b[0mprint\u001b[0m\u001b[1;33m(\u001b[0m\u001b[0macccuracies\u001b[0m\u001b[1;33m)\u001b[0m\u001b[1;33m\u001b[0m\u001b[1;33m\u001b[0m\u001b[0m\n\u001b[0m",
      "\u001b[1;31mNameError\u001b[0m: name 'acccuracies' is not defined"
     ]
    }
   ],
   "source": [
    "best_bag = BaggingClassifier(n_estimators=best_params['n_estimators'], \n",
    "                                 bootstrap=best_params['bootstrap'])\n",
    "accuracies = cross_val_score(estimator=best_rfc, X=X_train, y=y_train, cv=5)\n",
    "print(acccuracies)"
   ]
  },
  {
   "cell_type": "markdown",
   "metadata": {},
   "source": [
    "## Boosting"
   ]
  },
  {
   "cell_type": "markdown",
   "metadata": {},
   "source": [
    "## SVM"
   ]
  },
  {
   "cell_type": "code",
   "execution_count": null,
   "metadata": {},
   "outputs": [],
   "source": [
    "# less data because it's taking too much time"
   ]
  },
  {
   "cell_type": "code",
   "execution_count": null,
   "metadata": {},
   "outputs": [],
   "source": [
    "from sklearn.svm import SVC\n",
    "from sklearn.model_selection import GridSearchCV\n",
    "\n",
    "# C = [0.1, 0.2, 0.5, 0.8, 1, 5]\n",
    "# kernel = ['linear', 'poly', 'rbf', 'sigmoid']\n",
    "# parameters = {'C' : C}\n",
    "C = [0.01,0.1,0.5,1]\n",
    "kernel = ['rbf']\n",
    "parameters = {'kernel': kernel,'C': C, }\n",
    "\n",
    "clf = GridSearchCV(SVC(gamma = 'auto'), parameters, cv=10, n_jobs=4)\n",
    "clf.fit(X=X_train, y=y_train)\n",
    "scores = clf.cv_results_\n",
    "best_model = clf.best_estimator_\n",
    "print ('best accuracy and parameters are', clf.best_score_, clf.best_params_)"
   ]
  },
  {
   "cell_type": "code",
   "execution_count": null,
   "metadata": {},
   "outputs": [],
   "source": [
    "scores"
   ]
  },
  {
   "cell_type": "code",
   "execution_count": null,
   "metadata": {},
   "outputs": [],
   "source": [
    "# rbf_scores = []\n",
    "# linear_scores =[]\n",
    "# for i in range(len(scores['params'])):\n",
    "#     print(scores['params'][i])\n",
    "#     print(scores['mean_test_score'][i])\n",
    "#     if(scores['params'][i]['kernel'] == 'linear'):\n",
    "#         linear_scores.append(scores['mean_test_score'][i])\n",
    "#     if(scores['params'][i]['kernel'] == 'rbf'):\n",
    "#         rbf_scores.append(scores['mean_test_score'][i])"
   ]
  },
  {
   "cell_type": "code",
   "execution_count": null,
   "metadata": {},
   "outputs": [],
   "source": [
    "# rbf = [x['C'] for x in scores['params'] if x['kernel'] == 'rbf']\n",
    "# linear = [x['C'] for x in scores['params'] if x['kernel'] == 'linear']"
   ]
  },
  {
   "cell_type": "code",
   "execution_count": null,
   "metadata": {},
   "outputs": [],
   "source": [
    "import matplotlib.pyplot as plt\n",
    "\n",
    "# plt.plot(rbf, rbf_scores, 'bo-')\n",
    "# plt.plot(linear, linear_scores, 'rv--')\n",
    "#plt.legend(['kernel: rbf','kernel: linear'])\n",
    "plt.plot([x['C'] for x in scores['params']], scores['mean_test_score'], 'bo-')\n",
    "plt.xlabel('C')\n",
    "plt.ylabel('Cross-validated Accuracy')\n",
    "plt.show()"
   ]
  },
  {
   "cell_type": "code",
   "execution_count": null,
   "metadata": {},
   "outputs": [],
   "source": [
    "predY = best_model.predict(X_test[:1000])"
   ]
  },
  {
   "cell_type": "code",
   "execution_count": null,
   "metadata": {},
   "outputs": [],
   "source": [
    "predictions = pd.concat([pd.Series(y_test[:1000],name='True'), pd.Series(predY,name='PredictedClass')], axis=1)\n",
    "predictions"
   ]
  },
  {
   "cell_type": "code",
   "execution_count": null,
   "metadata": {},
   "outputs": [],
   "source": [
    "from sklearn.metrics import confusion_matrix\n",
    "CM = confusion_matrix(y_test[:1000], predY, labels=[0, 1])\n",
    "CM"
   ]
  },
  {
   "cell_type": "code",
   "execution_count": null,
   "metadata": {},
   "outputs": [],
   "source": [
    "tn, fp, fn, tp = CM.ravel()\n",
    "(tn, fp, fn, tp)\n",
    "\n",
    "recall=tp/(tp+fn)\n",
    "recall"
   ]
  },
  {
   "cell_type": "code",
   "execution_count": null,
   "metadata": {},
   "outputs": [],
   "source": [
    "# precision\n",
    "prec=tp/(tp+fp)\n",
    "prec"
   ]
  },
  {
   "cell_type": "code",
   "execution_count": null,
   "metadata": {},
   "outputs": [],
   "source": [
    "# f1 \n",
    "f1= 2*prec*recall / (prec+recall)\n",
    "f1"
   ]
  }
 ],
 "metadata": {
  "kernelspec": {
   "display_name": "Python 3",
   "language": "python",
   "name": "python3"
  },
  "language_info": {
   "codemirror_mode": {
    "name": "ipython",
    "version": 3
   },
   "file_extension": ".py",
   "mimetype": "text/x-python",
   "name": "python",
   "nbconvert_exporter": "python",
   "pygments_lexer": "ipython3",
   "version": "3.7.6"
  }
 },
 "nbformat": 4,
 "nbformat_minor": 2
}
