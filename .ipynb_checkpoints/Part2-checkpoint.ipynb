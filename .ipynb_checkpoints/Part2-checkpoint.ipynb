{
 "cells": [
  {
   "cell_type": "code",
   "execution_count": 4,
   "metadata": {},
   "outputs": [],
   "source": [
    "import pandas as pd\n"
   ]
  },
  {
   "cell_type": "code",
   "execution_count": 5,
   "metadata": {},
   "outputs": [],
   "source": [
    "train_data = pd.read_csv('credit.data/creditdefault_train.csv')\n",
    "test_data = pd.read_csv('credit.data/creditdefault_test.csv')\n"
   ]
  },
  {
   "cell_type": "code",
   "execution_count": 6,
   "metadata": {},
   "outputs": [
    {
     "data": {
      "text/html": [
       "<div>\n",
       "<style scoped>\n",
       "    .dataframe tbody tr th:only-of-type {\n",
       "        vertical-align: middle;\n",
       "    }\n",
       "\n",
       "    .dataframe tbody tr th {\n",
       "        vertical-align: top;\n",
       "    }\n",
       "\n",
       "    .dataframe thead th {\n",
       "        text-align: right;\n",
       "    }\n",
       "</style>\n",
       "<table border=\"1\" class=\"dataframe\">\n",
       "  <thead>\n",
       "    <tr style=\"text-align: right;\">\n",
       "      <th></th>\n",
       "      <th>Y</th>\n",
       "      <th>X1</th>\n",
       "      <th>X2</th>\n",
       "      <th>X3</th>\n",
       "      <th>X4</th>\n",
       "      <th>X5</th>\n",
       "      <th>X6</th>\n",
       "      <th>X7</th>\n",
       "      <th>X8</th>\n",
       "      <th>X9</th>\n",
       "      <th>...</th>\n",
       "      <th>X14</th>\n",
       "      <th>X15</th>\n",
       "      <th>X16</th>\n",
       "      <th>X17</th>\n",
       "      <th>X18</th>\n",
       "      <th>X19</th>\n",
       "      <th>X20</th>\n",
       "      <th>X21</th>\n",
       "      <th>X22</th>\n",
       "      <th>X23</th>\n",
       "    </tr>\n",
       "  </thead>\n",
       "  <tbody>\n",
       "    <tr>\n",
       "      <th>0</th>\n",
       "      <td>1</td>\n",
       "      <td>20000</td>\n",
       "      <td>2</td>\n",
       "      <td>2</td>\n",
       "      <td>1</td>\n",
       "      <td>24</td>\n",
       "      <td>2</td>\n",
       "      <td>2</td>\n",
       "      <td>-1</td>\n",
       "      <td>-1</td>\n",
       "      <td>...</td>\n",
       "      <td>689</td>\n",
       "      <td>0</td>\n",
       "      <td>0</td>\n",
       "      <td>0</td>\n",
       "      <td>0</td>\n",
       "      <td>689</td>\n",
       "      <td>0</td>\n",
       "      <td>0</td>\n",
       "      <td>0</td>\n",
       "      <td>0</td>\n",
       "    </tr>\n",
       "    <tr>\n",
       "      <th>1</th>\n",
       "      <td>0</td>\n",
       "      <td>50000</td>\n",
       "      <td>2</td>\n",
       "      <td>2</td>\n",
       "      <td>1</td>\n",
       "      <td>37</td>\n",
       "      <td>0</td>\n",
       "      <td>0</td>\n",
       "      <td>0</td>\n",
       "      <td>0</td>\n",
       "      <td>...</td>\n",
       "      <td>49291</td>\n",
       "      <td>28314</td>\n",
       "      <td>28959</td>\n",
       "      <td>29547</td>\n",
       "      <td>2000</td>\n",
       "      <td>2019</td>\n",
       "      <td>1200</td>\n",
       "      <td>1100</td>\n",
       "      <td>1069</td>\n",
       "      <td>1000</td>\n",
       "    </tr>\n",
       "    <tr>\n",
       "      <th>2</th>\n",
       "      <td>0</td>\n",
       "      <td>50000</td>\n",
       "      <td>1</td>\n",
       "      <td>2</td>\n",
       "      <td>1</td>\n",
       "      <td>57</td>\n",
       "      <td>-1</td>\n",
       "      <td>0</td>\n",
       "      <td>-1</td>\n",
       "      <td>0</td>\n",
       "      <td>...</td>\n",
       "      <td>35835</td>\n",
       "      <td>20940</td>\n",
       "      <td>19146</td>\n",
       "      <td>19131</td>\n",
       "      <td>2000</td>\n",
       "      <td>36681</td>\n",
       "      <td>10000</td>\n",
       "      <td>9000</td>\n",
       "      <td>689</td>\n",
       "      <td>679</td>\n",
       "    </tr>\n",
       "    <tr>\n",
       "      <th>3</th>\n",
       "      <td>0</td>\n",
       "      <td>50000</td>\n",
       "      <td>1</td>\n",
       "      <td>1</td>\n",
       "      <td>2</td>\n",
       "      <td>37</td>\n",
       "      <td>0</td>\n",
       "      <td>0</td>\n",
       "      <td>0</td>\n",
       "      <td>0</td>\n",
       "      <td>...</td>\n",
       "      <td>57608</td>\n",
       "      <td>19394</td>\n",
       "      <td>19619</td>\n",
       "      <td>20024</td>\n",
       "      <td>2500</td>\n",
       "      <td>1815</td>\n",
       "      <td>657</td>\n",
       "      <td>1000</td>\n",
       "      <td>1000</td>\n",
       "      <td>800</td>\n",
       "    </tr>\n",
       "    <tr>\n",
       "      <th>4</th>\n",
       "      <td>0</td>\n",
       "      <td>500000</td>\n",
       "      <td>1</td>\n",
       "      <td>1</td>\n",
       "      <td>2</td>\n",
       "      <td>29</td>\n",
       "      <td>0</td>\n",
       "      <td>0</td>\n",
       "      <td>0</td>\n",
       "      <td>0</td>\n",
       "      <td>...</td>\n",
       "      <td>445007</td>\n",
       "      <td>542653</td>\n",
       "      <td>483003</td>\n",
       "      <td>473944</td>\n",
       "      <td>55000</td>\n",
       "      <td>40000</td>\n",
       "      <td>38000</td>\n",
       "      <td>20239</td>\n",
       "      <td>13750</td>\n",
       "      <td>13770</td>\n",
       "    </tr>\n",
       "    <tr>\n",
       "      <th>...</th>\n",
       "      <td>...</td>\n",
       "      <td>...</td>\n",
       "      <td>...</td>\n",
       "      <td>...</td>\n",
       "      <td>...</td>\n",
       "      <td>...</td>\n",
       "      <td>...</td>\n",
       "      <td>...</td>\n",
       "      <td>...</td>\n",
       "      <td>...</td>\n",
       "      <td>...</td>\n",
       "      <td>...</td>\n",
       "      <td>...</td>\n",
       "      <td>...</td>\n",
       "      <td>...</td>\n",
       "      <td>...</td>\n",
       "      <td>...</td>\n",
       "      <td>...</td>\n",
       "      <td>...</td>\n",
       "      <td>...</td>\n",
       "      <td>...</td>\n",
       "    </tr>\n",
       "    <tr>\n",
       "      <th>14995</th>\n",
       "      <td>0</td>\n",
       "      <td>100000</td>\n",
       "      <td>1</td>\n",
       "      <td>1</td>\n",
       "      <td>2</td>\n",
       "      <td>38</td>\n",
       "      <td>0</td>\n",
       "      <td>-1</td>\n",
       "      <td>-1</td>\n",
       "      <td>0</td>\n",
       "      <td>...</td>\n",
       "      <td>102996</td>\n",
       "      <td>70626</td>\n",
       "      <td>69473</td>\n",
       "      <td>55004</td>\n",
       "      <td>2000</td>\n",
       "      <td>111784</td>\n",
       "      <td>4000</td>\n",
       "      <td>3000</td>\n",
       "      <td>2000</td>\n",
       "      <td>2000</td>\n",
       "    </tr>\n",
       "    <tr>\n",
       "      <th>14996</th>\n",
       "      <td>0</td>\n",
       "      <td>220000</td>\n",
       "      <td>1</td>\n",
       "      <td>3</td>\n",
       "      <td>1</td>\n",
       "      <td>39</td>\n",
       "      <td>0</td>\n",
       "      <td>0</td>\n",
       "      <td>0</td>\n",
       "      <td>0</td>\n",
       "      <td>...</td>\n",
       "      <td>208365</td>\n",
       "      <td>88004</td>\n",
       "      <td>31237</td>\n",
       "      <td>15980</td>\n",
       "      <td>8500</td>\n",
       "      <td>20000</td>\n",
       "      <td>5003</td>\n",
       "      <td>3047</td>\n",
       "      <td>5000</td>\n",
       "      <td>1000</td>\n",
       "    </tr>\n",
       "    <tr>\n",
       "      <th>14997</th>\n",
       "      <td>0</td>\n",
       "      <td>150000</td>\n",
       "      <td>1</td>\n",
       "      <td>3</td>\n",
       "      <td>2</td>\n",
       "      <td>43</td>\n",
       "      <td>-1</td>\n",
       "      <td>-1</td>\n",
       "      <td>-1</td>\n",
       "      <td>-1</td>\n",
       "      <td>...</td>\n",
       "      <td>3502</td>\n",
       "      <td>8979</td>\n",
       "      <td>5190</td>\n",
       "      <td>0</td>\n",
       "      <td>1837</td>\n",
       "      <td>3526</td>\n",
       "      <td>8998</td>\n",
       "      <td>129</td>\n",
       "      <td>0</td>\n",
       "      <td>0</td>\n",
       "    </tr>\n",
       "    <tr>\n",
       "      <th>14998</th>\n",
       "      <td>1</td>\n",
       "      <td>30000</td>\n",
       "      <td>1</td>\n",
       "      <td>2</td>\n",
       "      <td>2</td>\n",
       "      <td>37</td>\n",
       "      <td>4</td>\n",
       "      <td>3</td>\n",
       "      <td>2</td>\n",
       "      <td>-1</td>\n",
       "      <td>...</td>\n",
       "      <td>2758</td>\n",
       "      <td>20878</td>\n",
       "      <td>20582</td>\n",
       "      <td>19357</td>\n",
       "      <td>0</td>\n",
       "      <td>0</td>\n",
       "      <td>22000</td>\n",
       "      <td>4200</td>\n",
       "      <td>2000</td>\n",
       "      <td>3100</td>\n",
       "    </tr>\n",
       "    <tr>\n",
       "      <th>14999</th>\n",
       "      <td>1</td>\n",
       "      <td>80000</td>\n",
       "      <td>1</td>\n",
       "      <td>3</td>\n",
       "      <td>1</td>\n",
       "      <td>41</td>\n",
       "      <td>1</td>\n",
       "      <td>-1</td>\n",
       "      <td>0</td>\n",
       "      <td>0</td>\n",
       "      <td>...</td>\n",
       "      <td>76304</td>\n",
       "      <td>52774</td>\n",
       "      <td>11855</td>\n",
       "      <td>48944</td>\n",
       "      <td>85900</td>\n",
       "      <td>3409</td>\n",
       "      <td>1178</td>\n",
       "      <td>1926</td>\n",
       "      <td>52964</td>\n",
       "      <td>1804</td>\n",
       "    </tr>\n",
       "  </tbody>\n",
       "</table>\n",
       "<p>15000 rows × 24 columns</p>\n",
       "</div>"
      ],
      "text/plain": [
       "       Y      X1  X2  X3  X4  X5  X6  X7  X8  X9  ...     X14     X15     X16  \\\n",
       "0      1   20000   2   2   1  24   2   2  -1  -1  ...     689       0       0   \n",
       "1      0   50000   2   2   1  37   0   0   0   0  ...   49291   28314   28959   \n",
       "2      0   50000   1   2   1  57  -1   0  -1   0  ...   35835   20940   19146   \n",
       "3      0   50000   1   1   2  37   0   0   0   0  ...   57608   19394   19619   \n",
       "4      0  500000   1   1   2  29   0   0   0   0  ...  445007  542653  483003   \n",
       "...   ..     ...  ..  ..  ..  ..  ..  ..  ..  ..  ...     ...     ...     ...   \n",
       "14995  0  100000   1   1   2  38   0  -1  -1   0  ...  102996   70626   69473   \n",
       "14996  0  220000   1   3   1  39   0   0   0   0  ...  208365   88004   31237   \n",
       "14997  0  150000   1   3   2  43  -1  -1  -1  -1  ...    3502    8979    5190   \n",
       "14998  1   30000   1   2   2  37   4   3   2  -1  ...    2758   20878   20582   \n",
       "14999  1   80000   1   3   1  41   1  -1   0   0  ...   76304   52774   11855   \n",
       "\n",
       "          X17    X18     X19    X20    X21    X22    X23  \n",
       "0           0      0     689      0      0      0      0  \n",
       "1       29547   2000    2019   1200   1100   1069   1000  \n",
       "2       19131   2000   36681  10000   9000    689    679  \n",
       "3       20024   2500    1815    657   1000   1000    800  \n",
       "4      473944  55000   40000  38000  20239  13750  13770  \n",
       "...       ...    ...     ...    ...    ...    ...    ...  \n",
       "14995   55004   2000  111784   4000   3000   2000   2000  \n",
       "14996   15980   8500   20000   5003   3047   5000   1000  \n",
       "14997       0   1837    3526   8998    129      0      0  \n",
       "14998   19357      0       0  22000   4200   2000   3100  \n",
       "14999   48944  85900    3409   1178   1926  52964   1804  \n",
       "\n",
       "[15000 rows x 24 columns]"
      ]
     },
     "execution_count": 6,
     "metadata": {},
     "output_type": "execute_result"
    }
   ],
   "source": [
    "train_data\n"
   ]
  },
  {
   "cell_type": "code",
   "execution_count": 7,
   "metadata": {},
   "outputs": [
    {
     "data": {
      "text/html": [
       "<div>\n",
       "<style scoped>\n",
       "    .dataframe tbody tr th:only-of-type {\n",
       "        vertical-align: middle;\n",
       "    }\n",
       "\n",
       "    .dataframe tbody tr th {\n",
       "        vertical-align: top;\n",
       "    }\n",
       "\n",
       "    .dataframe thead th {\n",
       "        text-align: right;\n",
       "    }\n",
       "</style>\n",
       "<table border=\"1\" class=\"dataframe\">\n",
       "  <thead>\n",
       "    <tr style=\"text-align: right;\">\n",
       "      <th></th>\n",
       "      <th>Y</th>\n",
       "      <th>X1</th>\n",
       "      <th>X2</th>\n",
       "      <th>X3</th>\n",
       "      <th>X4</th>\n",
       "      <th>X5</th>\n",
       "      <th>X6</th>\n",
       "      <th>X7</th>\n",
       "      <th>X8</th>\n",
       "      <th>X9</th>\n",
       "      <th>...</th>\n",
       "      <th>X14</th>\n",
       "      <th>X15</th>\n",
       "      <th>X16</th>\n",
       "      <th>X17</th>\n",
       "      <th>X18</th>\n",
       "      <th>X19</th>\n",
       "      <th>X20</th>\n",
       "      <th>X21</th>\n",
       "      <th>X22</th>\n",
       "      <th>X23</th>\n",
       "    </tr>\n",
       "  </thead>\n",
       "  <tbody>\n",
       "    <tr>\n",
       "      <th>0</th>\n",
       "      <td>1</td>\n",
       "      <td>120000</td>\n",
       "      <td>2</td>\n",
       "      <td>2</td>\n",
       "      <td>2</td>\n",
       "      <td>26</td>\n",
       "      <td>-1</td>\n",
       "      <td>2</td>\n",
       "      <td>0</td>\n",
       "      <td>0</td>\n",
       "      <td>...</td>\n",
       "      <td>2682</td>\n",
       "      <td>3272</td>\n",
       "      <td>3455</td>\n",
       "      <td>3261</td>\n",
       "      <td>0</td>\n",
       "      <td>1000</td>\n",
       "      <td>1000</td>\n",
       "      <td>1000</td>\n",
       "      <td>0</td>\n",
       "      <td>2000</td>\n",
       "    </tr>\n",
       "    <tr>\n",
       "      <th>1</th>\n",
       "      <td>0</td>\n",
       "      <td>90000</td>\n",
       "      <td>2</td>\n",
       "      <td>2</td>\n",
       "      <td>2</td>\n",
       "      <td>34</td>\n",
       "      <td>0</td>\n",
       "      <td>0</td>\n",
       "      <td>0</td>\n",
       "      <td>0</td>\n",
       "      <td>...</td>\n",
       "      <td>13559</td>\n",
       "      <td>14331</td>\n",
       "      <td>14948</td>\n",
       "      <td>15549</td>\n",
       "      <td>1518</td>\n",
       "      <td>1500</td>\n",
       "      <td>1000</td>\n",
       "      <td>1000</td>\n",
       "      <td>1000</td>\n",
       "      <td>5000</td>\n",
       "    </tr>\n",
       "    <tr>\n",
       "      <th>2</th>\n",
       "      <td>0</td>\n",
       "      <td>140000</td>\n",
       "      <td>2</td>\n",
       "      <td>3</td>\n",
       "      <td>1</td>\n",
       "      <td>28</td>\n",
       "      <td>0</td>\n",
       "      <td>0</td>\n",
       "      <td>2</td>\n",
       "      <td>0</td>\n",
       "      <td>...</td>\n",
       "      <td>12108</td>\n",
       "      <td>12211</td>\n",
       "      <td>11793</td>\n",
       "      <td>3719</td>\n",
       "      <td>3329</td>\n",
       "      <td>0</td>\n",
       "      <td>432</td>\n",
       "      <td>1000</td>\n",
       "      <td>1000</td>\n",
       "      <td>1000</td>\n",
       "    </tr>\n",
       "    <tr>\n",
       "      <th>3</th>\n",
       "      <td>0</td>\n",
       "      <td>20000</td>\n",
       "      <td>1</td>\n",
       "      <td>3</td>\n",
       "      <td>2</td>\n",
       "      <td>35</td>\n",
       "      <td>-2</td>\n",
       "      <td>-2</td>\n",
       "      <td>-2</td>\n",
       "      <td>-2</td>\n",
       "      <td>...</td>\n",
       "      <td>0</td>\n",
       "      <td>0</td>\n",
       "      <td>13007</td>\n",
       "      <td>13912</td>\n",
       "      <td>0</td>\n",
       "      <td>0</td>\n",
       "      <td>0</td>\n",
       "      <td>13007</td>\n",
       "      <td>1122</td>\n",
       "      <td>0</td>\n",
       "    </tr>\n",
       "    <tr>\n",
       "      <th>4</th>\n",
       "      <td>0</td>\n",
       "      <td>200000</td>\n",
       "      <td>2</td>\n",
       "      <td>3</td>\n",
       "      <td>2</td>\n",
       "      <td>34</td>\n",
       "      <td>0</td>\n",
       "      <td>0</td>\n",
       "      <td>2</td>\n",
       "      <td>0</td>\n",
       "      <td>...</td>\n",
       "      <td>5535</td>\n",
       "      <td>2513</td>\n",
       "      <td>1828</td>\n",
       "      <td>3731</td>\n",
       "      <td>2306</td>\n",
       "      <td>12</td>\n",
       "      <td>50</td>\n",
       "      <td>300</td>\n",
       "      <td>3738</td>\n",
       "      <td>66</td>\n",
       "    </tr>\n",
       "    <tr>\n",
       "      <th>...</th>\n",
       "      <td>...</td>\n",
       "      <td>...</td>\n",
       "      <td>...</td>\n",
       "      <td>...</td>\n",
       "      <td>...</td>\n",
       "      <td>...</td>\n",
       "      <td>...</td>\n",
       "      <td>...</td>\n",
       "      <td>...</td>\n",
       "      <td>...</td>\n",
       "      <td>...</td>\n",
       "      <td>...</td>\n",
       "      <td>...</td>\n",
       "      <td>...</td>\n",
       "      <td>...</td>\n",
       "      <td>...</td>\n",
       "      <td>...</td>\n",
       "      <td>...</td>\n",
       "      <td>...</td>\n",
       "      <td>...</td>\n",
       "      <td>...</td>\n",
       "    </tr>\n",
       "    <tr>\n",
       "      <th>14995</th>\n",
       "      <td>0</td>\n",
       "      <td>150000</td>\n",
       "      <td>1</td>\n",
       "      <td>1</td>\n",
       "      <td>2</td>\n",
       "      <td>35</td>\n",
       "      <td>-1</td>\n",
       "      <td>-1</td>\n",
       "      <td>-1</td>\n",
       "      <td>-1</td>\n",
       "      <td>...</td>\n",
       "      <td>-3</td>\n",
       "      <td>780</td>\n",
       "      <td>0</td>\n",
       "      <td>0</td>\n",
       "      <td>9054</td>\n",
       "      <td>0</td>\n",
       "      <td>783</td>\n",
       "      <td>0</td>\n",
       "      <td>0</td>\n",
       "      <td>0</td>\n",
       "    </tr>\n",
       "    <tr>\n",
       "      <th>14996</th>\n",
       "      <td>0</td>\n",
       "      <td>140000</td>\n",
       "      <td>1</td>\n",
       "      <td>2</td>\n",
       "      <td>1</td>\n",
       "      <td>41</td>\n",
       "      <td>0</td>\n",
       "      <td>0</td>\n",
       "      <td>0</td>\n",
       "      <td>0</td>\n",
       "      <td>...</td>\n",
       "      <td>139110</td>\n",
       "      <td>138262</td>\n",
       "      <td>49675</td>\n",
       "      <td>46121</td>\n",
       "      <td>6000</td>\n",
       "      <td>7000</td>\n",
       "      <td>4228</td>\n",
       "      <td>1505</td>\n",
       "      <td>2000</td>\n",
       "      <td>2000</td>\n",
       "    </tr>\n",
       "    <tr>\n",
       "      <th>14997</th>\n",
       "      <td>0</td>\n",
       "      <td>10000</td>\n",
       "      <td>1</td>\n",
       "      <td>3</td>\n",
       "      <td>1</td>\n",
       "      <td>43</td>\n",
       "      <td>0</td>\n",
       "      <td>0</td>\n",
       "      <td>0</td>\n",
       "      <td>-2</td>\n",
       "      <td>...</td>\n",
       "      <td>0</td>\n",
       "      <td>0</td>\n",
       "      <td>0</td>\n",
       "      <td>0</td>\n",
       "      <td>2000</td>\n",
       "      <td>0</td>\n",
       "      <td>0</td>\n",
       "      <td>0</td>\n",
       "      <td>0</td>\n",
       "      <td>0</td>\n",
       "    </tr>\n",
       "    <tr>\n",
       "      <th>14998</th>\n",
       "      <td>1</td>\n",
       "      <td>80000</td>\n",
       "      <td>1</td>\n",
       "      <td>2</td>\n",
       "      <td>2</td>\n",
       "      <td>34</td>\n",
       "      <td>2</td>\n",
       "      <td>2</td>\n",
       "      <td>2</td>\n",
       "      <td>2</td>\n",
       "      <td>...</td>\n",
       "      <td>79384</td>\n",
       "      <td>77519</td>\n",
       "      <td>82607</td>\n",
       "      <td>81158</td>\n",
       "      <td>7000</td>\n",
       "      <td>3500</td>\n",
       "      <td>0</td>\n",
       "      <td>7000</td>\n",
       "      <td>0</td>\n",
       "      <td>4000</td>\n",
       "    </tr>\n",
       "    <tr>\n",
       "      <th>14999</th>\n",
       "      <td>1</td>\n",
       "      <td>50000</td>\n",
       "      <td>1</td>\n",
       "      <td>2</td>\n",
       "      <td>1</td>\n",
       "      <td>46</td>\n",
       "      <td>0</td>\n",
       "      <td>0</td>\n",
       "      <td>0</td>\n",
       "      <td>0</td>\n",
       "      <td>...</td>\n",
       "      <td>49764</td>\n",
       "      <td>36535</td>\n",
       "      <td>32428</td>\n",
       "      <td>15313</td>\n",
       "      <td>2078</td>\n",
       "      <td>1800</td>\n",
       "      <td>1430</td>\n",
       "      <td>1000</td>\n",
       "      <td>1000</td>\n",
       "      <td>1000</td>\n",
       "    </tr>\n",
       "  </tbody>\n",
       "</table>\n",
       "<p>15000 rows × 24 columns</p>\n",
       "</div>"
      ],
      "text/plain": [
       "       Y      X1  X2  X3  X4  X5  X6  X7  X8  X9  ...     X14     X15    X16  \\\n",
       "0      1  120000   2   2   2  26  -1   2   0   0  ...    2682    3272   3455   \n",
       "1      0   90000   2   2   2  34   0   0   0   0  ...   13559   14331  14948   \n",
       "2      0  140000   2   3   1  28   0   0   2   0  ...   12108   12211  11793   \n",
       "3      0   20000   1   3   2  35  -2  -2  -2  -2  ...       0       0  13007   \n",
       "4      0  200000   2   3   2  34   0   0   2   0  ...    5535    2513   1828   \n",
       "...   ..     ...  ..  ..  ..  ..  ..  ..  ..  ..  ...     ...     ...    ...   \n",
       "14995  0  150000   1   1   2  35  -1  -1  -1  -1  ...      -3     780      0   \n",
       "14996  0  140000   1   2   1  41   0   0   0   0  ...  139110  138262  49675   \n",
       "14997  0   10000   1   3   1  43   0   0   0  -2  ...       0       0      0   \n",
       "14998  1   80000   1   2   2  34   2   2   2   2  ...   79384   77519  82607   \n",
       "14999  1   50000   1   2   1  46   0   0   0   0  ...   49764   36535  32428   \n",
       "\n",
       "         X17   X18   X19   X20    X21   X22   X23  \n",
       "0       3261     0  1000  1000   1000     0  2000  \n",
       "1      15549  1518  1500  1000   1000  1000  5000  \n",
       "2       3719  3329     0   432   1000  1000  1000  \n",
       "3      13912     0     0     0  13007  1122     0  \n",
       "4       3731  2306    12    50    300  3738    66  \n",
       "...      ...   ...   ...   ...    ...   ...   ...  \n",
       "14995      0  9054     0   783      0     0     0  \n",
       "14996  46121  6000  7000  4228   1505  2000  2000  \n",
       "14997      0  2000     0     0      0     0     0  \n",
       "14998  81158  7000  3500     0   7000     0  4000  \n",
       "14999  15313  2078  1800  1430   1000  1000  1000  \n",
       "\n",
       "[15000 rows x 24 columns]"
      ]
     },
     "execution_count": 7,
     "metadata": {},
     "output_type": "execute_result"
    }
   ],
   "source": [
    "test_data\n"
   ]
  },
  {
   "cell_type": "code",
   "execution_count": 8,
   "metadata": {},
   "outputs": [],
   "source": [
    "y_train = train_data['Y'].values\n",
    "X_train = train_data.drop(['Y'],axis=1).values\n",
    "\n",
    "y_test = test_data['Y'].values\n",
    "X_test = test_data.drop(['Y'],axis=1).values"
   ]
  },
  {
   "cell_type": "code",
   "execution_count": 9,
   "metadata": {},
   "outputs": [
    {
     "data": {
      "text/plain": [
       "array([20000,     2,     2,     1,    24,     2,     2,    -1,    -1,\n",
       "          -2,    -2,  3913,  3102,   689,     0,     0,     0,     0,\n",
       "         689,     0,     0,     0,     0], dtype=int64)"
      ]
     },
     "execution_count": 9,
     "metadata": {},
     "output_type": "execute_result"
    }
   ],
   "source": [
    "X_train[0]"
   ]
  },
  {
   "cell_type": "code",
   "execution_count": 10,
   "metadata": {},
   "outputs": [
    {
     "data": {
      "text/plain": [
       "[11682, 3318]"
      ]
     },
     "execution_count": 10,
     "metadata": {},
     "output_type": "execute_result"
    }
   ],
   "source": [
    "import matplotlib as plt\n",
    "%matplotlib inline\n",
    "\n",
    "counts = [list(y_train).count(0), list(y_train).count(1)]\n",
    "counts"
   ]
  },
  {
   "cell_type": "markdown",
   "metadata": {},
   "source": [
    "## Scaling the data"
   ]
  },
  {
   "cell_type": "code",
   "execution_count": 11,
   "metadata": {},
   "outputs": [],
   "source": [
    "from sklearn import preprocessing\n",
    "\n",
    "X_train = preprocessing.scale(X_train)\n",
    "X_test = preprocessing.scale(X_test)"
   ]
  },
  {
   "cell_type": "code",
   "execution_count": 12,
   "metadata": {},
   "outputs": [
    {
     "data": {
      "text/plain": [
       "array([-1.13331216,  0.8082431 ,  0.19067968, -1.06403915, -1.24187957,\n",
       "        1.79595421,  1.77813178, -0.69601185, -0.66540266, -1.51753654,\n",
       "       -1.48040468, -0.64832639, -0.64983325, -0.6711257 , -0.67292975,\n",
       "       -0.66565359, -0.65374752, -0.36112736, -0.23812634, -0.36269067,\n",
       "       -0.30289045, -0.31031133, -0.28876454])"
      ]
     },
     "execution_count": 12,
     "metadata": {},
     "output_type": "execute_result"
    }
   ],
   "source": [
    "X_train[0]"
   ]
  },
  {
   "cell_type": "markdown",
   "metadata": {},
   "source": [
    "## K-Nearest Neighbour (Gosia)"
   ]
  },
  {
   "cell_type": "code",
   "execution_count": 13,
   "metadata": {},
   "outputs": [],
   "source": [
    "import numpy as np\n",
    "import pandas as pd\n",
    "from sklearn.model_selection import GridSearchCV\n",
    "from sklearn.neighbors import KNeighborsClassifier"
   ]
  },
  {
   "cell_type": "code",
   "execution_count": 14,
   "metadata": {},
   "outputs": [
    {
     "name": "stdout",
     "output_type": "stream",
     "text": [
      "best accuracy :  0.8095333333333332 , best parameters :  {'p': 2, 'n_neighbors': 25}\n"
     ]
    }
   ],
   "source": [
    "knn = KNeighborsClassifier(metric = 'minkowski')\n",
    "\n",
    "'''\n",
    "Classifier implementing the k-nearest neighbour algorithm that finds data points most similar to the point we're predicting\n",
    "the label for, and classifies that point with the label of majority of its neighbours. \n",
    "\n",
    "parameters: \n",
    "- n_neigbours = number of neigbours to use by default for kneighbors queries.\n",
    "- p = pinteger: (default = 2)\n",
    "Power parameter for the Minkowski metric. When p = 1, this is equivalent to using manhattan_distance (l1), \n",
    "and euclidean_distance (l2) for p = 2.\n",
    "'''\n",
    "parameters = {\n",
    "    'n_neighbors':[2,5,7,9,11,15,20,25,30,50],\n",
    "    'p':[1,2]\n",
    "}\n",
    "\n",
    "\n",
    "'''\n",
    "GridSearchCv searches over specified parameter values for an estimator.\n",
    "\n",
    "cv - Number of folds to use in cross-validation\n",
    "n_jobs - the number of jobs to run in parallel. -1 means using all processors (should run faster) \n",
    "'''\n",
    "grid = GridSearchCV(estimator = knn, param_grid = parameters, scoring = 'accuracy' , cv=5, n_jobs=-1)\n",
    "\n",
    "grid.fit(X_train, y_train)\n",
    "\n",
    "best_knn_model = grid.best_estimator_\n",
    "\n",
    "scores = grid.cv_results_\n",
    "print ('best accuracy : ', grid.best_score_, ', best parameters : ',  grid.best_params_) "
   ]
  },
  {
   "cell_type": "code",
   "execution_count": 15,
   "metadata": {},
   "outputs": [],
   "source": [
    "params = scores['params']\n",
    "mean_scores = scores['mean_test_score']\n",
    "\n",
    "# create a dictionary for mean accuracy values (validation)\n",
    "l1, l2 = { 'means' : [] }, { 'means' : []}\n",
    "\n",
    "#split mean scores depending on the power parameter for the minkowski metric. \n",
    "for i in range(len(mean_scores)):\n",
    "    if (params[i]['p'] == 1):\n",
    "        l1['means'].append(mean_scores[i])\n",
    "    else:\n",
    "        l2['means'].append(mean_scores[i])   "
   ]
  },
  {
   "cell_type": "code",
   "execution_count": 16,
   "metadata": {},
   "outputs": [
    {
     "data": {
      "image/png": "[encoded data removed]",
      "text/plain": [
       "<Figure size 432x288 with 1 Axes>"
      ]
     },
     "metadata": {
      "needs_background": "light"
     },
     "output_type": "display_data"
    }
   ],
   "source": [
    "import matplotlib.pyplot as plt\n",
    "\n",
    "# plot mean scores by the number of neighbours and distance algorithm used\n",
    "plt.plot([x for x in parameters['n_neighbors']], l1['means'], 'mv--')\n",
    "plt.plot([x for x in parameters['n_neighbors']], l2['means'],'bo-')\n",
    "plt.title('Mean accuracy by number of neighbours and distance used')\n",
    "plt.legend(['manhattan', 'euclidean'])\n",
    "plt.xlabel('Number of neighbours')\n",
    "plt.ylabel('Mean Accuracy')\n",
    "plt.show()"
   ]
  },
  {
   "cell_type": "code",
   "execution_count": 17,
   "metadata": {},
   "outputs": [
    {
     "data": {
      "text/html": [
       "<div>\n",
       "<style scoped>\n",
       "    .dataframe tbody tr th:only-of-type {\n",
       "        vertical-align: middle;\n",
       "    }\n",
       "\n",
       "    .dataframe tbody tr th {\n",
       "        vertical-align: top;\n",
       "    }\n",
       "\n",
       "    .dataframe thead th {\n",
       "        text-align: right;\n",
       "    }\n",
       "</style>\n",
       "<table border=\"1\" class=\"dataframe\">\n",
       "  <thead>\n",
       "    <tr style=\"text-align: right;\">\n",
       "      <th></th>\n",
       "      <th>True</th>\n",
       "      <th>PredictedClass</th>\n",
       "    </tr>\n",
       "  </thead>\n",
       "  <tbody>\n",
       "    <tr>\n",
       "      <th>0</th>\n",
       "      <td>1</td>\n",
       "      <td>0</td>\n",
       "    </tr>\n",
       "    <tr>\n",
       "      <th>1</th>\n",
       "      <td>0</td>\n",
       "      <td>0</td>\n",
       "    </tr>\n",
       "    <tr>\n",
       "      <th>2</th>\n",
       "      <td>0</td>\n",
       "      <td>0</td>\n",
       "    </tr>\n",
       "    <tr>\n",
       "      <th>3</th>\n",
       "      <td>0</td>\n",
       "      <td>0</td>\n",
       "    </tr>\n",
       "    <tr>\n",
       "      <th>4</th>\n",
       "      <td>0</td>\n",
       "      <td>0</td>\n",
       "    </tr>\n",
       "    <tr>\n",
       "      <th>...</th>\n",
       "      <td>...</td>\n",
       "      <td>...</td>\n",
       "    </tr>\n",
       "    <tr>\n",
       "      <th>14995</th>\n",
       "      <td>0</td>\n",
       "      <td>0</td>\n",
       "    </tr>\n",
       "    <tr>\n",
       "      <th>14996</th>\n",
       "      <td>0</td>\n",
       "      <td>0</td>\n",
       "    </tr>\n",
       "    <tr>\n",
       "      <th>14997</th>\n",
       "      <td>0</td>\n",
       "      <td>0</td>\n",
       "    </tr>\n",
       "    <tr>\n",
       "      <th>14998</th>\n",
       "      <td>1</td>\n",
       "      <td>1</td>\n",
       "    </tr>\n",
       "    <tr>\n",
       "      <th>14999</th>\n",
       "      <td>1</td>\n",
       "      <td>0</td>\n",
       "    </tr>\n",
       "  </tbody>\n",
       "</table>\n",
       "<p>15000 rows × 2 columns</p>\n",
       "</div>"
      ],
      "text/plain": [
       "       True  PredictedClass\n",
       "0         1               0\n",
       "1         0               0\n",
       "2         0               0\n",
       "3         0               0\n",
       "4         0               0\n",
       "...     ...             ...\n",
       "14995     0               0\n",
       "14996     0               0\n",
       "14997     0               0\n",
       "14998     1               1\n",
       "14999     1               0\n",
       "\n",
       "[15000 rows x 2 columns]"
      ]
     },
     "execution_count": 17,
     "metadata": {},
     "output_type": "execute_result"
    }
   ],
   "source": [
    "# predictions on test set using the best knn model\n",
    "predY = best_knn_model.predict(X_test)\n",
    "predictions = pd.concat([pd.Series(y_test,name='True'), pd.Series(predY,name='PredictedClass')], axis=1)\n",
    "predictions"
   ]
  },
  {
   "cell_type": "code",
   "execution_count": 18,
   "metadata": {},
   "outputs": [
    {
     "name": "stdout",
     "output_type": "stream",
     "text": [
      "Accuracy on test data is 0.813\n"
     ]
    }
   ],
   "source": [
    "from sklearn.metrics import accuracy_score\n",
    "\n",
    "print('Accuracy on test data is %.3f' % (accuracy_score(y_test, predY)))"
   ]
  },
  {
   "cell_type": "code",
   "execution_count": 19,
   "metadata": {},
   "outputs": [
    {
     "data": {
      "text/plain": [
       "array([[11159,   523],\n",
       "       [ 2289,  1029]], dtype=int64)"
      ]
     },
     "execution_count": 19,
     "metadata": {},
     "output_type": "execute_result"
    }
   ],
   "source": [
    "from sklearn.metrics import confusion_matrix\n",
    "#confusion matrix\n",
    "CM = confusion_matrix(y_test, predY, labels=[0, 1])\n",
    "CM"
   ]
  },
  {
   "cell_type": "code",
   "execution_count": 20,
   "metadata": {},
   "outputs": [
    {
     "data": {
      "text/plain": [
       "0.310126582278481"
      ]
     },
     "execution_count": 20,
     "metadata": {},
     "output_type": "execute_result"
    }
   ],
   "source": [
    "#ravel() returns a flattened array with true negatives, false positives, false negatives and true positives\n",
    "tn, fp, fn, tp = CM.ravel()\n",
    "(tn, fp, fn, tp)\n",
    "\n",
    "recall=tp/(tp+fn)\n",
    "recall\n",
    "\n",
    "\n",
    "# checking if it's correctly calculated\n",
    "from sklearn.metrics import recall_score\n",
    "recall_score(y_test, predY)"
   ]
  },
  {
   "cell_type": "code",
   "execution_count": 21,
   "metadata": {},
   "outputs": [
    {
     "data": {
      "text/plain": [
       "0.6630154639175257"
      ]
     },
     "execution_count": 21,
     "metadata": {},
     "output_type": "execute_result"
    }
   ],
   "source": [
    "# calculating precision\n",
    "prec=tp/(tp+fp)\n",
    "prec\n",
    "\n",
    "from sklearn.metrics import precision_score\n",
    "precision_score(y_test, predY)"
   ]
  },
  {
   "cell_type": "code",
   "execution_count": 22,
   "metadata": {},
   "outputs": [
    {
     "data": {
      "text/plain": [
       "0.4225872689938398"
      ]
     },
     "execution_count": 22,
     "metadata": {},
     "output_type": "execute_result"
    }
   ],
   "source": [
    "# calculating f1 measure \n",
    "f1= 2*prec*recall / (prec+recall)\n",
    "f1\n",
    "\n",
    "from sklearn.metrics import f1_score\n",
    "f1_score(y_test, predY)"
   ]
  },
  {
   "cell_type": "code",
   "execution_count": 24,
   "metadata": {},
   "outputs": [
    {
     "name": "stdout",
     "output_type": "stream",
     "text": [
      "class 0, precision: 0.83, recall: 0.96,  f-score: 0.89\n",
      "class 1, precision: 0.66, recall: 0.31,  f-score: 0.42\n"
     ]
    }
   ],
   "source": [
    "# calculate precision and recall for each class \n",
    "from sklearn import metrics\n",
    "precision,recall,fscore,_ = metrics.precision_recall_fscore_support(y_test, predY)\n",
    "for c in np.unique(y_test):\n",
    "        print(\"class %s, precision: %.3f, recall: %.3f,  f-score: %.3f\" % (c, precision[c], recall[c], fscore[c]))"
   ]
  },
  {
   "cell_type": "markdown",
   "metadata": {},
   "source": [
    "## Decision Tree (Gosia)"
   ]
  },
  {
   "cell_type": "code",
   "execution_count": 26,
   "metadata": {},
   "outputs": [
    {
     "name": "stdout",
     "output_type": "stream",
     "text": [
      "best accuracy :  0.8202 , best parameters :  {'criterion': 'entropy', 'max_depth': 4, 'max_features': 'log2'}\n"
     ]
    }
   ],
   "source": [
    "import numpy as np\n",
    "import pandas as pd\n",
    "from sklearn import tree\n",
    "from sklearn.model_selection import GridSearchCV\n",
    "\n",
    "clf = tree.DecisionTreeClassifier()\n",
    "\n",
    "'''\n",
    "Classifier implementing the decision tree algorithm by using tree representation in which\n",
    "internal nodes correspond to features, and each leaf node corresponds to a class label.\n",
    "\n",
    "parameters:\n",
    "- max_depth - maximum depth of the tree.\n",
    "- critetion - function that measures the quality of the split. gini = Gini purity, entropy = information gain.\n",
    "- max_features - number of features to consider when looking for the best split\n",
    "'''\n",
    "parameters = {\n",
    "    'max_depth':range(2,20), \n",
    "    'criterion':['gini', 'entropy'],\n",
    "    'max_features': ['sqrt', 'log2']\n",
    "}\n",
    "\n",
    "grid = GridSearchCV(estimator = clf, param_grid = parameters, scoring = 'accuracy' , cv=5, n_jobs=-1)\n",
    "\n",
    "grid.fit(X_train, y_train)\n",
    "\n",
    "best_tree_model = grid.best_estimator_\n",
    "\n",
    "scores = grid.cv_results_\n",
    "print ('best accuracy : ', grid.best_score_, ', best parameters : ',  grid.best_params_) "
   ]
  },
  {
   "cell_type": "code",
   "execution_count": 28,
   "metadata": {},
   "outputs": [
    {
     "data": {
      "text/plain": [
       "array([0.06794602, 0.        , 0.        , 0.        , 0.00377133,\n",
       "       0.15078771, 0.64668042, 0.        , 0.        , 0.00858635,\n",
       "       0.0131708 , 0.        , 0.01382115, 0.        , 0.00815286,\n",
       "       0.        , 0.00590291, 0.01487028, 0.        , 0.        ,\n",
       "       0.05043104, 0.00526257, 0.01061657])"
      ]
     },
     "execution_count": 28,
     "metadata": {},
     "output_type": "execute_result"
    }
   ],
   "source": [
    "fi = best_tree_model.feature_importances_\n",
    "fi"
   ]
  },
  {
   "cell_type": "code",
   "execution_count": null,
   "metadata": {},
   "outputs": [],
   "source": []
  },
  {
   "cell_type": "code",
   "execution_count": null,
   "metadata": {},
   "outputs": [],
   "source": []
  },
  {
   "cell_type": "code",
   "execution_count": null,
   "metadata": {},
   "outputs": [],
   "source": []
  },
  {
   "cell_type": "code",
   "execution_count": 26,
   "metadata": {},
   "outputs": [],
   "source": [
    "gini_sqrt = {\n",
    "    'means' : []   \n",
    "}\n",
    "\n",
    "gini_log2 = {\n",
    "    'means' : []\n",
    "}\n",
    "\n",
    "entropy_sqrt = {\n",
    "    'means' : []\n",
    "}\n",
    "\n",
    "entropy_log2 = {\n",
    "    'means' : []\n",
    "}"
   ]
  },
  {
   "cell_type": "code",
   "execution_count": 27,
   "metadata": {},
   "outputs": [],
   "source": [
    "mean_accuracies = scores['mean_test_score']\n",
    "params = scores['params']\n",
    "\n",
    "#plotting the average accuracies for hyper-parameters\n",
    "\n",
    "for i in range(len(mean_accuracies)):\n",
    "    if (params[i]['criterion'] == 'gini' and params[i]['max_features'] == 'sqrt'):\n",
    "        gini_sqrt['means'].append(mean_accuracies[i])\n",
    "    if (params[i]['criterion'] == 'gini' and params[i]['max_features'] == 'log2'):\n",
    "        gini_log2['means'].append(mean_accuracies[i])\n",
    "    if (params[i]['criterion'] == 'entropy' and params[i]['max_features'] == 'sqrt'):\n",
    "        entropy_sqrt['means'].append(mean_accuracies[i])\n",
    "    if (params[i]['criterion'] == 'entropy' and params[i]['max_features'] == 'log2'):\n",
    "        entropy_log2['means'].append(mean_accuracies[i])"
   ]
  },
  {
   "cell_type": "code",
   "execution_count": 28,
   "metadata": {},
   "outputs": [
    {
     "data": {
      "image/png": "[encoded data removed]",
      "text/plain": [
       "<Figure size 432x288 with 1 Axes>"
      ]
     },
     "metadata": {
      "needs_background": "light"
     },
     "output_type": "display_data"
    },
    {
     "data": {
      "image/png": "[encoded data removed]",
      "text/plain": [
       "<Figure size 432x288 with 1 Axes>"
      ]
     },
     "metadata": {
      "needs_background": "light"
     },
     "output_type": "display_data"
    }
   ],
   "source": [
    "import matplotlib.pyplot as plt\n",
    "\n",
    "#plotting the average accuracies for hyper-parameters\n",
    "\n",
    "plt.plot([x for x in parameters['max_depth']], gini_sqrt['means'], 'mv--')\n",
    "plt.plot([x for x in parameters['max_depth']], entropy_sqrt['means'],'bo-')\n",
    "plt.title('Accuracy by maximum depth, criterion used and max_features=sqrt(n_features)')\n",
    "plt.legend(['Gini', 'Entropy'])\n",
    "plt.xlabel('Max depth')\n",
    "plt.ylabel('Mean Accuracy')\n",
    "plt.show()\n",
    "\n",
    "plt.plot([x for x in parameters['max_depth']], gini_log2['means'], 'mv--')\n",
    "plt.plot([x for x in parameters['max_depth']], entropy_log2['means'],'bo-')\n",
    "plt.title('Accuracy by maximum depth, criterion used and max_features=log2(n_features)')\n",
    "plt.legend(['Gini', 'Entropy'])\n",
    "plt.xlabel('Max depth')\n",
    "plt.ylabel('Mean Accuracy')\n",
    "plt.show()"
   ]
  },
  {
   "cell_type": "code",
   "execution_count": 29,
   "metadata": {},
   "outputs": [
    {
     "data": {
      "text/html": [
       "<div>\n",
       "<style scoped>\n",
       "    .dataframe tbody tr th:only-of-type {\n",
       "        vertical-align: middle;\n",
       "    }\n",
       "\n",
       "    .dataframe tbody tr th {\n",
       "        vertical-align: top;\n",
       "    }\n",
       "\n",
       "    .dataframe thead th {\n",
       "        text-align: right;\n",
       "    }\n",
       "</style>\n",
       "<table border=\"1\" class=\"dataframe\">\n",
       "  <thead>\n",
       "    <tr style=\"text-align: right;\">\n",
       "      <th></th>\n",
       "      <th>True</th>\n",
       "      <th>PredictedClass</th>\n",
       "    </tr>\n",
       "  </thead>\n",
       "  <tbody>\n",
       "    <tr>\n",
       "      <th>0</th>\n",
       "      <td>1</td>\n",
       "      <td>0</td>\n",
       "    </tr>\n",
       "    <tr>\n",
       "      <th>1</th>\n",
       "      <td>0</td>\n",
       "      <td>0</td>\n",
       "    </tr>\n",
       "    <tr>\n",
       "      <th>2</th>\n",
       "      <td>0</td>\n",
       "      <td>0</td>\n",
       "    </tr>\n",
       "    <tr>\n",
       "      <th>3</th>\n",
       "      <td>0</td>\n",
       "      <td>0</td>\n",
       "    </tr>\n",
       "    <tr>\n",
       "      <th>4</th>\n",
       "      <td>0</td>\n",
       "      <td>0</td>\n",
       "    </tr>\n",
       "    <tr>\n",
       "      <th>...</th>\n",
       "      <td>...</td>\n",
       "      <td>...</td>\n",
       "    </tr>\n",
       "    <tr>\n",
       "      <th>14995</th>\n",
       "      <td>0</td>\n",
       "      <td>0</td>\n",
       "    </tr>\n",
       "    <tr>\n",
       "      <th>14996</th>\n",
       "      <td>0</td>\n",
       "      <td>0</td>\n",
       "    </tr>\n",
       "    <tr>\n",
       "      <th>14997</th>\n",
       "      <td>0</td>\n",
       "      <td>0</td>\n",
       "    </tr>\n",
       "    <tr>\n",
       "      <th>14998</th>\n",
       "      <td>1</td>\n",
       "      <td>1</td>\n",
       "    </tr>\n",
       "    <tr>\n",
       "      <th>14999</th>\n",
       "      <td>1</td>\n",
       "      <td>0</td>\n",
       "    </tr>\n",
       "  </tbody>\n",
       "</table>\n",
       "<p>15000 rows × 2 columns</p>\n",
       "</div>"
      ],
      "text/plain": [
       "       True  PredictedClass\n",
       "0         1               0\n",
       "1         0               0\n",
       "2         0               0\n",
       "3         0               0\n",
       "4         0               0\n",
       "...     ...             ...\n",
       "14995     0               0\n",
       "14996     0               0\n",
       "14997     0               0\n",
       "14998     1               1\n",
       "14999     1               0\n",
       "\n",
       "[15000 rows x 2 columns]"
      ]
     },
     "execution_count": 29,
     "metadata": {},
     "output_type": "execute_result"
    }
   ],
   "source": [
    "#predictions on test data using the model with the best parameters\n",
    "predY = best_tree_model.predict(X_test)\n",
    "predictions = pd.concat([pd.Series(y_test,name='True'), pd.Series(predY,name='PredictedClass')], axis=1)\n",
    "predictions"
   ]
  },
  {
   "cell_type": "code",
   "execution_count": 30,
   "metadata": {},
   "outputs": [
    {
     "name": "stdout",
     "output_type": "stream",
     "text": [
      "Accuracy on test data is 0.818\n"
     ]
    }
   ],
   "source": [
    "from sklearn.metrics import accuracy_score\n",
    "\n",
    "print('Accuracy on test data is %.3f' % (accuracy_score(y_test, predY)))"
   ]
  },
  {
   "cell_type": "code",
   "execution_count": 31,
   "metadata": {},
   "outputs": [
    {
     "data": {
      "text/plain": [
       "array([[11230,   452],\n",
       "       [ 2280,  1038]], dtype=int64)"
      ]
     },
     "execution_count": 31,
     "metadata": {},
     "output_type": "execute_result"
    }
   ],
   "source": [
    "from sklearn.metrics import confusion_matrix\n",
    "#confusion matrix\n",
    "CM = confusion_matrix(y_test, predY, labels=[0, 1])\n",
    "CM"
   ]
  },
  {
   "cell_type": "code",
   "execution_count": 32,
   "metadata": {},
   "outputs": [
    {
     "name": "stdout",
     "output_type": "stream",
     "text": [
      "0.3128390596745027\n"
     ]
    }
   ],
   "source": [
    "tn, fp, fn, tp = CM.ravel()\n",
    "(tn, fp, fn, tp)\n",
    "\n",
    "#calculating recall\n",
    "recall=tp/(tp+fn)\n",
    "print(recall)"
   ]
  },
  {
   "cell_type": "code",
   "execution_count": 33,
   "metadata": {},
   "outputs": [
    {
     "name": "stdout",
     "output_type": "stream",
     "text": [
      "0.6966442953020134\n"
     ]
    }
   ],
   "source": [
    "#calculating precision\n",
    "prec=tp/(tp+fp)\n",
    "print(prec)"
   ]
  },
  {
   "cell_type": "code",
   "execution_count": 34,
   "metadata": {},
   "outputs": [
    {
     "name": "stdout",
     "output_type": "stream",
     "text": [
      "0.4317803660565724\n"
     ]
    }
   ],
   "source": [
    "#calculating f1 measure \n",
    "f1= 2*prec*recall / (prec+recall)\n",
    "print(f1)"
   ]
  },
  {
   "cell_type": "code",
   "execution_count": 35,
   "metadata": {},
   "outputs": [
    {
     "name": "stdout",
     "output_type": "stream",
     "text": [
      "class 0, precision: 0.83, recall: 0.96,  f-score: 0.89\n",
      "class 1, precision: 0.70, recall: 0.31,  f-score: 0.43\n"
     ]
    }
   ],
   "source": [
    "from sklearn import metrics\n",
    "# calculate precision and recall for each class \n",
    "precision,recall,fscore,_ = metrics.precision_recall_fscore_support(y_test, predY)\n",
    "for c in np.unique(y_test):\n",
    "        print(\"class %s, precision: %.3f, recall: %.3f,  f-score: %.3f\" % (c, precision[c], recall[c], fscore[c]))"
   ]
  },
  {
   "cell_type": "markdown",
   "metadata": {},
   "source": [
    "## Random Forest (Katie)"
   ]
  },
  {
   "cell_type": "code",
   "execution_count": 8,
   "metadata": {},
   "outputs": [
    {
     "name": "stdout",
     "output_type": "stream",
     "text": [
      "{'max_features': 11, 'n_estimators': 900}\n"
     ]
    }
   ],
   "source": [
    "from sklearn.model_selection import GridSearchCV\n",
    "from sklearn.ensemble import RandomForestClassifier\n",
    "\n",
    "rfc = RandomForestClassifier(random_state=0, criterion='gini', bootstrap=True)\n",
    "\n",
    "parameters = {\n",
    "    'n_estimators': [500,700,900],\n",
    "    'max_features': range(10,15), \n",
    "}\n",
    "\n",
    "grid = GridSearchCV(estimator=rfc, param_grid=parameters, \n",
    "                    scoring='accuracy', cv=5, n_jobs=-1)\n",
    "\n",
    "grid.fit(X_train, y_train)\n",
    "\n",
    "best_params = grid.best_params_\n",
    "print(best_params)"
   ]
  },
  {
   "cell_type": "code",
   "execution_count": 9,
   "metadata": {},
   "outputs": [],
   "source": [
    "# Plotting the accuracy of hyper parameters \n",
    "import numpy as np\n",
    "\n",
    "mean_accuracies = grid.cv_results_['mean_test_score']\n",
    "stds = grid.cv_results_['std_test_score']\n",
    "params_combos = grid.cv_results_['params']\n",
    "\n",
    "y = {\n",
    "    \"500\" : [],\n",
    "    \"700\" : [],\n",
    "    \"900\" : []\n",
    "}\n",
    "for p,m, in zip(params_combos, mean_accuracies):\n",
    "    y[str(p['n_estimators'])].append(m)\n"
   ]
  },
  {
   "cell_type": "code",
   "execution_count": 10,
   "metadata": {},
   "outputs": [
    {
     "data": {
      "image/png": "[encoded data removed]",
      "text/plain": [
       "<Figure size 432x288 with 1 Axes>"
      ]
     },
     "metadata": {
      "needs_background": "light"
     },
     "output_type": "display_data"
    }
   ],
   "source": [
    "import matplotlib.pyplot as plt\n",
    "\n",
    "plt.plot([x for x in parameters['max_features']], [y for y in y['500']], 'bo-')\n",
    "plt.plot([x for x in parameters['max_features']], [y for y in y['700']], 'rv--')\n",
    "plt.plot([x for x in parameters['max_features']], [y for y in y['900']], 'gd:')\n",
    "plt.legend(['500 estimators', '700', '900'])\n",
    "plt.xlabel('Max Feature')\n",
    "plt.ylabel('Mean Accuracy')\n",
    "plt.title(\"Accuracy by max features and number of estimators with bootstrapping\")\n",
    "plt.show()"
   ]
  },
  {
   "cell_type": "code",
   "execution_count": 11,
   "metadata": {},
   "outputs": [],
   "source": [
    "from sklearn.model_selection import cross_val_score \n",
    "\n",
    "best_rfc = grid.best_estimator_"
   ]
  },
  {
   "cell_type": "code",
   "execution_count": 12,
   "metadata": {},
   "outputs": [
    {
     "data": {
      "text/html": [
       "<div>\n",
       "<style scoped>\n",
       "    .dataframe tbody tr th:only-of-type {\n",
       "        vertical-align: middle;\n",
       "    }\n",
       "\n",
       "    .dataframe tbody tr th {\n",
       "        vertical-align: top;\n",
       "    }\n",
       "\n",
       "    .dataframe thead th {\n",
       "        text-align: right;\n",
       "    }\n",
       "</style>\n",
       "<table border=\"1\" class=\"dataframe\">\n",
       "  <thead>\n",
       "    <tr style=\"text-align: right;\">\n",
       "      <th></th>\n",
       "      <th>True</th>\n",
       "      <th>PredictedClass</th>\n",
       "    </tr>\n",
       "  </thead>\n",
       "  <tbody>\n",
       "    <tr>\n",
       "      <td>0</td>\n",
       "      <td>1</td>\n",
       "      <td>0</td>\n",
       "    </tr>\n",
       "    <tr>\n",
       "      <td>1</td>\n",
       "      <td>0</td>\n",
       "      <td>0</td>\n",
       "    </tr>\n",
       "    <tr>\n",
       "      <td>2</td>\n",
       "      <td>0</td>\n",
       "      <td>0</td>\n",
       "    </tr>\n",
       "    <tr>\n",
       "      <td>3</td>\n",
       "      <td>0</td>\n",
       "      <td>0</td>\n",
       "    </tr>\n",
       "    <tr>\n",
       "      <td>4</td>\n",
       "      <td>0</td>\n",
       "      <td>0</td>\n",
       "    </tr>\n",
       "    <tr>\n",
       "      <td>...</td>\n",
       "      <td>...</td>\n",
       "      <td>...</td>\n",
       "    </tr>\n",
       "    <tr>\n",
       "      <td>14995</td>\n",
       "      <td>0</td>\n",
       "      <td>0</td>\n",
       "    </tr>\n",
       "    <tr>\n",
       "      <td>14996</td>\n",
       "      <td>0</td>\n",
       "      <td>0</td>\n",
       "    </tr>\n",
       "    <tr>\n",
       "      <td>14997</td>\n",
       "      <td>0</td>\n",
       "      <td>0</td>\n",
       "    </tr>\n",
       "    <tr>\n",
       "      <td>14998</td>\n",
       "      <td>1</td>\n",
       "      <td>1</td>\n",
       "    </tr>\n",
       "    <tr>\n",
       "      <td>14999</td>\n",
       "      <td>1</td>\n",
       "      <td>0</td>\n",
       "    </tr>\n",
       "  </tbody>\n",
       "</table>\n",
       "<p>15000 rows × 2 columns</p>\n",
       "</div>"
      ],
      "text/plain": [
       "       True  PredictedClass\n",
       "0         1               0\n",
       "1         0               0\n",
       "2         0               0\n",
       "3         0               0\n",
       "4         0               0\n",
       "...     ...             ...\n",
       "14995     0               0\n",
       "14996     0               0\n",
       "14997     0               0\n",
       "14998     1               1\n",
       "14999     1               0\n",
       "\n",
       "[15000 rows x 2 columns]"
      ]
     },
     "execution_count": 12,
     "metadata": {},
     "output_type": "execute_result"
    }
   ],
   "source": [
    "# Predict test values using RFC model with best hyper parameters\n",
    "predY = best_rfc.predict(X_test)\n",
    "predictions = pd.concat([pd.Series(y_test,name='True'), pd.Series(predY,name='PredictedClass')], axis=1)\n",
    "predictions"
   ]
  },
  {
   "cell_type": "code",
   "execution_count": 13,
   "metadata": {},
   "outputs": [
    {
     "name": "stdout",
     "output_type": "stream",
     "text": [
      "[[11115   567]\n",
      " [ 2173  1145]]\n",
      "accuracy: 0.82\n",
      "class 0, precision: 0.84, recall: 0.95,  f-score: 0.89\n",
      "class 1, precision: 0.67, recall: 0.35,  f-score: 0.46\n"
     ]
    }
   ],
   "source": [
    "# Confusion Matrix\n",
    "\n",
    "from sklearn import metrics\n",
    "\n",
    "CM = metrics.confusion_matrix(y_test, predY)\n",
    "\n",
    "print(CM)\n",
    "print(\"accuracy: %.2f\" % metrics.accuracy_score(y_test, predY))\n",
    "\n",
    "# calculate precision and recall (and f-score, a weighted average of precision and recall) \n",
    "precision,recall,fscore,_ = metrics.precision_recall_fscore_support(y_test, predY )\n",
    "for c in np.unique(y_test):\n",
    "        print(\"class %s, precision: %.2f, recall: %.2f,  f-score: %.2f\" % (c, precision[c], recall[c], fscore[c]))"
   ]
  },
  {
   "cell_type": "markdown",
   "metadata": {},
   "source": [
    "## Bagging (Katie)"
   ]
  },
  {
   "cell_type": "code",
   "execution_count": 30,
   "metadata": {},
   "outputs": [
    {
     "name": "stdout",
     "output_type": "stream",
     "text": [
      "{'bootstrap': True, 'n_estimators': 300}\n"
     ]
    }
   ],
   "source": [
    "from sklearn.ensemble import BaggingClassifier\n",
    "\n",
    "bag = BaggingClassifier()\n",
    "\n",
    "parameters = {\n",
    "    'n_estimators': [100,300,500,700,900],\n",
    "    'bootstrap': [True, False]\n",
    "}\n",
    "\n",
    "grid = GridSearchCV(estimator=bag, param_grid=parameters, \n",
    "                    scoring='accuracy', cv=5, n_jobs=-1)\n",
    "\n",
    "grid.fit(X_train, y_train)\n",
    "\n",
    "best_params = grid.best_params_\n",
    "print(best_params)"
   ]
  },
  {
   "cell_type": "code",
   "execution_count": 31,
   "metadata": {
    "scrolled": true
   },
   "outputs": [],
   "source": [
    "# Plotting the accuracy of hyper parameters \n",
    "import numpy as np\n",
    "\n",
    "mean_accuracies = grid.cv_results_['mean_test_score']\n",
    "stds = grid.cv_results_['std_test_score']\n",
    "params_combos = grid.cv_results_['params']\n",
    "\n",
    "boot = []\n",
    "no_boot = []\n",
    "for p,m, in zip(params_combos, mean_accuracies):\n",
    "    if p['bootstrap'] == True:\n",
    "        boot.append(m)\n",
    "    if p['bootstrap'] == False:\n",
    "        no_boot.append(m)"
   ]
  },
  {
   "cell_type": "code",
   "execution_count": 32,
   "metadata": {},
   "outputs": [
    {
     "data": {
      "text/plain": [
       "Text(0.5, 1.0, 'Accuracy by N-estimators')"
      ]
     },
     "execution_count": 32,
     "metadata": {},
     "output_type": "execute_result"
    },
    {
     "data": {
      "image/png": "[encoded data removed]",
      "text/plain": [
       "<Figure size 432x288 with 1 Axes>"
      ]
     },
     "metadata": {
      "needs_background": "light"
     },
     "output_type": "display_data"
    }
   ],
   "source": [
    "import matplotlib.pyplot as plt\n",
    "\n",
    "plt.plot([x for x in parameters['n_estimators']], [x for x in boot], 'bo-')\n",
    "plt.plot([x for x in parameters['n_estimators']], [x for x in no_boot], 'rv--')\n",
    "plt.legend(['With Bootstrap', 'Without Bootstrap'])\n",
    "plt.xlabel('N-estimators')\n",
    "plt.ylabel('Mean Accuracy')\n",
    "plt.title(\"Accuracy by N-estimators\")\n",
    "# plt.show()"
   ]
  },
  {
   "cell_type": "code",
   "execution_count": 33,
   "metadata": {},
   "outputs": [],
   "source": [
    "from sklearn.model_selection import cross_val_score \n",
    "\n",
    "best_bag = grid.best_estimator_"
   ]
  },
  {
   "cell_type": "code",
   "execution_count": 34,
   "metadata": {},
   "outputs": [
    {
     "data": {
      "text/html": [
       "<div>\n",
       "<style scoped>\n",
       "    .dataframe tbody tr th:only-of-type {\n",
       "        vertical-align: middle;\n",
       "    }\n",
       "\n",
       "    .dataframe tbody tr th {\n",
       "        vertical-align: top;\n",
       "    }\n",
       "\n",
       "    .dataframe thead th {\n",
       "        text-align: right;\n",
       "    }\n",
       "</style>\n",
       "<table border=\"1\" class=\"dataframe\">\n",
       "  <thead>\n",
       "    <tr style=\"text-align: right;\">\n",
       "      <th></th>\n",
       "      <th>True</th>\n",
       "      <th>PredictedClass</th>\n",
       "    </tr>\n",
       "  </thead>\n",
       "  <tbody>\n",
       "    <tr>\n",
       "      <th>0</th>\n",
       "      <td>1</td>\n",
       "      <td>0</td>\n",
       "    </tr>\n",
       "    <tr>\n",
       "      <th>1</th>\n",
       "      <td>0</td>\n",
       "      <td>0</td>\n",
       "    </tr>\n",
       "    <tr>\n",
       "      <th>2</th>\n",
       "      <td>0</td>\n",
       "      <td>0</td>\n",
       "    </tr>\n",
       "    <tr>\n",
       "      <th>3</th>\n",
       "      <td>0</td>\n",
       "      <td>0</td>\n",
       "    </tr>\n",
       "    <tr>\n",
       "      <th>4</th>\n",
       "      <td>0</td>\n",
       "      <td>0</td>\n",
       "    </tr>\n",
       "    <tr>\n",
       "      <th>...</th>\n",
       "      <td>...</td>\n",
       "      <td>...</td>\n",
       "    </tr>\n",
       "    <tr>\n",
       "      <th>14995</th>\n",
       "      <td>0</td>\n",
       "      <td>0</td>\n",
       "    </tr>\n",
       "    <tr>\n",
       "      <th>14996</th>\n",
       "      <td>0</td>\n",
       "      <td>0</td>\n",
       "    </tr>\n",
       "    <tr>\n",
       "      <th>14997</th>\n",
       "      <td>0</td>\n",
       "      <td>0</td>\n",
       "    </tr>\n",
       "    <tr>\n",
       "      <th>14998</th>\n",
       "      <td>1</td>\n",
       "      <td>1</td>\n",
       "    </tr>\n",
       "    <tr>\n",
       "      <th>14999</th>\n",
       "      <td>1</td>\n",
       "      <td>0</td>\n",
       "    </tr>\n",
       "  </tbody>\n",
       "</table>\n",
       "<p>15000 rows × 2 columns</p>\n",
       "</div>"
      ],
      "text/plain": [
       "       True  PredictedClass\n",
       "0         1               0\n",
       "1         0               0\n",
       "2         0               0\n",
       "3         0               0\n",
       "4         0               0\n",
       "...     ...             ...\n",
       "14995     0               0\n",
       "14996     0               0\n",
       "14997     0               0\n",
       "14998     1               1\n",
       "14999     1               0\n",
       "\n",
       "[15000 rows x 2 columns]"
      ]
     },
     "execution_count": 34,
     "metadata": {},
     "output_type": "execute_result"
    }
   ],
   "source": [
    "# Predict test values using bagging model with best hyper parameters\n",
    "predY = best_bag.predict(X_test)\n",
    "predictions = pd.concat([pd.Series(y_test,name='True'), pd.Series(predY,name='PredictedClass')], axis=1)\n",
    "predictions"
   ]
  },
  {
   "cell_type": "code",
   "execution_count": 35,
   "metadata": {},
   "outputs": [
    {
     "name": "stdout",
     "output_type": "stream",
     "text": [
      "[[11112   570]\n",
      " [ 2172  1146]]\n",
      "accuracy: 0.82\n",
      "class 0, precision: 0.84, recall: 0.95,  f-score: 0.89\n",
      "class 1, precision: 0.67, recall: 0.35,  f-score: 0.46\n"
     ]
    }
   ],
   "source": [
    "# Confusion Matrix\n",
    "\n",
    "from sklearn import metrics\n",
    "\n",
    "CM = metrics.confusion_matrix(y_test, predY)\n",
    "\n",
    "print(CM)\n",
    "print(\"accuracy: %.2f\" % metrics.accuracy_score(y_test, predY))\n",
    "\n",
    "# calculate precision and recall (and f-score, a weighted average of precision and recall) \n",
    "precision,recall,fscore,_ = metrics.precision_recall_fscore_support(y_test, predY )\n",
    "for c in np.unique(y_test):\n",
    "        print(\"class %s, precision: %.2f, recall: %.2f,  f-score: %.2f\" % (c, precision[c], recall[c], fscore[c]))"
   ]
  },
  {
   "cell_type": "markdown",
   "metadata": {},
   "source": [
    "## Boosting (Katie)"
   ]
  },
  {
   "cell_type": "code",
   "execution_count": 9,
   "metadata": {},
   "outputs": [
    {
     "name": "stdout",
     "output_type": "stream",
     "text": [
      "{'loss': 'deviance', 'n_estimators': 100}\n"
     ]
    }
   ],
   "source": [
    "from sklearn.ensemble import GradientBoostingClassifier\n",
    "\n",
    "boost = GradientBoostingClassifier()\n",
    "\n",
    "parameters = {\n",
    "    'n_estimators': [100,300,500,700,900],\n",
    "    'loss': ['deviance', 'exponential']\n",
    "}\n",
    "\n",
    "grid = GridSearchCV(estimator=boost, param_grid=parameters, \n",
    "                    scoring='accuracy', cv=5, n_jobs=-1)\n",
    "\n",
    "grid.fit(X_train, y_train)\n",
    "\n",
    "best_params = grid.best_params_\n",
    "print(best_params)"
   ]
  },
  {
   "cell_type": "code",
   "execution_count": 10,
   "metadata": {},
   "outputs": [],
   "source": [
    "# Plotting the accuracy of hyper parameters \n",
    "import numpy as np\n",
    "\n",
    "mean_accuracies = grid.cv_results_['mean_test_score']\n",
    "stds = grid.cv_results_['std_test_score']\n",
    "params_combos = grid.cv_results_['params']\n",
    "\n",
    "deviance = []\n",
    "exponential = []\n",
    "for p,m, in zip(params_combos, mean_accuracies):\n",
    "    if p['loss'] == 'deviance':\n",
    "        deviance.append(m)\n",
    "    if p['loss'] == 'exponential':\n",
    "        exponential.append(m)"
   ]
  },
  {
   "cell_type": "code",
   "execution_count": 12,
   "metadata": {},
   "outputs": [
    {
     "data": {
      "image/png": "[encoded data removed]",
      "text/plain": [
       "<Figure size 432x288 with 1 Axes>"
      ]
     },
     "metadata": {
      "needs_background": "light"
     },
     "output_type": "display_data"
    }
   ],
   "source": [
    "import matplotlib.pyplot as plt\n",
    "\n",
    "plt.plot([x for x in parameters['n_estimators']], [x for x in deviance], 'bo-')\n",
    "plt.plot([x for x in parameters['n_estimators']], [x for x in exponential], 'rv--')\n",
    "plt.legend(['Loss measure: Deviance', 'Exponential'])\n",
    "plt.xlabel('N-estimators')\n",
    "plt.ylabel('Mean Accuracy')\n",
    "plt.title(\"Accuracy by N-estimators and loss measure\")\n",
    "plt.show()"
   ]
  },
  {
   "cell_type": "code",
   "execution_count": 13,
   "metadata": {},
   "outputs": [],
   "source": [
    "best_boost = grid.best_estimator_"
   ]
  },
  {
   "cell_type": "code",
   "execution_count": 14,
   "metadata": {},
   "outputs": [
    {
     "data": {
      "text/html": [
       "<div>\n",
       "<style scoped>\n",
       "    .dataframe tbody tr th:only-of-type {\n",
       "        vertical-align: middle;\n",
       "    }\n",
       "\n",
       "    .dataframe tbody tr th {\n",
       "        vertical-align: top;\n",
       "    }\n",
       "\n",
       "    .dataframe thead th {\n",
       "        text-align: right;\n",
       "    }\n",
       "</style>\n",
       "<table border=\"1\" class=\"dataframe\">\n",
       "  <thead>\n",
       "    <tr style=\"text-align: right;\">\n",
       "      <th></th>\n",
       "      <th>True</th>\n",
       "      <th>PredictedClass</th>\n",
       "    </tr>\n",
       "  </thead>\n",
       "  <tbody>\n",
       "    <tr>\n",
       "      <td>0</td>\n",
       "      <td>1</td>\n",
       "      <td>0</td>\n",
       "    </tr>\n",
       "    <tr>\n",
       "      <td>1</td>\n",
       "      <td>0</td>\n",
       "      <td>0</td>\n",
       "    </tr>\n",
       "    <tr>\n",
       "      <td>2</td>\n",
       "      <td>0</td>\n",
       "      <td>0</td>\n",
       "    </tr>\n",
       "    <tr>\n",
       "      <td>3</td>\n",
       "      <td>0</td>\n",
       "      <td>0</td>\n",
       "    </tr>\n",
       "    <tr>\n",
       "      <td>4</td>\n",
       "      <td>0</td>\n",
       "      <td>0</td>\n",
       "    </tr>\n",
       "    <tr>\n",
       "      <td>...</td>\n",
       "      <td>...</td>\n",
       "      <td>...</td>\n",
       "    </tr>\n",
       "    <tr>\n",
       "      <td>14995</td>\n",
       "      <td>0</td>\n",
       "      <td>0</td>\n",
       "    </tr>\n",
       "    <tr>\n",
       "      <td>14996</td>\n",
       "      <td>0</td>\n",
       "      <td>0</td>\n",
       "    </tr>\n",
       "    <tr>\n",
       "      <td>14997</td>\n",
       "      <td>0</td>\n",
       "      <td>0</td>\n",
       "    </tr>\n",
       "    <tr>\n",
       "      <td>14998</td>\n",
       "      <td>1</td>\n",
       "      <td>1</td>\n",
       "    </tr>\n",
       "    <tr>\n",
       "      <td>14999</td>\n",
       "      <td>1</td>\n",
       "      <td>0</td>\n",
       "    </tr>\n",
       "  </tbody>\n",
       "</table>\n",
       "<p>15000 rows × 2 columns</p>\n",
       "</div>"
      ],
      "text/plain": [
       "       True  PredictedClass\n",
       "0         1               0\n",
       "1         0               0\n",
       "2         0               0\n",
       "3         0               0\n",
       "4         0               0\n",
       "...     ...             ...\n",
       "14995     0               0\n",
       "14996     0               0\n",
       "14997     0               0\n",
       "14998     1               1\n",
       "14999     1               0\n",
       "\n",
       "[15000 rows x 2 columns]"
      ]
     },
     "execution_count": 14,
     "metadata": {},
     "output_type": "execute_result"
    }
   ],
   "source": [
    "predY = best_boost.predict(X_test)\n",
    "predictions = pd.concat([pd.Series(y_test,name='True'), pd.Series(predY,name='PredictedClass')], axis=1)\n",
    "predictions"
   ]
  },
  {
   "cell_type": "code",
   "execution_count": 15,
   "metadata": {},
   "outputs": [
    {
     "name": "stdout",
     "output_type": "stream",
     "text": [
      "[[11113   569]\n",
      " [ 2143  1175]]\n",
      "accuracy: 0.82\n",
      "class 0, precision: 0.84, recall: 0.95,  f-score: 0.89\n",
      "class 1, precision: 0.67, recall: 0.35,  f-score: 0.46\n"
     ]
    }
   ],
   "source": [
    "from sklearn import metrics\n",
    "\n",
    "CM = metrics.confusion_matrix(y_test, predY)\n",
    "\n",
    "print(CM)\n",
    "print(\"accuracy: %.2f\" % metrics.accuracy_score(y_test, predY))\n",
    "\n",
    "# calculate precision and recall (and f-score, a weighted average of precision and recall) \n",
    "precision,recall,fscore,_ = metrics.precision_recall_fscore_support(y_test, predY )\n",
    "for c in np.unique(y_test):\n",
    "        print(\"class %s, precision: %.2f, recall: %.2f,  f-score: %.2f\" % (c, precision[c], recall[c], fscore[c]))"
   ]
  },
  {
   "cell_type": "markdown",
   "metadata": {},
   "source": [
    "## SVM (Gosia)"
   ]
  },
  {
   "cell_type": "code",
   "execution_count": 36,
   "metadata": {},
   "outputs": [],
   "source": [
    "## SVC - the fit time increaes at least quadratically with the number of samples"
   ]
  },
  {
   "cell_type": "code",
   "execution_count": 37,
   "metadata": {},
   "outputs": [
    {
     "data": {
      "text/plain": [
       "'\\nTried using PCA to reduce dimensionality (tried 2,4 and 10 components) and to make the algorithm run faster, but \\nthe accuracy results were lower; seems like it was gettind rid of useful information.\\n'"
      ]
     },
     "execution_count": 37,
     "metadata": {},
     "output_type": "execute_result"
    }
   ],
   "source": [
    "'''\n",
    "Tried using PCA to reduce dimensionality (tried 2,4 and 10 components) and to make the algorithm run faster, but \n",
    "the accuracy results were lower; seems like it was gettind rid of useful information.\n",
    "'''\n",
    "# from sklearn.decomposition import PCA\n",
    "\n",
    "# pca = PCA(n_components=10)\n",
    "# pca.fit(X_train)\n",
    "# X_t_train = pca.transform(X_train)\n",
    "# X_t_test = pca.transform(X_test)"
   ]
  },
  {
   "cell_type": "code",
   "execution_count": 38,
   "metadata": {},
   "outputs": [],
   "source": [
    "# X_t_train"
   ]
  },
  {
   "cell_type": "code",
   "execution_count": 39,
   "metadata": {},
   "outputs": [
    {
     "name": "stdout",
     "output_type": "stream",
     "text": [
      "best accuracy and parameters are 0.8189333333333334 {'C': 1, 'kernel': 'rbf'}\n"
     ]
    }
   ],
   "source": [
    "from sklearn.svm import SVC\n",
    "from sklearn.model_selection import GridSearchCV\n",
    "\n",
    "# Support Vector Classification\n",
    "svc = SVC(gamma = 'auto')\n",
    "\n",
    "'''\n",
    "SVMs find the best way of diving data into two classes by searching for a hyperplane that best divides \n",
    "a dataset into two classes. Support vectors are the points nearest to the hyperplane. \n",
    "\n",
    "- C -  Regularization parameter. The strength of the regularization is inversely proportional to C. \n",
    "    Must be strictly positive. The penalty is a squared l2 penalty.\n",
    "- kernel - kernel type. \n",
    "'''\n",
    "\n",
    "parameters = {\n",
    "    \n",
    "    'C' : [0.01,0.04,0.08,0.1,0.2,0.4,0.8,1,2],\n",
    "    'kernel' : ['sigmoid','rbf']\n",
    "    \n",
    "}\n",
    "\n",
    "grid = GridSearchCV(estimator = svc, param_grid= parameters, scoring = 'accuracy', cv=5, n_jobs=-1)\n",
    "grid.fit(X=X_train, y=y_train)\n",
    "scores = grid.cv_results_\n",
    "best_svm_model = grid.best_estimator_\n",
    "print ('best accuracy and parameters are', grid.best_score_, grid.best_params_)"
   ]
  },
  {
   "cell_type": "code",
   "execution_count": 40,
   "metadata": {},
   "outputs": [],
   "source": [
    "sigmoid, rbf = { 'means' : [] }, { 'means' : []}"
   ]
  },
  {
   "cell_type": "code",
   "execution_count": 41,
   "metadata": {},
   "outputs": [],
   "source": [
    "mean_accuracies = scores['mean_test_score']\n",
    "params = scores['params']\n",
    "\n",
    "for i in range(len(mean_accuracies)):\n",
    "    if (params[i]['kernel'] == 'sigmoid'):\n",
    "        sigmoid['means'].append(mean_accuracies[i])\n",
    "    if (params[i]['kernel'] == 'rbf'):\n",
    "        rbf['means'].append(mean_accuracies[i])\n"
   ]
  },
  {
   "cell_type": "code",
   "execution_count": 42,
   "metadata": {},
   "outputs": [
    {
     "data": {
      "image/png": "[encoded data removed]",
      "text/plain": [
       "<Figure size 432x288 with 1 Axes>"
      ]
     },
     "metadata": {
      "needs_background": "light"
     },
     "output_type": "display_data"
    }
   ],
   "source": [
    "import matplotlib.pyplot as plt\n",
    "\n",
    "\n",
    "plt.plot([x for x in parameters['C']], sigmoid['means'], 'mv--')\n",
    "plt.plot([x for x in parameters['C']], rbf['means'],'bo-')\n",
    "plt.title('Accuracy by regularization parameter and type of kernel used')\n",
    "plt.legend(['sigmoid', 'rbf'])\n",
    "plt.xlabel('C')\n",
    "plt.ylabel('Mean Accuracy')\n",
    "plt.show()"
   ]
  },
  {
   "cell_type": "code",
   "execution_count": 43,
   "metadata": {},
   "outputs": [],
   "source": [
    "#predictions using parameters of the best svm model found\n",
    "predY = best_svm_model.predict(X_test)"
   ]
  },
  {
   "cell_type": "code",
   "execution_count": 44,
   "metadata": {},
   "outputs": [
    {
     "name": "stdout",
     "output_type": "stream",
     "text": [
      "Accuracy on test data is 0.819\n"
     ]
    }
   ],
   "source": [
    "from sklearn.metrics import accuracy_score\n",
    "\n",
    "print('Accuracy on test data is %.3f' % (accuracy_score(y_test, predY)))"
   ]
  },
  {
   "cell_type": "code",
   "execution_count": 45,
   "metadata": {},
   "outputs": [
    {
     "data": {
      "text/html": [
       "<div>\n",
       "<style scoped>\n",
       "    .dataframe tbody tr th:only-of-type {\n",
       "        vertical-align: middle;\n",
       "    }\n",
       "\n",
       "    .dataframe tbody tr th {\n",
       "        vertical-align: top;\n",
       "    }\n",
       "\n",
       "    .dataframe thead th {\n",
       "        text-align: right;\n",
       "    }\n",
       "</style>\n",
       "<table border=\"1\" class=\"dataframe\">\n",
       "  <thead>\n",
       "    <tr style=\"text-align: right;\">\n",
       "      <th></th>\n",
       "      <th>True</th>\n",
       "      <th>PredictedClass</th>\n",
       "    </tr>\n",
       "  </thead>\n",
       "  <tbody>\n",
       "    <tr>\n",
       "      <th>0</th>\n",
       "      <td>1</td>\n",
       "      <td>0</td>\n",
       "    </tr>\n",
       "    <tr>\n",
       "      <th>1</th>\n",
       "      <td>0</td>\n",
       "      <td>0</td>\n",
       "    </tr>\n",
       "    <tr>\n",
       "      <th>2</th>\n",
       "      <td>0</td>\n",
       "      <td>0</td>\n",
       "    </tr>\n",
       "    <tr>\n",
       "      <th>3</th>\n",
       "      <td>0</td>\n",
       "      <td>0</td>\n",
       "    </tr>\n",
       "    <tr>\n",
       "      <th>4</th>\n",
       "      <td>0</td>\n",
       "      <td>0</td>\n",
       "    </tr>\n",
       "    <tr>\n",
       "      <th>...</th>\n",
       "      <td>...</td>\n",
       "      <td>...</td>\n",
       "    </tr>\n",
       "    <tr>\n",
       "      <th>14995</th>\n",
       "      <td>0</td>\n",
       "      <td>0</td>\n",
       "    </tr>\n",
       "    <tr>\n",
       "      <th>14996</th>\n",
       "      <td>0</td>\n",
       "      <td>0</td>\n",
       "    </tr>\n",
       "    <tr>\n",
       "      <th>14997</th>\n",
       "      <td>0</td>\n",
       "      <td>0</td>\n",
       "    </tr>\n",
       "    <tr>\n",
       "      <th>14998</th>\n",
       "      <td>1</td>\n",
       "      <td>1</td>\n",
       "    </tr>\n",
       "    <tr>\n",
       "      <th>14999</th>\n",
       "      <td>1</td>\n",
       "      <td>0</td>\n",
       "    </tr>\n",
       "  </tbody>\n",
       "</table>\n",
       "<p>15000 rows × 2 columns</p>\n",
       "</div>"
      ],
      "text/plain": [
       "       True  PredictedClass\n",
       "0         1               0\n",
       "1         0               0\n",
       "2         0               0\n",
       "3         0               0\n",
       "4         0               0\n",
       "...     ...             ...\n",
       "14995     0               0\n",
       "14996     0               0\n",
       "14997     0               0\n",
       "14998     1               1\n",
       "14999     1               0\n",
       "\n",
       "[15000 rows x 2 columns]"
      ]
     },
     "execution_count": 45,
     "metadata": {},
     "output_type": "execute_result"
    }
   ],
   "source": [
    "predictions = pd.concat([pd.Series(y_test,name='True'), pd.Series(predY,name='PredictedClass')], axis=1)\n",
    "predictions"
   ]
  },
  {
   "cell_type": "code",
   "execution_count": 46,
   "metadata": {},
   "outputs": [
    {
     "data": {
      "text/plain": [
       "array([[11212,   470],\n",
       "       [ 2243,  1075]], dtype=int64)"
      ]
     },
     "execution_count": 46,
     "metadata": {},
     "output_type": "execute_result"
    }
   ],
   "source": [
    "from sklearn.metrics import confusion_matrix\n",
    "CM = confusion_matrix(y_test, predY, labels=[0, 1])\n",
    "CM"
   ]
  },
  {
   "cell_type": "code",
   "execution_count": 47,
   "metadata": {},
   "outputs": [
    {
     "data": {
      "text/plain": [
       "0.32399035563592526"
      ]
     },
     "execution_count": 47,
     "metadata": {},
     "output_type": "execute_result"
    }
   ],
   "source": [
    "tn, fp, fn, tp = CM.ravel()\n",
    "(tn, fp, fn, tp)\n",
    "\n",
    "recall=tp/(tp+fn)\n",
    "recall"
   ]
  },
  {
   "cell_type": "code",
   "execution_count": 48,
   "metadata": {},
   "outputs": [
    {
     "data": {
      "text/plain": [
       "0.6957928802588996"
      ]
     },
     "execution_count": 48,
     "metadata": {},
     "output_type": "execute_result"
    }
   ],
   "source": [
    "# precision\n",
    "prec=tp/(tp+fp)\n",
    "prec"
   ]
  },
  {
   "cell_type": "code",
   "execution_count": 49,
   "metadata": {},
   "outputs": [
    {
     "data": {
      "text/plain": [
       "0.44211392144766604"
      ]
     },
     "execution_count": 49,
     "metadata": {},
     "output_type": "execute_result"
    }
   ],
   "source": [
    "# f1 \n",
    "f1= 2*prec*recall / (prec+recall)\n",
    "f1"
   ]
  },
  {
   "cell_type": "code",
   "execution_count": 51,
   "metadata": {},
   "outputs": [
    {
     "name": "stdout",
     "output_type": "stream",
     "text": [
      "class 0, precision: 0.83, recall: 0.96,  f-score: 0.89\n",
      "class 1, precision: 0.70, recall: 0.32,  f-score: 0.44\n"
     ]
    }
   ],
   "source": [
    "from sklearn import metrics\n",
    "# calculate precision and recall for each class \n",
    "precision,recall,fscore,_ = metrics.precision_recall_fscore_support(y_test, predY)\n",
    "for c in np.unique(y_test):\n",
    "        print(\"class %s, precision: %.3f, recall: %.3f,  f-score: %.3f\" % (c, precision[c], recall[c], fscore[c]))"
   ]
  },
  {
   "cell_type": "markdown",
   "metadata": {},
   "source": [
    "###############"
   ]
  },
  {
   "cell_type": "code",
   "execution_count": null,
   "metadata": {},
   "outputs": [],
   "source": [
    "from sklearn.ensemble import RandomForestClassifier\n",
    "#{'max_features': 11, 'n_estimators': 900}\n",
    "\n",
    "rfc = RandomForestClassifier(random_state=0, criterion='gini', bootstrap=True, max_features=11,n_estimators=900)\n",
    "rfc.fit(X_train, y_train)\n",
    "predY= rfc.predict(X_test)\n",
    "\n",
    "CM = metrics.confusion_matrix(y_test, predY)\n",
    "\n",
    "print(CM)\n",
    "print(\"accuracy: %.3f\" % metrics.accuracy_score(y_test, predY))\n",
    "print('precision: %.3f' % precision_score(y_test,predY))\n",
    "print('recall: %.3f'  % recall_score(y_test,predY))\n",
    "print('f1 score: %.3f' % f1_score(y_test,predY))\n",
    "\n",
    "# calculate precision and recall (and f-score, a weighted average of precision and recall) \n",
    "precision,recall,fscore,_ = metrics.precision_recall_fscore_support(y_test, predY )\n",
    "for c in np.unique(y_test):\n",
    "        print(\"class %s, precision: %.3f, recall: %.3f,  f-score: %.3f\" % (c, precision[c], recall[c], fscore[c]))"
   ]
  },
  {
   "cell_type": "code",
   "execution_count": 172,
   "metadata": {},
   "outputs": [
    {
     "name": "stdout",
     "output_type": "stream",
     "text": [
      "[[11114   568]\n",
      " [ 2172  1146]]\n",
      "accuracy: 0.817\n",
      "precision: 0.669\n",
      "recall: 0.345\n",
      "f1 score: 0.455\n",
      "class 0, precision: 0.837, recall: 0.951,  f-score: 0.890\n",
      "class 1, precision: 0.669, recall: 0.345,  f-score: 0.455\n"
     ]
    }
   ],
   "source": [
    "from sklearn.ensemble import BaggingClassifier\n",
    "\n",
    "#{'bootstrap': True, 'n_estimators': 300}\n",
    "bag = BaggingClassifier(bootstrap=True,n_estimators=300)\n",
    "bag.fit(X_train, y_train)\n",
    "\n",
    "predY= bag.predict(X_test)\n",
    "\n",
    "CM = metrics.confusion_matrix(y_test, predY)\n",
    "\n",
    "print(CM)\n",
    "print(\"accuracy: %.3f\" % metrics.accuracy_score(y_test, predY))\n",
    "print('precision: %.3f' % precision_score(y_test,predY))\n",
    "print('recall: %.3f'  % recall_score(y_test,predY))\n",
    "print('f1 score: %.3f' % f1_score(y_test,predY))\n",
    "\n",
    "# calculate precision and recall (and f-score, a weighted average of precision and recall) \n",
    "precision,recall,fscore,_ = metrics.precision_recall_fscore_support(y_test, predY )\n",
    "for c in np.unique(y_test):\n",
    "        print(\"class %s, precision: %.3f, recall: %.3f,  f-score: %.3f\" % (c, precision[c], recall[c], fscore[c]))"
   ]
  },
  {
   "cell_type": "code",
   "execution_count": 173,
   "metadata": {},
   "outputs": [
    {
     "name": "stdout",
     "output_type": "stream",
     "text": [
      "[[11110   572]\n",
      " [ 2143  1175]]\n",
      "accuracy: 0.819\n",
      "precision: 0.673\n",
      "recall: 0.354\n",
      "f1 score: 0.464\n",
      "class 0, precision: 0.838, recall: 0.951,  f-score: 0.891\n",
      "class 1, precision: 0.673, recall: 0.354,  f-score: 0.464\n"
     ]
    }
   ],
   "source": [
    "from sklearn import metrics\n",
    "\n",
    "from sklearn.ensemble import GradientBoostingClassifier\n",
    "\n",
    "boost = GradientBoostingClassifier(loss='deviance', n_estimators=100)\n",
    "\n",
    "boost.fit(X_train, y_train)\n",
    "\n",
    "predY = boost.predict(X_test)\n",
    "\n",
    "CM = metrics.confusion_matrix(y_test, predY)\n",
    "\n",
    "print(CM)\n",
    "print(\"accuracy: %.3f\" % metrics.accuracy_score(y_test, predY))\n",
    "print('precision: %.3f' % precision_score(y_test,predY))\n",
    "print('recall: %.3f'  % recall_score(y_test,predY))\n",
    "print('f1 score: %.3f' % f1_score(y_test,predY))\n",
    "\n",
    "# calculate precision and recall (and f-score, a weighted average of precision and recall) \n",
    "precision,recall,fscore,_ = metrics.precision_recall_fscore_support(y_test, predY )\n",
    "for c in np.unique(y_test):\n",
    "        print(\"class %s, precision: %.3f, recall: %.3f,  f-score: %.3f\" % (c, precision[c], recall[c], fscore[c]))"
   ]
  },
  {
   "cell_type": "code",
   "execution_count": null,
   "metadata": {},
   "outputs": [],
   "source": []
  },
  {
   "cell_type": "markdown",
   "metadata": {},
   "source": [
    "## Conclusion"
   ]
  },
  {
   "cell_type": "markdown",
   "metadata": {},
   "source": [
    "After tuning all of these algorthms give very similar results. However, Random Forest, Bagging and Boosting (best) achieved slightly better results than every other method that we have tested. These three algorithms are examples of ensemble methods which gain power by using many instances of themselves (repeated), which explains why they are able to achieve very good results. "
   ]
  },
  {
   "cell_type": "code",
   "execution_count": null,
   "metadata": {},
   "outputs": [],
   "source": []
  }
 ],
 "metadata": {
  "kernelspec": {
   "display_name": "Python 3",
   "language": "python",
   "name": "python3"
  },
  "language_info": {
   "codemirror_mode": {
    "name": "ipython",
    "version": 3
   },
   "file_extension": ".py",
   "mimetype": "text/x-python",
   "name": "python",
   "nbconvert_exporter": "python",
   "pygments_lexer": "ipython3",
   "version": "3.7.4"
  }
 },
 "nbformat": 4,
 "nbformat_minor": 2
}
